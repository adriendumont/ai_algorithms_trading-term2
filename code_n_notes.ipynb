{
 "cells": [
  {
   "cell_type": "markdown",
   "metadata": {
    "toc": true
   },
   "source": [
    "<h1>Table of Contents<span class=\"tocSkip\"></span></h1>\n",
    "<div class=\"toc\"><ul class=\"toc-item\"><li><span><a href=\"#Term-2:-AI-Algorithms-in-Trading\" data-toc-modified-id=\"Term-2:-AI-Algorithms-in-Trading-1\">Term 2: AI Algorithms in Trading</a></span><ul class=\"toc-item\"><li><span><a href=\"#Tools\" data-toc-modified-id=\"Tools-1.1\">Tools</a></span></li><li><span><a href=\"#Lesson-1---Welcome-to-Term-2!\" data-toc-modified-id=\"Lesson-1---Welcome-to-Term-2!-1.2\">Lesson 1 - Welcome to Term 2!</a></span></li><li><span><a href=\"#Lesson-2---Intro-to-Natural-Language-Processing\" data-toc-modified-id=\"Lesson-2---Intro-to-Natural-Language-Processing-1.3\">Lesson 2 - Intro to Natural Language Processing</a></span></li><li><span><a href=\"#Lesson-3-Text-Processing\" data-toc-modified-id=\"Lesson-3-Text-Processing-1.4\">Lesson 3 Text Processing</a></span></li><li><span><a href=\"#Lesson-4---Feature-Extraction\" data-toc-modified-id=\"Lesson-4---Feature-Extraction-1.5\">Lesson 4 - Feature Extraction</a></span></li><li><span><a href=\"#Lesson-4---Feature-Extraction\" data-toc-modified-id=\"Lesson-4---Feature-Extraction-1.6\">Lesson 4 - Feature Extraction</a></span></li><li><span><a href=\"#Lesson-5---Financial-Statements\" data-toc-modified-id=\"Lesson-5---Financial-Statements-1.7\">Lesson 5 - Financial Statements</a></span></li><li><span><a href=\"#Lesson-6---Basic-NLP-Analysis\" data-toc-modified-id=\"Lesson-6---Basic-NLP-Analysis-1.8\">Lesson 6 - Basic NLP Analysis</a></span></li><li><span><a href=\"#Project-5:-NLP-on-Financial-Statements\" data-toc-modified-id=\"Project-5:-NLP-on-Financial-Statements-1.9\">Project 5: NLP on Financial Statements</a></span></li><li><span><a href=\"#Lesson-8---Introduction-to-Neural-Networks\" data-toc-modified-id=\"Lesson-8---Introduction-to-Neural-Networks-1.10\">Lesson 8 - Introduction to Neural Networks</a></span></li><li><span><a href=\"#Lesson-9---Training-Neural-Networks\" data-toc-modified-id=\"Lesson-9---Training-Neural-Networks-1.11\">Lesson 9 - Training Neural Networks</a></span></li><li><span><a href=\"#Lesson-10---Deep-Learning-with-PyTorch\" data-toc-modified-id=\"Lesson-10---Deep-Learning-with-PyTorch-1.12\">Lesson 10 - Deep Learning with PyTorch</a></span></li><li><span><a href=\"#Lesson-11---Recurrent-Neural-Networks\" data-toc-modified-id=\"Lesson-11---Recurrent-Neural-Networks-1.13\">Lesson 11 - Recurrent Neural Networks</a></span></li><li><span><a href=\"#Lesson-12---Embeddings-&amp;-Word2Vec\" data-toc-modified-id=\"Lesson-12---Embeddings-&amp;-Word2Vec-1.14\">Lesson 12 - Embeddings &amp; Word2Vec</a></span></li><li><span><a href=\"#Lesson-13---Sentiment-Prediction-RNN\" data-toc-modified-id=\"Lesson-13---Sentiment-Prediction-RNN-1.15\">Lesson 13 - Sentiment Prediction RNN</a></span></li><li><span><a href=\"#Project-6---Sentiment-Analysis-with-Neural-Networks\" data-toc-modified-id=\"Project-6---Sentiment-Analysis-with-Neural-Networks-1.16\">Project 6 - Sentiment Analysis with Neural Networks</a></span></li><li><span><a href=\"#Project-7---Combine-Signals-for-Enhanced-Alpha\" data-toc-modified-id=\"Project-7---Combine-Signals-for-Enhanced-Alpha-1.17\">Project 7 - Combine Signals for Enhanced Alpha</a></span></li><li><span><a href=\"#Strengthen-Your-Online-Presence-Using-LinkedIn\" data-toc-modified-id=\"Strengthen-Your-Online-Presence-Using-LinkedIn-1.18\">Strengthen Your Online Presence Using LinkedIn</a></span></li><li><span><a href=\"#Optimize-Your-GitHub-Profile\" data-toc-modified-id=\"Optimize-Your-GitHub-Profile-1.19\">Optimize Your GitHub Profile</a></span></li><li><span><a href=\"#Project-8---Backtesting\" data-toc-modified-id=\"Project-8---Backtesting-1.20\">Project 8 - Backtesting</a></span></li></ul></li><li><span><a href=\"#Resources-&amp;-Links\" data-toc-modified-id=\"Resources-&amp;-Links-2\">Resources &amp; Links</a></span></li></ul></div>"
   ]
  },
  {
   "cell_type": "markdown",
   "metadata": {},
   "source": [
    "# Term 2: AI Algorithms in Trading \n",
    "**Welcome to Term 2! Say hello to your instructors and get an overview of the program.**\n",
    "\n",
    "## Tools\n",
    "\n",
    "- [Code Notes (Hypothes.is)](https://hypothes.is/users/heath.d.robertson)\n",
    "- [Formulas (Screenshots)](https://photos.app.goo.gl/N8bkxPQvavkgvAxL7)\n",
    "- [LaTex Equation Editor](https://www.codecogs.com/latex/eqneditor.php)\n",
    "\n",
    "\n",
    "__Reference__\n",
    "\n",
    "- [Natural Language Toolkit (NLTK)](https://www.nltk.org/)\n",
    "- [Beautiful Soup](https://www.crummy.com/software/BeautifulSoup/bs4/doc/)\n",
    "- [Regular Expresssions](https://docs.python.org/3.6/library/re.html#module-re)"
   ]
  },
  {
   "cell_type": "markdown",
   "metadata": {},
   "source": [
    "## Lesson 1 - Welcome to Term 2!\n",
    "**Say hello to your instructors and get an overview of the program.**"
   ]
  },
  {
   "cell_type": "markdown",
   "metadata": {},
   "source": [
    "## Lesson 2 - Intro to Natural Language Processing\n",
    "**Learn how to build a Natural Language Processing pipeline.**"
   ]
  },
  {
   "cell_type": "markdown",
   "metadata": {},
   "source": [
    "## Lesson 3 Text Processing\n",
    "**Learn to prepare text obtained from different sources for further processing, by cleaning, normalizing and splitting it into individual words or tokens.**\n",
    "\n",
    "\n",
    "---\n",
    "\n",
    "- [S11 Processing Tweets](/notebooks/lesson_notebooks/l3/process_tweets/process_tweets.ipynb)\n",
    "- [S12 Text Processing Coding Examples](/notebooks/lesson_notebooks/l3/code_examples/text_processing.ipynb)"
   ]
  },
  {
   "cell_type": "markdown",
   "metadata": {},
   "source": [
    "## Lesson 4 - Feature Extraction\n",
    "**Transform text using methods like Bag-of-Words, TF-IDF, Word2Vec and GloVE to extract features that you can use in machine learning models.**\n"
   ]
  },
  {
   "cell_type": "markdown",
   "metadata": {},
   "source": [
    "## Lesson 5 - Financial Statements\n",
    "**Learn how to scrape data from financial documents using Regular Expressions and BeautifulSoup**\n",
    "\n",
    "## Lesson 6 - Basic NLP Analysis\n",
    "**Learn how to apply to NLP to financial statements**\n",
    "\n",
    "## Project 5: NLP on Financial Statements\n",
    "**NLP Analysis on 10-k financial statements to generate an alpha factor.**\n",
    "\n",
    "## Lesson 8 - Introduction to Neural Networks\n",
    "**In this lesson, Luis will teach you the foundations of deep learning and neural networks. You'll also implement gradient descent and backpropagation in python, right here in the classroom!**\n",
    "\n",
    "## Lesson 9 - Training Neural Networks\n",
    "**Now that you know what neural networks are, in this lesson you will learn several techniques to improve their training.**\n",
    "\n",
    "## Lesson 10 - Deep Learning with PyTorch\n",
    "**Learn how to use PyTorch for building deep learning models**\n",
    "\n",
    "## Lesson 11 - Recurrent Neural Networks\n",
    "**Learn how to use recurrent neural networks to learn from sequential data such as text. Build a network that can generate realistic text one letter at a time.**\n",
    "\n",
    "## Lesson 12 - Embeddings & Word2Vec\n",
    "**In this lesson, you'll learn about embeddings in neural networks by implementing the Word2Vec model.**\n",
    "\n",
    "## Lesson 13 - Sentiment Prediction RNN\n",
    "**Implement a sentiment prediction RNN for predicting whether a movie review is positive or negative!**\n",
    "\n",
    "## Project 6 - Sentiment Analysis with Neural Networks\n",
    "**Build a deep learning model to classify the sentiment of messages.**\n",
    "\n",
    "## Project 7 - Combine Signals for Enhanced Alpha\n",
    "**Coming soon!**\n",
    "\n",
    "## Strengthen Your Online Presence Using LinkedIn\n",
    "**Find your next job or connect with industry peers on LinkedIn. Ensure your profile attracts relevant leads that will grow your professional network.**\n",
    "\n",
    "## Optimize Your GitHub Profile\n",
    "**Other professionals are collaborating on GitHub and growing their network. Submit your profile to ensure your profile is on par with leaders in your field.**\n",
    "\n",
    "## Project 8 - Backtesting"
   ]
  },
  {
   "cell_type": "markdown",
   "metadata": {},
   "source": [
    "# Resources & Links\n",
    "\n",
    "- [MSCI Barra Risk Model](https://www.msci.com/www/research-paper/barra-s-risk-models/014972229)"
   ]
  },
  {
   "cell_type": "code",
   "execution_count": 2,
   "metadata": {},
   "outputs": [
    {
     "name": "stdout",
     "output_type": "stream",
     "text": [
      "I gotta string here with file.hmbrgr and other.ketchup\n"
     ]
    }
   ],
   "source": [
    "i_string = \"I gotta string here with file.txt and other.stuff\"\n",
    "\n",
    "is_it_really_that_simple = i_string.replace('.txt', '.hmbrgr').replace('.stuff', '.ketchup') \n",
    "\n",
    "print(is_it_really_that_simple)"
   ]
  },
  {
   "cell_type": "code",
   "execution_count": null,
   "metadata": {},
   "outputs": [],
   "source": []
  }
 ],
 "metadata": {
  "kernelspec": {
   "display_name": "Python 3",
   "language": "python",
   "name": "python3"
  },
  "language_info": {
   "codemirror_mode": {
    "name": "ipython",
    "version": 3
   },
   "file_extension": ".py",
   "mimetype": "text/x-python",
   "name": "python",
   "nbconvert_exporter": "python",
   "pygments_lexer": "ipython3",
   "version": "3.6.8"
  },
  "toc": {
   "base_numbering": "1",
   "nav_menu": {
    "height": "295px",
    "width": "480px"
   },
   "number_sections": false,
   "sideBar": true,
   "skip_h1_title": false,
   "title_cell": "Table of Contents",
   "title_sidebar": "Contents",
   "toc_cell": true,
   "toc_position": {
    "height": "calc(100% - 180px)",
    "left": "10px",
    "top": "150px",
    "width": "384px"
   },
   "toc_section_display": true,
   "toc_window_display": true
  }
 },
 "nbformat": 4,
 "nbformat_minor": 2
}
