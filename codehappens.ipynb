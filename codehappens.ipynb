{
 "cells": [
  {
   "cell_type": "code",
   "execution_count": 1,
   "metadata": {},
   "outputs": [],
   "source": [
    "# Test 2\n",
    "ten_k_real_compressed_doc = '\\n' \\\n",
    "    '<TYPE>10-K\\n' \\\n",
    "    '<SEQUENCE>1\\n' \\\n",
    "    '<FILENAME>test-20171231x10k.htm\\n' \\\n",
    "    '<DESCRIPTION>10-K\\n' \\\n",
    "    '<TEXT>\\n' \\\n",
    "    '<!DOCTYPE html PUBLIC \"-//W3C//DTD HTML 4.01 Transitional//EN\" \"http://www.w3.org/TR/html4/loose.dtd\">\\n' \\\n",
    "    '<html>\\n' \\\n",
    "    '\t<head>\\n' \\\n",
    "    '\t\t<title>Document</title>\\n' \\\n",
    "    '\t</head>\\n' \\\n",
    "    '\t<body style=\"font-family:Times New Roman;font-size:10pt;\">\\n' \\\n",
    "    '...\\n' \\\n",
    "    '<td><strong> Data Type:</strong></td>\\n' \\\n",
    "    '<td>xbrli:sharesItemType</td>\\n' \\\n",
    "    '</tr>\\n' \\\n",
    "    '<tr>\\n' \\\n",
    "    '<td><strong> Balance Type:</strong></td>\\n' \\\n",
    "    '<td>na</td>\\n' \\\n",
    "    '</tr>\\n' \\\n",
    "    '<tr>\\n' \\\n",
    "    '<td><strong> Period Type:</strong></td>\\n' \\\n",
    "    '<td>duration</td>\\n' \\\n",
    "    '</tr>\\n' \\\n",
    "    '</table></div>\\n' \\\n",
    "    '</div></td></tr>\\n' \\\n",
    "    '</table>\\n' \\\n",
    "    '</div>\\n' \\\n",
    "    '</body>\\n' \\\n",
    "    '</html>\\n' \\\n",
    "    '</TEXT>\\n'\n",
    "excel_real_compressed_doc = '\\n' \\\n",
    "    '<TYPE>EXCEL\\n' \\\n",
    "    '<SEQUENCE>106\\n' \\\n",
    "    '<FILENAME>Financial_Report.xlsx\\n' \\\n",
    "    '<DESCRIPTION>IDEA: XBRL DOCUMENT\\n' \\\n",
    "    '<TEXT>\\n' \\\n",
    "    'begin 644 Financial_Report.xlsx\\n' \\\n",
    "    'M4$L#!!0    ( %\"E04P?(\\\\#P    !,\"   +    7W)E;,O+G)E;.MDD^+\\n' \\\n",
    "    'MPD ,Q;]*F?L:5\\#8CUYZ6U9_ )Q)OU#.Y,A$[%^>X>];+=44/ 87O+>CT?V\\n' \\\n",
    "    '...\\n' \\\n",
    "    'M,C,Q7V1E9BYX;6Q02P$\"% ,4    \" !0I4%,>V7[]F0L 0!(@A  %0\\n' \\\n",
    "    'M        @ %N9@, 86UZ;BTR,#$W,3(S,5]L86(N>&UL4$L! A0#%     @\\n' \\\n",
    "    'M4*5!3*U*Q:W#O0  U=\\) !4              ( !!9,$ &%M>FXM,C Q-S$R\\n' \\\n",
    "    '@,S%?<)E+GAM;%!+!08     !@ & (H!  #[4 4    !\\n' \\\n",
    "    '\\n' \\\n",
    "    'end\\n' \\\n",
    "    '</TEXT>\\n'\n",
    "real_compressed_text = '<SEC-DOCUMENT>0002014754-18-050402.txt : 20180202\\n' \\\n",
    "    '<SEC-HEADER>00002014754-18-050402.hdr.sgml : 20180202\\n' \\\n",
    "    '<ACCEPTANCE-DATETIME>20180201204115\\n' \\\n",
    "    'ACCESSION NUMBER:\t\t0002014754-18-050402\\n' \\\n",
    "    'CONFORMED SUBMISSION TYPE:\t10-K\\n' \\\n",
    "    'PUBLIC DOCUMENT COUNT:\t\t110\\n' \\\n",
    "    'CONFORMED PERIOD OF REPORT:\t20171231\\n' \\\n",
    "    'FILED AS OF DATE:\t\t20180202\\n' \\\n",
    "    'DATE AS OF CHANGE:\t\t20180201\\n' \\\n",
    "    '\\n' \\\n",
    "    'FILER:\\n' \\\n",
    "    '\\n' \\\n",
    "    '\tCOMPANY DATA:\t\\n' \\\n",
    "    '\t\tCOMPANY CONFORMED NAME:\t\t\tTEST\\n' \\\n",
    "    '\t\tCENTRAL INDEX KEY:\t\t\t0001018724\\n' \\\n",
    "    '\t\tSTANDARD INDUSTRIAL CLASSIFICATION:\tRANDOM [2357234]\\n' \\\n",
    "    '\t\tIRS NUMBER:\t\t\t\t91236464620\\n' \\\n",
    "    '\t\tSTATE OF INCORPORATION:\t\t\tDE\\n' \\\n",
    "    '\t\tFISCAL YEAR END:\t\t\t1231\\n' \\\n",
    "    '\\n' \\\n",
    "    '\tFILING VALUES:\\n' \\\n",
    "    '\t\tFORM TYPE:\t\t10-K\\n' \\\n",
    "    '\t\tSEC ACT:\t\t1934 Act\\n' \\\n",
    "    '\t\tSEC FILE NUMBER:\t000-2225413\\n' \\\n",
    "    '\t\tFILM NUMBER:\t\t13822526583969\\n' \\\n",
    "    '\\n' \\\n",
    "    '\tBUSINESS ADDRESS:\t\\n' \\\n",
    "    '\t\tSTREET 1:\t\t422320 PLACE AVENUE\\n' \\\n",
    "    '\t\tCITY:\t\t\tSEATTLE\\n' \\\n",
    "    '\t\tSTATE:\t\t\tWA\\n' \\\n",
    "    '\t\tZIP:\t\t\t234234\\n' \\\n",
    "    '\t\tBUSINESS PHONE:\t\t306234534246600\\n' \\\n",
    "    '\\n' \\\n",
    "    '\tMAIL ADDRESS:\t\\n' \\\n",
    "    '\t\tSTREET 1:\t\t422320 PLACE AVENUE\\n' \\\n",
    "    '\t\tCITY:\t\t\tSEATTLE\\n' \\\n",
    "    '\t\tSTATE:\t\t\tWA\\n' \\\n",
    "    '\t\tZIP:\t\t\t234234\\n' \\\n",
    "    '</SEC-HEADER>\\n' \\\n",
    "    '<DOCUMENT>{}</DOCUMENT>\\n' \\\n",
    "    '<DOCUMENT>{}</DOCUMENT>\\n' \\\n",
    "    '</SEC-DOCUMENT>\\n'.format(ten_k_real_compressed_doc, excel_real_compressed_doc)\n",
    "\n"
   ]
  },
  {
   "cell_type": "code",
   "execution_count": 69,
   "metadata": {},
   "outputs": [],
   "source": [
    "import re \n",
    "from bs4 import BeautifulSoup"
   ]
  },
  {
   "cell_type": "code",
   "execution_count": 70,
   "metadata": {},
   "outputs": [
    {
     "name": "stdout",
     "output_type": "stream",
     "text": [
      "['\\n<type>10-k\\n<sequence>1\\n<filename>test-20171231x10k.htm\\n<description>10-k\\n<text>\\n<!DOCTYPE html PUBLIC \"-//w3c//dtd html 4.01 transitional//en\" \"http://www.w3.org/tr/html4/loose.dtd\">\\n\\n<title>document</title>\\n\\t\\n\\t\\n...\\n<td><strong> data type:</strong></td>\\n<td>xbrli:sharesitemtype</td>\\n<tr>\\n<td><strong> balance type:</strong></td>\\n<td>na</td>\\n</tr>\\n<tr>\\n<td><strong> period type:</strong></td>\\n<td>duration</td>\\n</tr>\\n</text>\\n</description></filename></sequence></type>', '\\n<type>excel\\n<sequence>106\\n<filename>financial_report.xlsx\\n<description>idea: xbrl document\\n<text>\\nbegin 644 financial_report.xlsx\\nm4$l#!!0    ( %\"e04p?(\\\\#p    !,\"   +    7w)e;,o+g)e;.mdd^+\\nmpd ,q;]*f?l:5\\\\#8cuyz6u9_ )q)ou#.y,a$[%^&gt;x&gt;];+=44/ 87o+&gt;ct?v\\n...\\nm,c,q7v1e9byx;6q02p$\"% ,4    \" !0i4%,&gt;v7[]f0l 0!(@a  %0\\nm        @ %n9@, 86uz;btr,#$w,3(s,5]l86(n&gt;&amp;ul4$l! a0#%     @\\nm4*5!3*u*q:w#o0  u=\\\\) !4              ( !!9,$ &amp;%m&gt;fxm,c q-s$r\\n@,s%?\\n</text></description></filename></sequence></type>']\n"
     ]
    }
   ],
   "source": [
    "text = real_compressed_text.lower()\n",
    "\n",
    "soup = BeautifulSoup(text).find_all('document')\n",
    "g = [i.renderContents().decode(\"utf-8\")  for i in soup]\n",
    "print(g)"
   ]
  },
  {
   "cell_type": "code",
   "execution_count": 78,
   "metadata": {},
   "outputs": [
    {
     "name": "stdout",
     "output_type": "stream",
     "text": [
      "<class 'str'>\n",
      "[]\n"
     ]
    }
   ],
   "source": [
    "print(type(real_compressed_text))\n",
    "pattern = re.compile(r'<document>(.*?)</document>')\n",
    "f = re.findall(pattern, real_compressed_text)\n",
    "print(f)"
   ]
  },
  {
   "cell_type": "code",
   "execution_count": null,
   "metadata": {},
   "outputs": [],
   "source": []
  },
  {
   "cell_type": "code",
   "execution_count": 130,
   "metadata": {},
   "outputs": [
    {
     "name": "stdout",
     "output_type": "stream",
     "text": [
      "i am a  string  with punc  here \n"
     ]
    }
   ],
   "source": [
    "stri= 'I am a, string. With punc. Here!'.lower() \n",
    "pattern = re.compile(r'[^a-zA-Z0-9]')\n",
    "hh = pattern.sub(' ', stri)\n",
    "print(hh)\n"
   ]
  },
  {
   "cell_type": "code",
   "execution_count": 131,
   "metadata": {},
   "outputs": [
    {
     "name": "stdout",
     "output_type": "stream",
     "text": [
      "['a', 'b', 'car', 'a', 'car', 'car']\n",
      "{'a': 2, 'b': 1, 'car': 3}\n"
     ]
    }
   ],
   "source": [
    "l = ['a', 'b', '', 'car', 'a', '', 'car]\n",
    "ll = [item for item in l if item is not '']\n",
    "print(ll)\n",
    "d = {}\n",
    "for i in ll:\n",
    "    if i in d:\n",
    "        d[i] = d[i] + 1\n",
    "    else:\n",
    "        d[i] = 1\n",
    "print(d)"
   ]
  },
  {
   "cell_type": "code",
   "execution_count": 140,
   "metadata": {},
   "outputs": [
    {
     "name": "stdout",
     "output_type": "stream",
     "text": [
      "['I am a, string.', 'With punc here.', 'Here!']\n",
      "['I', 'am', 'a', ',', 'string', '.', 'With', 'punc', 'here', '.', 'Here', '!']\n"
     ]
    }
   ],
   "source": [
    "import nltk\n",
    "from nltk.tokenize import word_tokenize, sent_tokenize\n",
    "\n",
    "# nltk.download('punkt')\n",
    "\n",
    "i_am = 'I am a, string. With punc here. Here!'\n",
    "sent = sent_tokenize(i_am)\n",
    "print(sent)\n",
    "words = word_tokenize(i_am)\n",
    "print(words)"
   ]
  },
  {
   "cell_type": "code",
   "execution_count": null,
   "metadata": {},
   "outputs": [],
   "source": []
  }
 ],
 "metadata": {
  "kernelspec": {
   "display_name": "Python 3",
   "language": "python",
   "name": "python3"
  },
  "language_info": {
   "codemirror_mode": {
    "name": "ipython",
    "version": 3
   },
   "file_extension": ".py",
   "mimetype": "text/x-python",
   "name": "python",
   "nbconvert_exporter": "python",
   "pygments_lexer": "ipython3",
   "version": "3.6.8"
  },
  "toc": {
   "base_numbering": 1,
   "nav_menu": {},
   "number_sections": true,
   "sideBar": true,
   "skip_h1_title": false,
   "title_cell": "Table of Contents",
   "title_sidebar": "Contents",
   "toc_cell": false,
   "toc_position": {},
   "toc_section_display": true,
   "toc_window_display": true
  }
 },
 "nbformat": 4,
 "nbformat_minor": 2
}
