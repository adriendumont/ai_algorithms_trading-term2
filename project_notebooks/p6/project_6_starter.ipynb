{
 "cells": [
  {
   "cell_type": "markdown",
   "metadata": {},
   "source": [
    "# Project 6: Analyzing Stock Sentiment from Twits\n",
    "## Instructions\n",
    "Each problem consists of a function to implement and instructions on how to implement the function.  The parts of the function that need to be implemented are marked with a `# TODO` comment.\n",
    "\n",
    "## Packages\n",
    "When you implement the functions, you'll only need to you use the packages you've used in the classroom, like [Pandas](https://pandas.pydata.org/) and [Numpy](http://www.numpy.org/). These packages will be imported for you. We recommend you don't add any import statements, otherwise the grader might not be able to run your code.\n",
    "\n",
    "### Load Packages"
   ]
  },
  {
   "cell_type": "code",
   "execution_count": 1,
   "metadata": {},
   "outputs": [],
   "source": [
    "import json\n",
    "import nltk\n",
    "import os\n",
    "import random\n",
    "import re\n",
    "import torch\n",
    "\n",
    "from torch import nn, optim\n",
    "import torch.nn.functional as F"
   ]
  },
  {
   "cell_type": "markdown",
   "metadata": {},
   "source": [
    "## Introduction\n",
    "When deciding the value of a company, it's important to follow the news. For example, a product recall or natural disaster in a company's product chain. You want to be able to turn this information into a signal. Currently, the best tool for the job is a Neural Network. \n",
    "\n",
    "For this project, you'll use posts from the social media site [StockTwits](https://en.wikipedia.org/wiki/StockTwits). The community on StockTwits is full of investors, traders, and entrepreneurs. Each message posted is called a Twit. This is similar to Twitter's version of a post, called a Tweet. You'll build a model around these twits that generate a sentiment score.\n",
    "\n",
    "We've collected a bunch of twits, then hand labeled the sentiment of each. To capture the degree of sentiment, we'll use a five-point scale: very negative, negative, neutral, positive, very positive. Each twit is labeled -2 to 2 in steps of 1, from very negative to very positive respectively. You'll build a sentiment analysis model that will learn to assign sentiment to twits on its own, using this labeled data.\n",
    "\n",
    "The first thing we should to do, is load the data.\n",
    "\n",
    "## Import Twits \n",
    "### Load Twits Data \n",
    "This JSON file contains a list of objects for each twit in the `'data'` field:\n",
    "\n",
    "```\n",
    "{'data':\n",
    "  {'message_body': 'Neutral twit body text here',\n",
    "   'sentiment': 0},\n",
    "  {'message_body': 'Happy twit body text here',\n",
    "   'sentiment': 1},\n",
    "   ...\n",
    "}\n",
    "```\n",
    "\n",
    "The fields represent the following:\n",
    "\n",
    "* `'message_body'`: The text of the twit.\n",
    "* `'sentiment'`: Sentiment score for the twit, ranges from -2 to 2 in steps of 1, with 0 being neutral.\n",
    "\n",
    "\n",
    "To see what the data look like by printing the first 10 twits from the list. "
   ]
  },
  {
   "cell_type": "code",
   "execution_count": 2,
   "metadata": {},
   "outputs": [
    {
     "name": "stdout",
     "output_type": "stream",
     "text": [
      "[{'message_body': '$FITB great buy at 26.00...ill wait', 'sentiment': 2, 'timestamp': '2018-07-01T00:00:09Z'}, {'message_body': '@StockTwits $MSFT', 'sentiment': 1, 'timestamp': '2018-07-01T00:00:42Z'}, {'message_body': '#STAAnalystAlert for $TDG : Jefferies Maintains with a rating of Hold setting target price at USD 350.00. Our own verdict is Buy  http://www.stocktargetadvisor.com/toprating', 'sentiment': 2, 'timestamp': '2018-07-01T00:01:24Z'}, {'message_body': '$AMD I heard there’s a guy who knows someone who thinks somebody knows something - on StockTwits.', 'sentiment': 1, 'timestamp': '2018-07-01T00:01:47Z'}, {'message_body': '$AMD reveal yourself!', 'sentiment': 0, 'timestamp': '2018-07-01T00:02:13Z'}, {'message_body': '$AAPL Why the drop? I warren Buffet taking out his position?', 'sentiment': 1, 'timestamp': '2018-07-01T00:03:10Z'}, {'message_body': '$BA bears have 1 reason on 06-29 to pay more attention https://dividendbot.com?s=BA', 'sentiment': -2, 'timestamp': '2018-07-01T00:04:09Z'}, {'message_body': '$BAC ok good we&#39;re not dropping in price over the weekend, lol', 'sentiment': 1, 'timestamp': '2018-07-01T00:04:17Z'}, {'message_body': '$AMAT - Daily Chart, we need to get back to above 50.', 'sentiment': 2, 'timestamp': '2018-07-01T00:08:01Z'}, {'message_body': '$GME 3% drop per week after spike... if no news in 3 months, back to 12s... if BO, then bingo... what is the odds?', 'sentiment': -2, 'timestamp': '2018-07-01T00:09:03Z'}]\n"
     ]
    }
   ],
   "source": [
    "with open(os.path.join('..', '..', 'data', 'project_6_stocktwits', 'twits.json'), 'r') as f:\n",
    "    twits = json.load(f)\n",
    "\n",
    "print(twits['data'][:10])"
   ]
  },
  {
   "cell_type": "markdown",
   "metadata": {},
   "source": [
    "### Length of Data\n",
    "Now let's look at the number of twits in dataset. Print the number of twits below.\n",
    "#### DONE"
   ]
  },
  {
   "cell_type": "code",
   "execution_count": 3,
   "metadata": {},
   "outputs": [
    {
     "name": "stdout",
     "output_type": "stream",
     "text": [
      "1548010\n"
     ]
    }
   ],
   "source": [
    "\"\"\"print out the number of twits\"\"\"\n",
    "\n",
    "# TODO Implement \n",
    "print(len(twits['data']))"
   ]
  },
  {
   "cell_type": "markdown",
   "metadata": {},
   "source": [
    "### Split Message Body and Sentiment Score"
   ]
  },
  {
   "cell_type": "code",
   "execution_count": 4,
   "metadata": {},
   "outputs": [],
   "source": [
    "messages = [twit['message_body'] for twit in twits['data']]\n",
    "# Since the sentiment scores are discrete, we'll scale the sentiments to 0 to 4 for use in our network\n",
    "sentiments = [twit['sentiment'] + 2 for twit in twits['data']]"
   ]
  },
  {
   "cell_type": "code",
   "execution_count": 5,
   "metadata": {},
   "outputs": [
    {
     "name": "stdout",
     "output_type": "stream",
     "text": [
      "['$FITB great buy at 26.00...ill wait', '@StockTwits $MSFT', '#STAAnalystAlert for $TDG : Jefferies Maintains with a rating of Hold setting target price at USD 350.00. Our own verdict is Buy  http://www.stocktargetadvisor.com/toprating', '$AMD I heard there’s a guy who knows someone who thinks somebody knows something - on StockTwits.', '$AMD reveal yourself!', '$AAPL Why the drop? I warren Buffet taking out his position?', '$BA bears have 1 reason on 06-29 to pay more attention https://dividendbot.com?s=BA', '$BAC ok good we&#39;re not dropping in price over the weekend, lol', '$AMAT - Daily Chart, we need to get back to above 50.', '$GME 3% drop per week after spike... if no news in 3 months, back to 12s... if BO, then bingo... what is the odds?']\n",
      "[4, 3, 4, 3, 2, 3, 0, 3, 4, 0]\n"
     ]
    }
   ],
   "source": [
    "print(messages[:10])\n",
    "print(sentiments[:10])"
   ]
  },
  {
   "cell_type": "markdown",
   "metadata": {},
   "source": [
    "## Preprocessing the Data\n",
    "With our data in hand we need to preprocess our text. These twits are collected by filtering on ticker symbols where these are denoted with a leader $ symbol in the twit itself. For example,\n",
    "\n",
    "`{'message_body': 'RT @google Our annual look at the year in Google blogging (and beyond) http://t.co/sptHOAh8 $GOOG',\n",
    " 'sentiment': 0}`\n",
    "\n",
    "The ticker symbols don't provide information on the sentiment, and they are in every twit, so we should remove them. This twit also has the `@google` username, again not providing sentiment information, so we should also remove it. We also see a URL `http://t.co/sptHOAh8`. Let's remove these too.\n",
    "\n",
    "The easiest way to remove specific words or phrases is with regex using the `re` module. You can sub out specific patterns with a space:\n",
    "\n",
    "```python\n",
    "re.sub(pattern, ' ', text)\n",
    "```\n",
    "This will substitute a space with anywhere the pattern matches in the text. Later when we tokenize the text, we'll split appropriately on those spaces."
   ]
  },
  {
   "cell_type": "markdown",
   "metadata": {},
   "source": [
    "### Pre-Processing\n",
    "\n",
    "#### DONE"
   ]
  },
  {
   "cell_type": "code",
   "execution_count": 6,
   "metadata": {},
   "outputs": [
    {
     "name": "stderr",
     "output_type": "stream",
     "text": [
      "[nltk_data] Downloading package wordnet to\n",
      "[nltk_data]     /home/toilethill/nltk_data...\n",
      "[nltk_data]   Package wordnet is already up-to-date!\n",
      "[nltk_data] Downloading package stopwords to\n",
      "[nltk_data]     /home/toilethill/nltk_data...\n",
      "[nltk_data]   Package stopwords is already up-to-date!\n"
     ]
    },
    {
     "data": {
      "text/plain": [
       "['jefferies',\n",
       " 'maintains',\n",
       " 'rating',\n",
       " 'hold',\n",
       " 'setting',\n",
       " 'target',\n",
       " 'price',\n",
       " 'usd',\n",
       " 'verdict',\n",
       " 'buy']"
      ]
     },
     "execution_count": 6,
     "metadata": {},
     "output_type": "execute_result"
    }
   ],
   "source": [
    "nltk.download('wordnet')\n",
    "nltk.download('stopwords')\n",
    "from nltk.tokenize import TweetTokenizer\n",
    "from nltk.corpus import stopwords\n",
    "from nltk.stem.wordnet import WordNetLemmatizer\n",
    "\n",
    "\n",
    "def preprocess(message):\n",
    "    \"\"\"\n",
    "    This function takes a string as input, then performs these operations: \n",
    "        - lowercase\n",
    "        - remove URLs\n",
    "        - remove ticker symbols \n",
    "        - removes punctuation\n",
    "        - tokenize by splitting the string on whitespace \n",
    "        - removes any single character tokens\n",
    "    \n",
    "    Parameters\n",
    "    ----------\n",
    "        message : The text message to be preprocessed.\n",
    "        \n",
    "    Returns\n",
    "    -------\n",
    "        tokens: The preprocessed text into tokens.\n",
    "    \"\"\" \n",
    "    text = message.lower()\n",
    "    url_pattern = re.compile(\n",
    "        r'https?:\\/\\/(www\\.)?[-a-zA-Z0-9@:%._\\+~#=]{2,256}\\.[a-z]{2,6}\\b([-a-zA-Z0-9@:%_\\+.~#?&//=]*)',\n",
    "        re.IGNORECASE\n",
    "    )\n",
    "    text = re.sub(url_pattern, ' ', text)\n",
    "    symb_pattern = re.compile(r'[@#\\$]([A-Za-z]+[A-Za-z0-9-_]+)', re.IGNORECASE)\n",
    "    text = re.sub(symb_pattern, ' ', text)\n",
    "    not_alph_pattern = re.compile(r'[\\W\\d]')\n",
    "    text = re.sub(not_alph_pattern, ' ', text)\n",
    "    tknizr = TweetTokenizer()\n",
    "    tokenized_words = tknizr.tokenize(text)\n",
    "    tokens = [w for w in tokenized_words if w not in stopwords.words(\"english\")]\n",
    "    wnl = nltk.stem.WordNetLemmatizer()\n",
    "    tokens = [WordNetLemmatizer().lemmatize(w) for w in tokens]\n",
    "    return tokens\n",
    "\n",
    "msg = messages[2]\n",
    "preprocess(msg)"
   ]
  },
  {
   "cell_type": "markdown",
   "metadata": {},
   "source": [
    "### Preprocess All the Twits \n",
    "Now we can preprocess each of the twits in our dataset. Apply the function `preprocess` to all the twit messages.\n",
    "\n",
    "#### DONE"
   ]
  },
  {
   "cell_type": "code",
   "execution_count": 9,
   "metadata": {},
   "outputs": [],
   "source": [
    "############################\n",
    "### Loading and processing all the Twits crashes the notebook kernal\n",
    "############################\n",
    "import json\n",
    "from tqdm import tqdm \n",
    "from pathlib import Path\n",
    "\n",
    "\n",
    "def twit_batcher(batches, twits):\n",
    "    \"\"\"\n",
    "    Preprocessing the large amount of Twits all at once kept collapsing the kernel.\n",
    "    - This function:\n",
    "        - Breaks the process up into batches of 10,000 twits.\n",
    "        - Each batch is saved as json file in the datastore directory.\n",
    "    \n",
    "    Parameters\n",
    "    ----------\n",
    "        batches : The number of batches to process.\n",
    "        twits: The messages or twits to be processed.\n",
    "        \n",
    "    \"\"\"\n",
    "    datastore = Path(\"../../data/project_6_stocktwits/datastore\")\n",
    "    tail = 0\n",
    "    \n",
    "    for batch in range(batches):\n",
    "        head = tail + 10000\n",
    "        file_name = f'{tail}:{head}.json'\n",
    "        ds = datastore / file_name\n",
    "        tknd = []\n",
    "        twit_batch = tqdm(twits[tail:head], desc=f'Saving twits batch... {file_name:20}')\n",
    "        for twit in twit_batch:\n",
    "            tknd += preprocess(twit)\n",
    "        with ds.open('w+') as f:\n",
    "            json.dump(tknd, f)\n",
    "            f.close()\n",
    "        tail = head"
   ]
  },
  {
   "cell_type": "code",
   "execution_count": 10,
   "metadata": {},
   "outputs": [
    {
     "name": "stderr",
     "output_type": "stream",
     "text": [
      "Saving twits batch... 0:10000.json        : 100%|██████████| 10000/10000 [00:16<00:00, 616.24it/s]\n",
      "Saving twits batch... 10000:20000.json    : 100%|██████████| 10000/10000 [00:15<00:00, 632.55it/s]\n",
      "Saving twits batch... 20000:30000.json    : 100%|██████████| 10000/10000 [00:19<00:00, 519.12it/s]\n",
      "Saving twits batch... 30000:40000.json    : 100%|██████████| 10000/10000 [00:15<00:00, 631.14it/s]\n",
      "Saving twits batch... 40000:50000.json    : 100%|██████████| 10000/10000 [00:14<00:00, 702.07it/s]\n",
      "Saving twits batch... 50000:60000.json    : 100%|██████████| 10000/10000 [00:15<00:00, 652.35it/s]\n",
      "Saving twits batch... 60000:70000.json    : 100%|██████████| 10000/10000 [00:17<00:00, 579.02it/s]\n",
      "Saving twits batch... 70000:80000.json    : 100%|██████████| 10000/10000 [00:17<00:00, 578.78it/s]\n",
      "Saving twits batch... 80000:90000.json    : 100%|██████████| 10000/10000 [00:15<00:00, 627.94it/s]\n",
      "Saving twits batch... 90000:100000.json   : 100%|██████████| 10000/10000 [00:15<00:00, 631.74it/s]\n",
      "Saving twits batch... 100000:110000.json  : 100%|██████████| 10000/10000 [00:14<00:00, 692.02it/s]\n",
      "Saving twits batch... 110000:120000.json  : 100%|██████████| 10000/10000 [00:16<00:00, 600.89it/s]\n",
      "Saving twits batch... 120000:130000.json  : 100%|██████████| 10000/10000 [00:14<00:00, 689.35it/s]\n",
      "Saving twits batch... 130000:140000.json  : 100%|██████████| 10000/10000 [00:17<00:00, 561.57it/s]\n",
      "Saving twits batch... 140000:150000.json  : 100%|██████████| 10000/10000 [00:16<00:00, 622.90it/s]\n",
      "Saving twits batch... 150000:160000.json  : 100%|██████████| 10000/10000 [00:20<00:00, 493.21it/s]\n",
      "Saving twits batch... 160000:170000.json  : 100%|██████████| 10000/10000 [00:15<00:00, 654.91it/s]\n",
      "Saving twits batch... 170000:180000.json  : 100%|██████████| 10000/10000 [00:15<00:00, 629.73it/s]\n",
      "Saving twits batch... 180000:190000.json  : 100%|██████████| 10000/10000 [00:18<00:00, 535.90it/s]\n",
      "Saving twits batch... 190000:200000.json  : 100%|██████████| 10000/10000 [00:18<00:00, 532.69it/s]\n",
      "Saving twits batch... 200000:210000.json  : 100%|██████████| 10000/10000 [00:20<00:00, 491.87it/s]\n",
      "Saving twits batch... 210000:220000.json  : 100%|██████████| 10000/10000 [00:23<00:00, 425.11it/s]\n",
      "Saving twits batch... 220000:230000.json  : 100%|██████████| 10000/10000 [00:18<00:00, 547.96it/s]\n",
      "Saving twits batch... 230000:240000.json  : 100%|██████████| 10000/10000 [00:16<00:00, 614.71it/s]\n",
      "Saving twits batch... 240000:250000.json  : 100%|██████████| 10000/10000 [00:18<00:00, 543.88it/s]\n",
      "Saving twits batch... 250000:260000.json  : 100%|██████████| 10000/10000 [00:13<00:00, 729.90it/s]\n",
      "Saving twits batch... 260000:270000.json  : 100%|██████████| 10000/10000 [00:13<00:00, 736.03it/s]\n",
      "Saving twits batch... 270000:280000.json  : 100%|██████████| 10000/10000 [00:17<00:00, 584.53it/s]\n",
      "Saving twits batch... 280000:290000.json  : 100%|██████████| 10000/10000 [00:14<00:00, 681.13it/s]\n",
      "Saving twits batch... 290000:300000.json  : 100%|██████████| 10000/10000 [00:14<00:00, 671.40it/s]\n",
      "Saving twits batch... 300000:310000.json  : 100%|██████████| 10000/10000 [00:14<00:00, 696.41it/s]\n",
      "Saving twits batch... 310000:320000.json  : 100%|██████████| 10000/10000 [00:15<00:00, 646.66it/s]\n",
      "Saving twits batch... 320000:330000.json  : 100%|██████████| 10000/10000 [00:15<00:00, 658.04it/s]\n",
      "Saving twits batch... 330000:340000.json  : 100%|██████████| 10000/10000 [00:17<00:00, 564.47it/s]\n",
      "Saving twits batch... 340000:350000.json  : 100%|██████████| 10000/10000 [00:15<00:00, 664.04it/s]\n",
      "Saving twits batch... 350000:360000.json  : 100%|██████████| 10000/10000 [00:16<00:00, 595.27it/s]\n",
      "Saving twits batch... 360000:370000.json  : 100%|██████████| 10000/10000 [00:15<00:00, 628.84it/s]\n",
      "Saving twits batch... 370000:380000.json  : 100%|██████████| 10000/10000 [00:14<00:00, 673.11it/s]\n",
      "Saving twits batch... 380000:390000.json  : 100%|██████████| 10000/10000 [00:16<00:00, 617.89it/s]\n",
      "Saving twits batch... 390000:400000.json  : 100%|██████████| 10000/10000 [00:16<00:00, 594.38it/s]\n",
      "Saving twits batch... 400000:410000.json  : 100%|██████████| 10000/10000 [00:16<00:00, 593.72it/s]\n",
      "Saving twits batch... 410000:420000.json  : 100%|██████████| 10000/10000 [00:20<00:00, 476.59it/s]\n",
      "Saving twits batch... 420000:430000.json  : 100%|██████████| 10000/10000 [00:18<00:00, 536.66it/s]\n",
      "Saving twits batch... 430000:440000.json  : 100%|██████████| 10000/10000 [00:19<00:00, 515.15it/s]\n",
      "Saving twits batch... 440000:450000.json  : 100%|██████████| 10000/10000 [00:17<00:00, 556.90it/s]\n",
      "Saving twits batch... 450000:460000.json  : 100%|██████████| 10000/10000 [00:17<00:00, 576.71it/s]\n",
      "Saving twits batch... 460000:470000.json  : 100%|██████████| 10000/10000 [00:17<00:00, 564.95it/s]\n",
      "Saving twits batch... 470000:480000.json  : 100%|██████████| 10000/10000 [00:21<00:00, 468.69it/s]\n",
      "Saving twits batch... 480000:490000.json  : 100%|██████████| 10000/10000 [00:20<00:00, 486.01it/s]\n",
      "Saving twits batch... 490000:500000.json  : 100%|██████████| 10000/10000 [00:19<00:00, 515.36it/s]\n",
      "Saving twits batch... 500000:510000.json  : 100%|██████████| 10000/10000 [00:18<00:00, 529.92it/s]\n",
      "Saving twits batch... 510000:520000.json  : 100%|██████████| 10000/10000 [00:16<00:00, 601.75it/s]\n",
      "Saving twits batch... 520000:530000.json  : 100%|██████████| 10000/10000 [00:21<00:00, 474.95it/s]\n",
      "Saving twits batch... 530000:540000.json  : 100%|██████████| 10000/10000 [00:18<00:00, 526.86it/s]\n",
      "Saving twits batch... 540000:550000.json  : 100%|██████████| 10000/10000 [00:15<00:00, 645.88it/s]\n",
      "Saving twits batch... 550000:560000.json  : 100%|██████████| 10000/10000 [00:16<00:00, 606.39it/s]\n",
      "Saving twits batch... 560000:570000.json  : 100%|██████████| 10000/10000 [00:15<00:00, 626.45it/s]\n",
      "Saving twits batch... 570000:580000.json  : 100%|██████████| 10000/10000 [00:15<00:00, 626.89it/s]\n",
      "Saving twits batch... 580000:590000.json  : 100%|██████████| 10000/10000 [00:13<00:00, 716.38it/s]\n",
      "Saving twits batch... 590000:600000.json  : 100%|██████████| 10000/10000 [00:16<00:00, 618.48it/s]\n",
      "Saving twits batch... 600000:610000.json  : 100%|██████████| 10000/10000 [00:14<00:00, 689.46it/s]\n",
      "Saving twits batch... 610000:620000.json  : 100%|██████████| 10000/10000 [00:15<00:00, 664.27it/s]\n",
      "Saving twits batch... 620000:630000.json  : 100%|██████████| 10000/10000 [00:27<00:00, 366.83it/s]\n",
      "Saving twits batch... 630000:640000.json  : 100%|██████████| 10000/10000 [00:20<00:00, 495.73it/s]\n",
      "Saving twits batch... 640000:650000.json  : 100%|██████████| 10000/10000 [00:19<00:00, 518.01it/s]\n",
      "Saving twits batch... 650000:660000.json  : 100%|██████████| 10000/10000 [00:16<00:00, 598.61it/s]\n",
      "Saving twits batch... 660000:670000.json  : 100%|██████████| 10000/10000 [00:15<00:00, 646.51it/s]\n",
      "Saving twits batch... 670000:680000.json  : 100%|██████████| 10000/10000 [00:18<00:00, 535.31it/s]\n",
      "Saving twits batch... 680000:690000.json  : 100%|██████████| 10000/10000 [00:16<00:00, 617.88it/s]\n",
      "Saving twits batch... 690000:700000.json  : 100%|██████████| 10000/10000 [00:14<00:00, 693.72it/s]\n",
      "Saving twits batch... 700000:710000.json  : 100%|██████████| 10000/10000 [00:16<00:00, 598.39it/s]\n",
      "Saving twits batch... 710000:720000.json  : 100%|██████████| 10000/10000 [00:16<00:00, 621.31it/s]\n",
      "Saving twits batch... 720000:730000.json  : 100%|██████████| 10000/10000 [00:17<00:00, 579.56it/s]\n",
      "Saving twits batch... 730000:740000.json  : 100%|██████████| 10000/10000 [00:15<00:00, 629.92it/s]\n",
      "Saving twits batch... 740000:750000.json  : 100%|██████████| 10000/10000 [00:20<00:00, 491.73it/s]\n",
      "Saving twits batch... 750000:760000.json  : 100%|██████████| 10000/10000 [00:24<00:00, 413.20it/s]\n",
      "Saving twits batch... 760000:770000.json  : 100%|██████████| 10000/10000 [00:23<00:00, 416.69it/s]\n",
      "Saving twits batch... 770000:780000.json  : 100%|██████████| 10000/10000 [00:28<00:00, 351.73it/s]\n",
      "Saving twits batch... 780000:790000.json  : 100%|██████████| 10000/10000 [00:18<00:00, 554.97it/s]\n",
      "Saving twits batch... 790000:800000.json  : 100%|██████████| 10000/10000 [00:16<00:00, 609.86it/s]\n",
      "Saving twits batch... 800000:810000.json  : 100%|██████████| 10000/10000 [00:15<00:00, 631.13it/s]\n",
      "Saving twits batch... 810000:820000.json  : 100%|██████████| 10000/10000 [00:15<00:00, 644.23it/s]\n"
     ]
    },
    {
     "name": "stderr",
     "output_type": "stream",
     "text": [
      "Saving twits batch... 820000:830000.json  : 100%|██████████| 10000/10000 [00:15<00:00, 655.62it/s]\n",
      "Saving twits batch... 830000:840000.json  : 100%|██████████| 10000/10000 [00:16<00:00, 621.77it/s]\n",
      "Saving twits batch... 840000:850000.json  : 100%|██████████| 10000/10000 [00:14<00:00, 684.41it/s]\n",
      "Saving twits batch... 850000:860000.json  : 100%|██████████| 10000/10000 [00:16<00:00, 602.19it/s]\n",
      "Saving twits batch... 860000:870000.json  : 100%|██████████| 10000/10000 [00:15<00:00, 641.81it/s]\n",
      "Saving twits batch... 870000:880000.json  : 100%|██████████| 10000/10000 [00:15<00:00, 639.16it/s]\n",
      "Saving twits batch... 880000:890000.json  : 100%|██████████| 10000/10000 [00:15<00:00, 651.50it/s]\n",
      "Saving twits batch... 890000:900000.json  : 100%|██████████| 10000/10000 [00:16<00:00, 606.99it/s]\n",
      "Saving twits batch... 900000:910000.json  : 100%|██████████| 10000/10000 [00:14<00:00, 707.21it/s]\n",
      "Saving twits batch... 910000:920000.json  : 100%|██████████| 10000/10000 [00:16<00:00, 618.76it/s]\n",
      "Saving twits batch... 920000:930000.json  : 100%|██████████| 10000/10000 [00:14<00:00, 702.68it/s]\n",
      "Saving twits batch... 930000:940000.json  : 100%|██████████| 10000/10000 [00:15<00:00, 643.61it/s]\n",
      "Saving twits batch... 940000:950000.json  : 100%|██████████| 10000/10000 [00:14<00:00, 697.56it/s]\n",
      "Saving twits batch... 950000:960000.json  : 100%|██████████| 10000/10000 [00:15<00:00, 643.85it/s]\n",
      "Saving twits batch... 960000:970000.json  : 100%|██████████| 10000/10000 [00:16<00:00, 620.53it/s]\n",
      "Saving twits batch... 970000:980000.json  : 100%|██████████| 10000/10000 [00:15<00:00, 650.87it/s]\n",
      "Saving twits batch... 980000:990000.json  : 100%|██████████| 10000/10000 [00:15<00:00, 649.30it/s]\n",
      "Saving twits batch... 990000:1000000.json : 100%|██████████| 10000/10000 [00:16<00:00, 609.63it/s]\n",
      "Saving twits batch... 1000000:1010000.json: 100%|██████████| 10000/10000 [00:15<00:00, 664.71it/s]\n",
      "Saving twits batch... 1010000:1020000.json: 100%|██████████| 10000/10000 [00:15<00:00, 628.53it/s]\n",
      "Saving twits batch... 1020000:1030000.json: 100%|██████████| 10000/10000 [00:14<00:00, 707.81it/s]\n",
      "Saving twits batch... 1030000:1040000.json: 100%|██████████| 10000/10000 [00:16<00:00, 608.38it/s]\n",
      "Saving twits batch... 1040000:1050000.json: 100%|██████████| 10000/10000 [00:14<00:00, 670.61it/s]\n",
      "Saving twits batch... 1050000:1060000.json: 100%|██████████| 10000/10000 [00:24<00:00, 400.05it/s]\n",
      "Saving twits batch... 1060000:1070000.json: 100%|██████████| 10000/10000 [00:28<00:00, 351.94it/s]\n",
      "Saving twits batch... 1070000:1080000.json: 100%|██████████| 10000/10000 [00:19<00:00, 518.41it/s]\n",
      "Saving twits batch... 1080000:1090000.json: 100%|██████████| 10000/10000 [00:19<00:00, 523.47it/s]\n",
      "Saving twits batch... 1090000:1100000.json: 100%|██████████| 10000/10000 [00:16<00:00, 598.53it/s]\n",
      "Saving twits batch... 1100000:1110000.json: 100%|██████████| 10000/10000 [00:18<00:00, 550.66it/s]\n",
      "Saving twits batch... 1110000:1120000.json: 100%|██████████| 10000/10000 [00:18<00:00, 528.23it/s]\n",
      "Saving twits batch... 1120000:1130000.json: 100%|██████████| 10000/10000 [00:18<00:00, 544.30it/s]\n",
      "Saving twits batch... 1130000:1140000.json: 100%|██████████| 10000/10000 [00:21<00:00, 465.66it/s]\n",
      "Saving twits batch... 1140000:1150000.json: 100%|██████████| 10000/10000 [00:25<00:00, 397.15it/s]\n",
      "Saving twits batch... 1150000:1160000.json: 100%|██████████| 10000/10000 [00:30<00:00, 328.87it/s]\n",
      "Saving twits batch... 1160000:1170000.json: 100%|██████████| 10000/10000 [00:25<00:00, 395.05it/s]\n",
      "Saving twits batch... 1170000:1180000.json: 100%|██████████| 10000/10000 [00:17<00:00, 564.94it/s]\n",
      "Saving twits batch... 1180000:1190000.json: 100%|██████████| 10000/10000 [00:21<00:00, 468.56it/s]\n",
      "Saving twits batch... 1190000:1200000.json: 100%|██████████| 10000/10000 [00:19<00:00, 503.55it/s]\n",
      "Saving twits batch... 1200000:1210000.json: 100%|██████████| 10000/10000 [00:16<00:00, 612.91it/s]\n",
      "Saving twits batch... 1210000:1220000.json: 100%|██████████| 10000/10000 [00:18<00:00, 554.38it/s]\n",
      "Saving twits batch... 1220000:1230000.json: 100%|██████████| 10000/10000 [00:17<00:00, 569.89it/s]\n",
      "Saving twits batch... 1230000:1240000.json: 100%|██████████| 10000/10000 [00:18<00:00, 549.38it/s]\n",
      "Saving twits batch... 1240000:1250000.json: 100%|██████████| 10000/10000 [00:18<00:00, 534.03it/s]\n",
      "Saving twits batch... 1250000:1260000.json: 100%|██████████| 10000/10000 [00:17<00:00, 565.28it/s]\n",
      "Saving twits batch... 1260000:1270000.json: 100%|██████████| 10000/10000 [00:18<00:00, 541.64it/s]\n",
      "Saving twits batch... 1270000:1280000.json: 100%|██████████| 10000/10000 [00:17<00:00, 568.65it/s]\n",
      "Saving twits batch... 1280000:1290000.json: 100%|██████████| 10000/10000 [00:15<00:00, 627.13it/s]\n",
      "Saving twits batch... 1290000:1300000.json: 100%|██████████| 10000/10000 [00:18<00:00, 554.34it/s]\n",
      "Saving twits batch... 1300000:1310000.json: 100%|██████████| 10000/10000 [00:21<00:00, 461.89it/s]\n",
      "Saving twits batch... 1310000:1320000.json: 100%|██████████| 10000/10000 [00:18<00:00, 541.76it/s]\n",
      "Saving twits batch... 1320000:1330000.json: 100%|██████████| 10000/10000 [00:18<00:00, 540.49it/s]\n",
      "Saving twits batch... 1330000:1340000.json: 100%|██████████| 10000/10000 [00:17<00:00, 579.05it/s]\n",
      "Saving twits batch... 1340000:1350000.json: 100%|██████████| 10000/10000 [00:21<00:00, 459.10it/s]\n",
      "Saving twits batch... 1350000:1360000.json: 100%|██████████| 10000/10000 [00:19<00:00, 525.98it/s]\n",
      "Saving twits batch... 1360000:1370000.json: 100%|██████████| 10000/10000 [00:16<00:00, 590.04it/s]\n",
      "Saving twits batch... 1370000:1380000.json: 100%|██████████| 10000/10000 [00:18<00:00, 528.59it/s]\n",
      "Saving twits batch... 1380000:1390000.json: 100%|██████████| 10000/10000 [00:18<00:00, 529.06it/s]\n",
      "Saving twits batch... 1390000:1400000.json: 100%|██████████| 10000/10000 [00:19<00:00, 520.80it/s]\n",
      "Saving twits batch... 1400000:1410000.json: 100%|██████████| 10000/10000 [00:18<00:00, 555.41it/s]\n",
      "Saving twits batch... 1410000:1420000.json: 100%|██████████| 10000/10000 [00:17<00:00, 573.81it/s]\n",
      "Saving twits batch... 1420000:1430000.json: 100%|██████████| 10000/10000 [00:15<00:00, 659.04it/s]\n",
      "Saving twits batch... 1430000:1440000.json: 100%|██████████| 10000/10000 [00:16<00:00, 601.14it/s]\n",
      "Saving twits batch... 1440000:1450000.json: 100%|██████████| 10000/10000 [00:16<00:00, 596.93it/s]\n",
      "Saving twits batch... 1450000:1460000.json: 100%|██████████| 10000/10000 [00:16<00:00, 622.60it/s]\n",
      "Saving twits batch... 1460000:1470000.json: 100%|██████████| 10000/10000 [00:17<00:00, 578.05it/s]\n",
      "Saving twits batch... 1470000:1480000.json: 100%|██████████| 10000/10000 [00:15<00:00, 652.24it/s]\n",
      "Saving twits batch... 1480000:1490000.json: 100%|██████████| 10000/10000 [00:17<00:00, 566.13it/s]\n",
      "Saving twits batch... 1490000:1500000.json: 100%|██████████| 10000/10000 [00:15<00:00, 627.65it/s]\n",
      "Saving twits batch... 1500000:1510000.json: 100%|██████████| 10000/10000 [00:17<00:00, 559.57it/s]\n",
      "Saving twits batch... 1510000:1520000.json: 100%|██████████| 10000/10000 [00:16<00:00, 623.90it/s]\n",
      "Saving twits batch... 1520000:1530000.json: 100%|██████████| 10000/10000 [00:14<00:00, 706.99it/s]\n",
      "Saving twits batch... 1530000:1540000.json: 100%|██████████| 10000/10000 [00:18<00:00, 552.62it/s]\n",
      "Saving twits batch... 1540000:1550000.json: 100%|██████████| 8010/8010 [00:13<00:00, 576.14it/s]\n"
     ]
    }
   ],
   "source": [
    "total_msgs = len(messages)\n",
    "batches = round(total_msgs/10000)\n",
    "\n",
    "#twit_batcher(batches, messages)"
   ]
  },
  {
   "cell_type": "code",
   "execution_count": null,
   "metadata": {},
   "outputs": [],
   "source": [
    "msgs = messages[:1000]\n",
    "tokenized = []\n",
    "for tweet in msgs:\n",
    "    tokenized += preprocess(tweet)"
   ]
  },
  {
   "cell_type": "markdown",
   "metadata": {},
   "source": [
    "### Bag of Words \n",
    "\n",
    "\n",
    "Now with all of our messages tokenized, we want to create a vocabulary and count up how often each word appears in our entire corpus. Use the [`Counter`](https://docs.python.org/3.1/library/collections.html#collections.Counter) function to count up all the tokens.\n",
    "\n",
    "\n",
    "\n",
    "#### DONE"
   ]
  },
  {
   "cell_type": "code",
   "execution_count": 60,
   "metadata": {
    "scrolled": false
   },
   "outputs": [],
   "source": [
    "import pickle\n",
    "from collections import Counter\n",
    "\n",
    "\"\"\"\n",
    "Create a vocabulary by using Bag of words\n",
    "\"\"\"\n",
    " \n",
    "def bag_of_words(words):\n",
    "    bow = Counter()\n",
    "    \n",
    "    for word in words:\n",
    "        bow[word] += 1\n",
    "    return bow\n",
    "\n",
    "def datastore_retriever():\n",
    "    datastore = Path(\"../../data/project_6_stocktwits/datastore\")\n",
    "    stored_files = [f for f in datastore.iterdir()]\n",
    "    words = []\n",
    "    for file_path in stored_files:\n",
    "        with file_path.open() as f: \n",
    "            words += json.load(f)\n",
    "    return bag_of_words(words)\n",
    "    \n",
    "with open('data.pickle', 'wb+') as f:\n",
    "    counted_words = datastore_retriever()\n",
    "    pickle.dump(counted_words, f)\n",
    "    f.close()"
   ]
  },
  {
   "cell_type": "code",
   "execution_count": 63,
   "metadata": {},
   "outputs": [],
   "source": [
    "with open('data.pickle', 'rb') as f:\n",
    "    bow = pickle.load(f)"
   ]
  },
  {
   "cell_type": "markdown",
   "metadata": {},
   "source": [
    "### Frequency of Words Appearing in Message\n",
    "With our vocabulary, now we'll remove some of the most common words such as 'the', 'and', 'it', etc. These words don't contribute to identifying sentiment and are really common, resulting in a lot of noise in our input. If we can filter these out, then our network should have an easier time learning.\n",
    "\n",
    "We also want to remove really rare words that show up in a only a few twits. Here you'll want to divide the count of each word by the number of messages. Then remove words that only appear in some small fraction of the messages.\n",
    "\n",
    "\n",
    "#### DONE \n",
    "\n",
    "- [x] TODO\n",
    "- [ ] TODID"
   ]
  },
  {
   "cell_type": "code",
   "execution_count": null,
   "metadata": {},
   "outputs": [],
   "source": [
    "from collections import Counter\n",
    "\"\"\"\n",
    "Create a vocabulary by using Bag of words\n",
    "\"\"\"\n",
    "\n",
    "    \n",
    "def bag_of_words(words):\n",
    "    bow = Counter()\n",
    "    \n",
    "    for word in words:\n",
    "        bow[word] += 1\n",
    "    return bow\n",
    "\n",
    "bag_of_words(tokenized)"
   ]
  },
  {
   "cell_type": "code",
   "execution_count": 83,
   "metadata": {},
   "outputs": [
    {
     "name": "stdout",
     "output_type": "stream",
     "text": [
      "[('amp', 295510), ('utm_medium', 91318), ('short', 86653), ('utm_content', 85425), ('q', 80704), ('today', 76229), ('buy', 76112), ('stock', 73441), ('stocktwits', 69221), ('call', 67778), ('utm_source', 67606), ('day', 67490), ('metric_name', 65634), ('report', 55274), ('eps', 55076), ('market', 53352), ('estimize', 52763), ('go', 52756), ('like', 51921), ('earnings', 50862), ('analyst', 49825), ('trade', 49514), ('share', 48841), ('revenue', 48665), ('going', 48016), ('next', 46980), ('get', 46698), ('new', 46421), ('see', 44405), ('good', 44206), ('f', 44074), ('week', 44057), ('volume', 43699), ('back', 42975), ('reporting', 42558), ('quot', 40093), ('growth', 40070), ('time', 39409), ('last', 38610), ('b', 38075), ('tomorrow', 37336), ('price', 37083), ('put', 36953), ('still', 35232), ('sell', 34994), ('year', 34406), ('bear', 33499), ('c', 33065), ('long', 32534), ('amc', 31438), ('look', 31200), ('bmo', 31025), ('lol', 30928), ('close', 29522), ('u', 28912), ('high', 28325), ('er', 27966), ('big', 27913), ('key', 27811), ('one', 27504), ('bull', 27125), ('sale', 27058), ('let', 26916), ('higher', 25491), ('bullish', 25021), ('money', 24835), ('fa', 24296), ('think', 24256), ('buying', 23825), ('expecting', 23815), ('exp', 23577), ('via', 23497), ('low', 23473), ('amd', 23325), ('utm_campaign', 23148)]\n"
     ]
    },
    {
     "data": {
      "text/plain": [
       "18334"
      ]
     },
     "execution_count": 83,
     "metadata": {},
     "output_type": "execute_result"
    }
   ],
   "source": [
    "\"\"\"\n",
    "Set the following variables:\n",
    "    freqs\n",
    "    low_cutoff\n",
    "    high_cutoff\n",
    "    K_most_common\n",
    "\"\"\"\n",
    "# TODO Implement \n",
    "\n",
    "# Dictionart that contains the Frequency of words appearing in messages.\n",
    "# The key is the token and the value is the frequency of that word in the corpus.\n",
    "freqs = dict(bow)\n",
    "# Float that is the frequency cutoff. Drop words with a frequency that is lower or equal to this number.\n",
    "low_cutoff = 10.0\n",
    "\n",
    "# Integer that is the cut off for most common words. Drop words that are the `high_cutoff` most common words.\n",
    "high_cutoff = 75\n",
    "\n",
    "# The k most common words in the corpus. Use `high_cutoff` as the k.\n",
    "K_most_common = bow.most_common(high_cutoff)\n",
    "\n",
    "filtered_words = [word for word in freqs if (freqs[word] > low_cutoff and word not in K_most_common)]\n",
    "print(K_most_common)\n",
    "len(filtered_words) "
   ]
  },
  {
   "cell_type": "markdown",
   "metadata": {},
   "source": [
    "### Updating Vocabulary by Removing Filtered Words\n",
    "Let's creat three variables that will help with our vocabulary.\n",
    "\n",
    "\n",
    "#### TODO"
   ]
  },
  {
   "cell_type": "code",
   "execution_count": null,
   "metadata": {},
   "outputs": [],
   "source": [
    "\"\"\"\n",
    "Set the following variables:\n",
    "    vocab\n",
    "    id2vocab\n",
    "    filtered\n",
    "\"\"\"\n",
    "\n",
    "#TODO Implement\n",
    "\n",
    "# A dictionary for the `filtered_words`. The key is the word and value is an id that represents the word. \n",
    "vocab = pass\n",
    "# Reverse of the `vocab` dictionary. The key is word id and value is the word. \n",
    "id2vocab = pass\n",
    "# tokenized with the words not in `filtered_words` removed.\n",
    "filtered = pass"
   ]
  },
  {
   "cell_type": "markdown",
   "metadata": {},
   "source": [
    "### Balancing the classes\n",
    "Let's do a few last pre-processing steps. If we look at how our twits are labeled, we'll find that 50% of them are neutral. This means that our network will be 50% accurate just by guessing 0 every single time. To help our network learn appropriately, we'll want to balance our classes.\n",
    "That is, make sure each of our different sentiment scores show up roughly as frequently in the data.\n",
    "\n",
    "What we can do here is go through each of our examples and randomly drop twits with neutral sentiment. What should be the probability we drop these twits if we want to get around 20% neutral twits starting at 50% neutral? We should also take this opportunity to remove messages with length 0."
   ]
  },
  {
   "cell_type": "code",
   "execution_count": null,
   "metadata": {},
   "outputs": [],
   "source": [
    "balanced = {'messages': [], 'sentiments':[]}\n",
    "\n",
    "n_neutral = sum(1 for each in sentiments if each == 2)\n",
    "N_examples = len(sentiments)\n",
    "keep_prob = (N_examples - n_neutral)/4/n_neutral\n",
    "\n",
    "for idx, sentiment in enumerate(sentiments):\n",
    "    message = filtered[idx]\n",
    "    if len(message) == 0:\n",
    "        # skip this message because it has length zero\n",
    "        continue\n",
    "    elif sentiment != 2 or random.random() < keep_prob:\n",
    "        balanced['messages'].append(message)\n",
    "        balanced['sentiments'].append(sentiment) "
   ]
  },
  {
   "cell_type": "markdown",
   "metadata": {},
   "source": [
    "If you did it correctly, you should see the following result "
   ]
  },
  {
   "cell_type": "code",
   "execution_count": null,
   "metadata": {},
   "outputs": [],
   "source": [
    "n_neutral = sum(1 for each in balanced['sentiments'] if each == 2)\n",
    "N_examples = len(balanced['sentiments'])\n",
    "n_neutral/N_examples"
   ]
  },
  {
   "cell_type": "markdown",
   "metadata": {},
   "source": [
    "Finally let's convert our tokens into integer ids which we can pass to the network."
   ]
  },
  {
   "cell_type": "code",
   "execution_count": null,
   "metadata": {},
   "outputs": [],
   "source": [
    "token_ids = [[vocab[word] for word in message] for message in balanced['messages']]\n",
    "sentiments = balanced['sentiments']"
   ]
  },
  {
   "cell_type": "markdown",
   "metadata": {},
   "source": [
    "## Neural Network\n",
    "Now we have our vocabulary which means we can transform our tokens into ids, which are then passed to our network. So, let's define the network now!\n",
    "\n",
    "Here is a nice diagram showing the network we'd like to build: \n",
    "\n",
    "#### Embed -> RNN -> Dense -> Softmax\n",
    "### Implement the text classifier\n",
    "Before we build text classifier, if you remember from the other network that you built in  \"Sentiment Analysis with an RNN\"  exercise  - which there, the network called \" SentimentRNN\", here we named it \"TextClassifer\" - consists of three main parts: 1) init function `__init__` 2) forward pass `forward`  3) hidden state `init_hidden`. \n",
    "\n",
    "This network is pretty similar to the network you built expect in the  `forward` pass, we use softmax instead of sigmoid. The reason we are not using sigmoid is that the output of NN is not a binary. In our network, sentiment scores have 5 possible outcomes. We are looking for an outcome with the highest probability thus softmax is a better choice.\n",
    "\n",
    "\n",
    "#### TODO"
   ]
  },
  {
   "cell_type": "code",
   "execution_count": null,
   "metadata": {},
   "outputs": [],
   "source": [
    "class TextClassifier(nn.Module):\n",
    "    def __init__(self, vocab_size, embed_size, lstm_size, output_size, lstm_layers=1, dropout=0.1):\n",
    "        \"\"\"\n",
    "        Initialize the model by setting up the layers.\n",
    "        \n",
    "        Parameters\n",
    "        ----------\n",
    "            vocab_size : The vocabulary size.\n",
    "            embed_size : The embedding layer size.\n",
    "            lstm_size : The LSTM layer size.\n",
    "            output_size : The output size.\n",
    "            lstm_layers : The number of LSTM layers.\n",
    "            dropout : The dropout probability.\n",
    "        \"\"\"\n",
    "        \n",
    "        super().__init__()\n",
    "        self.vocab_size = vocab_size\n",
    "        self.embed_size = embed_size\n",
    "        self.lstm_size = lstm_size\n",
    "        self.output_size = output_size\n",
    "        self.lstm_layers = lstm_layers\n",
    "        self.dropout = dropout\n",
    "        \n",
    "        # TODO Implement\n",
    "\n",
    "        # Setup embedding layer\n",
    "        self.embedding = pass\n",
    "        \n",
    "        # Setup additional layers\n",
    "        pass\n",
    "\n",
    "\n",
    "    def init_hidden(self, batch_size):\n",
    "        \"\"\" \n",
    "        Initializes hidden state\n",
    "        \n",
    "        Parameters\n",
    "        ----------\n",
    "            batch_size : The size of batches.\n",
    "        \n",
    "        Returns\n",
    "        -------\n",
    "            hidden_state\n",
    "            \n",
    "        \"\"\"\n",
    "        \n",
    "        # TODO Implement \n",
    "        \n",
    "        # Create two new tensors with sizes n_layers x batch_size x hidden_dim,\n",
    "        # initialized to zero, for hidden state and cell state of LSTM\n",
    "        \n",
    "        return None\n",
    "\n",
    "\n",
    "    def forward(self, nn_input, hidden_state):\n",
    "        \"\"\"\n",
    "        Perform a forward pass of our model on nn_input.\n",
    "        \n",
    "        Parameters\n",
    "        ----------\n",
    "            nn_input : The batch of input to the NN.\n",
    "            hidden_state : The LSTM hidden state.\n",
    "\n",
    "        Returns\n",
    "        -------\n",
    "            logps: log softmax output\n",
    "            hidden_state: The new hidden state.\n",
    "\n",
    "        \"\"\"\n",
    "        \n",
    "        # TODO Implement \n",
    "        \n",
    "        return None, None"
   ]
  },
  {
   "cell_type": "markdown",
   "metadata": {},
   "source": [
    "### View Model"
   ]
  },
  {
   "cell_type": "code",
   "execution_count": null,
   "metadata": {},
   "outputs": [],
   "source": [
    "model = TextClassifier(len(vocab), 10, 6, 5, dropout=0.1, lstm_layers=2)\n",
    "model.embedding.weight.data.uniform_(-1, 1)\n",
    "input = torch.randint(0, 1000, (5, 4), dtype=torch.int64)\n",
    "hidden = model.init_hidden(4)\n",
    "\n",
    "logps, _ = model.forward(input, hidden)\n",
    "print(logps)"
   ]
  },
  {
   "cell_type": "markdown",
   "metadata": {},
   "source": [
    "## Training\n",
    "### DataLoaders and Batching\n",
    "Now we should build a generator that we can use to loop through our data. It'll be more efficient if we can pass our sequences in as batches. Our input tensors should look like `(sequence_length, batch_size)`. So if our sequences are 40 tokens long and we pass in 25 sequences, then we'd have an input size of `(40, 25)`.\n",
    "\n",
    "If we set our sequence length to 40, what do we do with messages that are more or less than 40 tokens? For messages with fewer than 40 tokens, we will pad the empty spots with zeros. We should be sure to **left** pad so that the RNN starts from nothing before going through the data. If the message has 20 tokens, then the first 20 spots of our 40 long sequence will be 0. If a message has more than 40 tokens, we'll just keep the first 40 tokens."
   ]
  },
  {
   "cell_type": "code",
   "execution_count": null,
   "metadata": {},
   "outputs": [],
   "source": [
    "def dataloader(messages, labels, sequence_length=30, batch_size=32, shuffle=False):\n",
    "    \"\"\" \n",
    "    Build a dataloader.\n",
    "    \"\"\"\n",
    "    if shuffle:\n",
    "        indices = list(range(len(messages)))\n",
    "        random.shuffle(indices)\n",
    "        messages = [messages[idx] for idx in indices]\n",
    "        labels = [labels[idx] for idx in indices]\n",
    "\n",
    "    total_sequences = len(messages)\n",
    "\n",
    "    for ii in range(0, total_sequences, batch_size):\n",
    "        batch_messages = messages[ii: ii+batch_size]\n",
    "        \n",
    "        # First initialize a tensor of all zeros\n",
    "        batch = torch.zeros((sequence_length, len(batch_messages)), dtype=torch.int64)\n",
    "        for batch_num, tokens in enumerate(batch_messages):\n",
    "            token_tensor = torch.tensor(tokens)\n",
    "            # Left pad!\n",
    "            start_idx = max(sequence_length - len(token_tensor), 0)\n",
    "            batch[start_idx:, batch_num] = token_tensor[:sequence_length]\n",
    "        \n",
    "        label_tensor = torch.tensor(labels[ii: ii+len(batch_messages)])\n",
    "        \n",
    "        yield batch, label_tensor"
   ]
  },
  {
   "cell_type": "markdown",
   "metadata": {},
   "source": [
    "### Training and  Validation\n",
    "With our data in nice shape, we'll split it into training and validation sets.\n",
    "\n",
    "#### TODO"
   ]
  },
  {
   "cell_type": "code",
   "execution_count": null,
   "metadata": {},
   "outputs": [],
   "source": [
    "\"\"\"\n",
    "Split data into training and validation datasets. Use an appropriate split size.\n",
    "The features are the `token_ids` and the labels are the `sentiments`.\n",
    "\"\"\"   \n",
    "\n",
    "# TODO Implement \n",
    "\n",
    "train_features = pass\n",
    "valid_features = pass\n",
    "train_labels = pass\n",
    "valid_labels = pass"
   ]
  },
  {
   "cell_type": "code",
   "execution_count": null,
   "metadata": {},
   "outputs": [],
   "source": [
    "text_batch, labels = next(iter(dataloader(train_features, train_labels, sequence_length=20, batch_size=64)))\n",
    "model = TextClassifier(len(vocab)+1, 200, 128, 5, dropout=0.)\n",
    "hidden = model.init_hidden(64)\n",
    "logps, hidden = model.forward(text_batch, hidden)"
   ]
  },
  {
   "cell_type": "markdown",
   "metadata": {},
   "source": [
    "### Training\n",
    "It's time to train the neural network!\n",
    "\n",
    "#### TODO"
   ]
  },
  {
   "cell_type": "code",
   "execution_count": null,
   "metadata": {},
   "outputs": [],
   "source": [
    "device = torch.device(\"cuda\" if torch.cuda.is_available() else \"cpu\")\n",
    "\n",
    "model = TextClassifier(len(vocab)+1, 1024, 512, 5, lstm_layers=2, dropout=0.2)\n",
    "model.embedding.weight.data.uniform_(-1, 1)\n",
    "model.to(device)"
   ]
  },
  {
   "cell_type": "code",
   "execution_count": null,
   "metadata": {},
   "outputs": [],
   "source": [
    "\"\"\"\n",
    "Train your model with dropout. Make sure to clip your gradients.\n",
    "Print the training loss, validation loss, and validation accuracy for every 100 steps.\n",
    "\"\"\"\n",
    "\n",
    "epochs = pass\n",
    "batch_size = pass\n",
    "learning_rate = pass\n",
    "\n",
    "print_every = 100\n",
    "criterion = nn.NLLLoss()\n",
    "optimizer = optim.Adam(model.parameters(), lr=learning_rate)\n",
    "model.train()\n",
    "\n",
    "for epoch in range(epochs):\n",
    "    print('Starting epoch {}'.format(epoch + 1))\n",
    "    \n",
    "    steps = 0\n",
    "    for text_batch, labels in dataloader(\n",
    "            train_features, train_labels, batch_size=batch_size, sequence_length=20, shuffle=True):\n",
    "        steps += 1\n",
    "        hidden = pass\n",
    "        \n",
    "        # Set Device\n",
    "        text_batch, labels = text_batch.to(device), labels.to(device)\n",
    "        for each in hidden:\n",
    "            each.to(device)\n",
    "        \n",
    "        # TODO Implement: Train Model\n",
    "        \n",
    "        if steps % print_every == 0:\n",
    "            model.eval()\n",
    "            \n",
    "            # TODO Implement: Print metrics\n",
    "            \n",
    "            model.train()"
   ]
  },
  {
   "cell_type": "markdown",
   "metadata": {},
   "source": [
    "## Making Predictions\n",
    "### Prediction \n",
    "Okay, now that you have a trained model, try it on some new twits and see if it works appropriately. Remember that for any new text, you'll need to preprocess it first before passing it to the network. Implement the `predict` function to generate the prediction vector from a message.\n",
    "\n",
    "#### TODO"
   ]
  },
  {
   "cell_type": "code",
   "execution_count": null,
   "metadata": {},
   "outputs": [],
   "source": [
    "def predict(text, model, vocab):\n",
    "    \"\"\" \n",
    "    Make a prediction on a single sentence.\n",
    "\n",
    "    Parameters\n",
    "    ----------\n",
    "        text : The string to make a prediction on.\n",
    "        model : The model to use for making the prediction.\n",
    "        vocab : Dictionary for word to word ids. The key is the word and the value is the word id.\n",
    "\n",
    "    Returns\n",
    "    -------\n",
    "        pred : Prediction vector\n",
    "    \"\"\"    \n",
    "    \n",
    "    # TODO Implement\n",
    "    \n",
    "    tokens = preprocess(text)\n",
    "    \n",
    "    # Filter non-vocab words\n",
    "    tokens = pass\n",
    "    # Convert words to ids\n",
    "    tokens = pass\n",
    "        \n",
    "    # Adding a batch dimension\n",
    "    text_input = pass\n",
    "    # Get the NN output\n",
    "    hidden = pass\n",
    "    logps, _ = pass\n",
    "    # Take the exponent of the NN output to get a range of 0 to 1 for each label.\n",
    "    pred = pass\n",
    "    \n",
    "    return pred"
   ]
  },
  {
   "cell_type": "code",
   "execution_count": null,
   "metadata": {},
   "outputs": [],
   "source": [
    "text = \"Google is working on self driving cars, I'm bullish on $goog\"\n",
    "model.eval()\n",
    "model.to(\"cpu\")\n",
    "predict(text, model, vocab)"
   ]
  },
  {
   "cell_type": "markdown",
   "metadata": {},
   "source": [
    "### Questions: What is the prediction of the model? What is the uncertainty of the prediction?\n",
    "** TODO: Answer Question**\n",
    "\n",
    "#### TODO"
   ]
  },
  {
   "cell_type": "markdown",
   "metadata": {},
   "source": [
    "Now we have a trained model and we can make predictions. We can use this model to track the sentiments of various stocks by predicting the sentiments of twits as they are coming in. Now we have a stream of twits. For each of those twits, pull out the stocks mentioned in them and keep track of the sentiments. Remember that in the twits, ticker symbols are encoded with a dollar sign as the first character, all caps, and 2-4 letters, like $AAPL. Ideally, you'd want to track the sentiments of the stocks in your universe and use this as a signal in your larger model(s).\n",
    "\n",
    "## Testing\n",
    "### Load the Data "
   ]
  },
  {
   "cell_type": "code",
   "execution_count": null,
   "metadata": {},
   "outputs": [],
   "source": [
    "with open(os.path.join('..', '..', 'data', 'project_6_stocktwits', 'test_twits.json'), 'r') as f:\n",
    "    test_data = json.load(f)"
   ]
  },
  {
   "cell_type": "markdown",
   "metadata": {},
   "source": [
    "### Twit Stream"
   ]
  },
  {
   "cell_type": "code",
   "execution_count": null,
   "metadata": {},
   "outputs": [],
   "source": [
    "def twit_stream():\n",
    "    for twit in test_data['data']:\n",
    "        yield twit\n",
    "\n",
    "next(twit_stream())"
   ]
  },
  {
   "cell_type": "markdown",
   "metadata": {},
   "source": [
    "Using the `prediction` function, let's apply it to a stream of twits."
   ]
  },
  {
   "cell_type": "code",
   "execution_count": null,
   "metadata": {},
   "outputs": [],
   "source": [
    "def score_twits(stream, model, vocab, universe):\n",
    "    \"\"\" \n",
    "    Given a stream of twits and a universe of tickers, return sentiment scores for tickers in the universe.\n",
    "    \"\"\"\n",
    "    for twit in stream:\n",
    "\n",
    "        # Get the message text\n",
    "        text = twit['message_body']\n",
    "        symbols = re.findall('\\$[A-Z]{2,4}', text)\n",
    "        score = predict(text, model, vocab)\n",
    "\n",
    "        for symbol in symbols:\n",
    "            if symbol in universe:\n",
    "                yield {'symbol': symbol, 'score': score, 'timestamp': twit['timestamp']}"
   ]
  },
  {
   "cell_type": "code",
   "execution_count": null,
   "metadata": {},
   "outputs": [],
   "source": [
    "universe = {'$BBRY', '$AAPL', '$AMZN', '$BABA', '$YHOO', '$LQMT', '$FB', '$GOOG', '$BBBY', '$JNUG', '$SBUX', '$MU'}\n",
    "score_stream = score_twits(twit_stream(), model, vocab, universe)\n",
    "\n",
    "next(score_stream)"
   ]
  },
  {
   "cell_type": "markdown",
   "metadata": {},
   "source": [
    "That's it. You have successfully built a model for sentiment analysis! "
   ]
  },
  {
   "cell_type": "markdown",
   "metadata": {},
   "source": [
    "## Submission\n",
    "Now that you're done with the project, it's time to submit it. Click the submit button in the bottom right. One of our reviewers will give you feedback on your project with a pass or not passed grade. You can continue to the next section while you wait for feedback."
   ]
  }
 ],
 "metadata": {
  "kernelspec": {
   "display_name": "Python 3",
   "language": "python",
   "name": "python3"
  },
  "language_info": {
   "codemirror_mode": {
    "name": "ipython",
    "version": 3
   },
   "file_extension": ".py",
   "mimetype": "text/x-python",
   "name": "python",
   "nbconvert_exporter": "python",
   "pygments_lexer": "ipython3",
   "version": "3.6.8"
  },
  "toc": {
   "base_numbering": 1,
   "nav_menu": {},
   "number_sections": true,
   "sideBar": true,
   "skip_h1_title": false,
   "title_cell": "Table of Contents",
   "title_sidebar": "Contents",
   "toc_cell": false,
   "toc_position": {
    "height": "calc(100% - 180px)",
    "left": "10px",
    "top": "150px",
    "width": "256.378px"
   },
   "toc_section_display": true,
   "toc_window_display": true
  }
 },
 "nbformat": 4,
 "nbformat_minor": 2
}
