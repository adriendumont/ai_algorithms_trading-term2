{
 "cells": [
  {
   "cell_type": "markdown",
   "metadata": {
    "toc": true
   },
   "source": [
    "<h1>Table of Contents<span class=\"tocSkip\"></span></h1>\n",
    "<div class=\"toc\"><ul class=\"toc-item\"><li><span><a href=\"#Project-5:-NLP-on-Financial-Statements\" data-toc-modified-id=\"Project-5:-NLP-on-Financial-Statements-1\"><span class=\"toc-item-num\">1&nbsp;&nbsp;</span>Project 5: NLP on Financial Statements</a></span><ul class=\"toc-item\"><li><span><a href=\"#Instructions\" data-toc-modified-id=\"Instructions-1.1\"><span class=\"toc-item-num\">1.1&nbsp;&nbsp;</span>Instructions</a></span></li><li><span><a href=\"#Packages\" data-toc-modified-id=\"Packages-1.2\"><span class=\"toc-item-num\">1.2&nbsp;&nbsp;</span>Packages</a></span><ul class=\"toc-item\"><li><span><a href=\"#Install-Packages\" data-toc-modified-id=\"Install-Packages-1.2.1\"><span class=\"toc-item-num\">1.2.1&nbsp;&nbsp;</span>Install Packages</a></span></li><li><span><a href=\"#Load-Packages\" data-toc-modified-id=\"Load-Packages-1.2.2\"><span class=\"toc-item-num\">1.2.2&nbsp;&nbsp;</span>Load Packages</a></span></li><li><span><a href=\"#Download-NLP-Corpora\" data-toc-modified-id=\"Download-NLP-Corpora-1.2.3\"><span class=\"toc-item-num\">1.2.3&nbsp;&nbsp;</span>Download NLP Corpora</a></span></li></ul></li><li><span><a href=\"#Get-10ks\" data-toc-modified-id=\"Get-10ks-1.3\"><span class=\"toc-item-num\">1.3&nbsp;&nbsp;</span>Get 10ks</a></span><ul class=\"toc-item\"><li><span><a href=\"#Get-list-of-10-ks\" data-toc-modified-id=\"Get-list-of-10-ks-1.3.1\"><span class=\"toc-item-num\">1.3.1&nbsp;&nbsp;</span>Get list of 10-ks</a></span></li><li><span><a href=\"#Download-10-ks\" data-toc-modified-id=\"Download-10-ks-1.3.2\"><span class=\"toc-item-num\">1.3.2&nbsp;&nbsp;</span>Download 10-ks</a></span></li><li><span><a href=\"#Get-Documents\" data-toc-modified-id=\"Get-Documents-1.3.3\"><span class=\"toc-item-num\">1.3.3&nbsp;&nbsp;</span>Get Documents</a></span></li><li><span><a href=\"#Get-Document-Types\" data-toc-modified-id=\"Get-Document-Types-1.3.4\"><span class=\"toc-item-num\">1.3.4&nbsp;&nbsp;</span>Get Document Types</a></span></li></ul></li><li><span><a href=\"#Preprocess-the-Data\" data-toc-modified-id=\"Preprocess-the-Data-1.4\"><span class=\"toc-item-num\">1.4&nbsp;&nbsp;</span>Preprocess the Data</a></span><ul class=\"toc-item\"><li><span><a href=\"#Clean-Up\" data-toc-modified-id=\"Clean-Up-1.4.1\"><span class=\"toc-item-num\">1.4.1&nbsp;&nbsp;</span>Clean Up</a></span></li><li><span><a href=\"#Lemmatize\" data-toc-modified-id=\"Lemmatize-1.4.2\"><span class=\"toc-item-num\">1.4.2&nbsp;&nbsp;</span>Lemmatize</a></span></li><li><span><a href=\"#Remove-Stopwords\" data-toc-modified-id=\"Remove-Stopwords-1.4.3\"><span class=\"toc-item-num\">1.4.3&nbsp;&nbsp;</span>Remove Stopwords</a></span></li></ul></li><li><span><a href=\"#Analysis-on-10ks\" data-toc-modified-id=\"Analysis-on-10ks-1.5\"><span class=\"toc-item-num\">1.5&nbsp;&nbsp;</span>Analysis on 10ks</a></span><ul class=\"toc-item\"><li><span><a href=\"#Loughran-McDonald-Sentiment-Word-Lists\" data-toc-modified-id=\"Loughran-McDonald-Sentiment-Word-Lists-1.5.1\"><span class=\"toc-item-num\">1.5.1&nbsp;&nbsp;</span>Loughran McDonald Sentiment Word Lists</a></span></li><li><span><a href=\"#Bag-of-Words\" data-toc-modified-id=\"Bag-of-Words-1.5.2\"><span class=\"toc-item-num\">1.5.2&nbsp;&nbsp;</span>Bag of Words</a></span></li><li><span><a href=\"#Jaccard-Similarity\" data-toc-modified-id=\"Jaccard-Similarity-1.5.3\"><span class=\"toc-item-num\">1.5.3&nbsp;&nbsp;</span>Jaccard Similarity</a></span></li><li><span><a href=\"#TFIDF\" data-toc-modified-id=\"TFIDF-1.5.4\"><span class=\"toc-item-num\">1.5.4&nbsp;&nbsp;</span>TFIDF</a></span></li><li><span><a href=\"#Cosine-Similarity\" data-toc-modified-id=\"Cosine-Similarity-1.5.5\"><span class=\"toc-item-num\">1.5.5&nbsp;&nbsp;</span>Cosine Similarity</a></span></li></ul></li><li><span><a href=\"#Evaluate-Alpha-Factors\" data-toc-modified-id=\"Evaluate-Alpha-Factors-1.6\"><span class=\"toc-item-num\">1.6&nbsp;&nbsp;</span>Evaluate Alpha Factors</a></span><ul class=\"toc-item\"><li><span><a href=\"#Price-Data\" data-toc-modified-id=\"Price-Data-1.6.1\"><span class=\"toc-item-num\">1.6.1&nbsp;&nbsp;</span>Price Data</a></span></li><li><span><a href=\"#Dict-to-DataFrame\" data-toc-modified-id=\"Dict-to-DataFrame-1.6.2\"><span class=\"toc-item-num\">1.6.2&nbsp;&nbsp;</span>Dict to DataFrame</a></span></li><li><span><a href=\"#Alphalens-Format\" data-toc-modified-id=\"Alphalens-Format-1.6.3\"><span class=\"toc-item-num\">1.6.3&nbsp;&nbsp;</span>Alphalens Format</a></span></li><li><span><a href=\"#Alphalens-Format-with-Unix-Time\" data-toc-modified-id=\"Alphalens-Format-with-Unix-Time-1.6.4\"><span class=\"toc-item-num\">1.6.4&nbsp;&nbsp;</span>Alphalens Format with Unix Time</a></span></li><li><span><a href=\"#Factor-Returns\" data-toc-modified-id=\"Factor-Returns-1.6.5\"><span class=\"toc-item-num\">1.6.5&nbsp;&nbsp;</span>Factor Returns</a></span></li><li><span><a href=\"#Basis-Points-Per-Day-per-Quantile\" data-toc-modified-id=\"Basis-Points-Per-Day-per-Quantile-1.6.6\"><span class=\"toc-item-num\">1.6.6&nbsp;&nbsp;</span>Basis Points Per Day per Quantile</a></span></li><li><span><a href=\"#Turnover-Analysis\" data-toc-modified-id=\"Turnover-Analysis-1.6.7\"><span class=\"toc-item-num\">1.6.7&nbsp;&nbsp;</span>Turnover Analysis</a></span></li><li><span><a href=\"#Sharpe-Ratio-of-the-Alphas\" data-toc-modified-id=\"Sharpe-Ratio-of-the-Alphas-1.6.8\"><span class=\"toc-item-num\">1.6.8&nbsp;&nbsp;</span>Sharpe Ratio of the Alphas</a></span></li></ul></li><li><span><a href=\"#Submission\" data-toc-modified-id=\"Submission-1.7\"><span class=\"toc-item-num\">1.7&nbsp;&nbsp;</span>Submission</a></span></li></ul></li></ul></div>"
   ]
  },
  {
   "cell_type": "markdown",
   "metadata": {},
   "source": [
    "# Project 5: NLP on Financial Statements\n",
    "## Instructions\n",
    "Each problem consists of a function to implement and instructions on how to implement the function.  The parts of the function that need to be implemented are marked with a `# TODO` comment. After implementing the function, run the cell to test it against the unit tests we've provided. For each problem, we provide one or more unit tests from our `project_tests` package. These unit tests won't tell you if your answer is correct, but will warn you of any major errors. Your code will be checked for the correct solution when you submit it to Udacity.\n",
    "\n",
    "## Packages\n",
    "When you implement the functions, you'll only need to you use the packages you've used in the classroom, like [Pandas](https://pandas.pydata.org/) and [Numpy](http://www.numpy.org/). These packages will be imported for you. We recommend you don't add any import statements, otherwise the grader might not be able to run your code.\n",
    "\n",
    "The other packages that we're importing are `project_helper` and `project_tests`. These are custom packages built to help you solve the problems.  The `project_helper` module contains utility functions and graph functions. The `project_tests` contains the unit tests for all the problems.\n",
    "\n",
    "### Install Packages"
   ]
  },
  {
   "cell_type": "code",
   "execution_count": 1,
   "metadata": {},
   "outputs": [],
   "source": [
    "import sys\n",
    "#!{sys.executable} -m pip install --user -r requirements.txt"
   ]
  },
  {
   "cell_type": "markdown",
   "metadata": {},
   "source": [
    "### Load Packages"
   ]
  },
  {
   "cell_type": "code",
   "execution_count": 2,
   "metadata": {},
   "outputs": [],
   "source": [
    "import nltk\n",
    "import numpy as np\n",
    "import pandas as pd\n",
    "import pickle\n",
    "import pprint\n",
    "import project_helper\n",
    "import project_tests\n",
    "\n",
    "from tqdm import tqdm"
   ]
  },
  {
   "cell_type": "markdown",
   "metadata": {},
   "source": [
    "### Download NLP Corpora\n",
    "You'll need two corpora to run this project: the stopwords corpus for removing stopwords and wordnet for lemmatizing."
   ]
  },
  {
   "cell_type": "code",
   "execution_count": 3,
   "metadata": {},
   "outputs": [
    {
     "name": "stdout",
     "output_type": "stream",
     "text": [
      "[nltk_data] Downloading package stopwords to\n",
      "[nltk_data]     /home/codehappens/nltk_data...\n",
      "[nltk_data]   Package stopwords is already up-to-date!\n",
      "[nltk_data] Downloading package wordnet to\n",
      "[nltk_data]     /home/codehappens/nltk_data...\n",
      "[nltk_data]   Package wordnet is already up-to-date!\n"
     ]
    },
    {
     "data": {
      "text/plain": [
       "True"
      ]
     },
     "execution_count": 3,
     "metadata": {},
     "output_type": "execute_result"
    }
   ],
   "source": [
    "nltk.download('stopwords')\n",
    "nltk.download('wordnet')"
   ]
  },
  {
   "cell_type": "markdown",
   "metadata": {},
   "source": [
    "## Get 10ks\n",
    "We'll be running NLP analysis on 10-k documents. To do that, we first need to download the documents. For this project, we'll download 10-ks for a few companies. To lookup documents for these companies, we'll use their CIK. If you would like to run this against other stocks, we've provided the dict `additional_cik` for more stocks. However, the more stocks you try, the long it will take to run."
   ]
  },
  {
   "cell_type": "code",
   "execution_count": 4,
   "metadata": {},
   "outputs": [],
   "source": [
    "cik_lookup = {\n",
    "    'AMZN': '0001018724',\n",
    "    'BMY': '0000014272',   \n",
    "    'CNP': '0001130310',\n",
    "    'CVX': '0000093410',\n",
    "    'FL': '0000850209',\n",
    "    'FRT': '0000034903',\n",
    "    'HON': '0000773840'}\n",
    "\n",
    "additional_cik = {\n",
    "    'AEP': '0000004904',\n",
    "    'AXP': '0000004962',\n",
    "    'BA': '0000012927', \n",
    "    'BK': '0001390777',\n",
    "    'CAT': '0000018230',\n",
    "    'DE': '0000315189',\n",
    "    'DIS': '0001001039',\n",
    "    'DTE': '0000936340',\n",
    "    'ED': '0001047862',\n",
    "    'EMR': '0000032604',\n",
    "    'ETN': '0001551182',\n",
    "    'GE': '0000040545',\n",
    "    'IBM': '0000051143',\n",
    "    'IP': '0000051434',\n",
    "    'JNJ': '0000200406',\n",
    "    'KO': '0000021344',\n",
    "    'LLY': '0000059478',\n",
    "    'MCD': '0000063908',\n",
    "    'MO': '0000764180',\n",
    "    'MRK': '0000310158',\n",
    "    'MRO': '0000101778',\n",
    "    'PCG': '0001004980',\n",
    "    'PEP': '0000077476',\n",
    "    'PFE': '0000078003',\n",
    "    'PG': '0000080424',\n",
    "    'PNR': '0000077360',\n",
    "    'SYY': '0000096021',\n",
    "    'TXN': '0000097476',\n",
    "    'UTX': '0000101829',\n",
    "    'WFC': '0000072971',\n",
    "    'WMT': '0000104169',\n",
    "    'WY': '0000106535',\n",
    "    'XOM': '0000034088'}"
   ]
  },
  {
   "cell_type": "markdown",
   "metadata": {},
   "source": [
    "### Get list of 10-ks\n",
    "The SEC has a limit on the number of calls you can make to the website per second. In order to avoid hiding that limit, we've created the `SecAPI` class. This will cache data from the SEC and prevent you from going over the limit."
   ]
  },
  {
   "cell_type": "code",
   "execution_count": 5,
   "metadata": {},
   "outputs": [],
   "source": [
    "sec_api = project_helper.SecAPI()"
   ]
  },
  {
   "cell_type": "markdown",
   "metadata": {},
   "source": [
    "With the class constructed, let's pull a list of filled 10-ks from the SEC for each company."
   ]
  },
  {
   "cell_type": "code",
   "execution_count": 6,
   "metadata": {},
   "outputs": [],
   "source": [
    "from bs4 import BeautifulSoup\n",
    "\n",
    "def get_sec_data(cik, doc_type, start=0, count=60):\n",
    "    newest_pricing_data = pd.to_datetime('2018-01-01')\n",
    "    rss_url = 'https://www.sec.gov/cgi-bin/browse-edgar?action=getcompany' \\\n",
    "        '&CIK={}&type={}&start={}&count={}&owner=exclude&output=atom' \\\n",
    "        .format(cik, doc_type, start, count)\n",
    "    sec_data = sec_api.get(rss_url)\n",
    "    feed = BeautifulSoup(sec_data.encode('ascii'), 'xml').feed\n",
    "    entries = [\n",
    "        (\n",
    "            entry.content.find('filing-href').getText(),\n",
    "            entry.content.find('filing-type').getText(),\n",
    "            entry.content.find('filing-date').getText())\n",
    "        for entry in feed.find_all('entry', recursive=False)\n",
    "        if pd.to_datetime(entry.content.find('filing-date').getText()) <= newest_pricing_data]\n",
    "\n",
    "    return entries"
   ]
  },
  {
   "cell_type": "markdown",
   "metadata": {},
   "source": [
    "Let's pull the list using the `get_sec_data` function, then display some of the results. For displaying some of the data, we'll use Amazon as an example. "
   ]
  },
  {
   "cell_type": "code",
   "execution_count": 7,
   "metadata": {},
   "outputs": [
    {
     "name": "stdout",
     "output_type": "stream",
     "text": [
      "[('https://www.sec.gov/Archives/edgar/data/1018724/000101872417000011/0001018724-17-000011-index.htm',\n",
      "  '10-K',\n",
      "  '2017-02-10'),\n",
      " ('https://www.sec.gov/Archives/edgar/data/1018724/000101872416000172/0001018724-16-000172-index.htm',\n",
      "  '10-K',\n",
      "  '2016-01-29'),\n",
      " ('https://www.sec.gov/Archives/edgar/data/1018724/000101872415000006/0001018724-15-000006-index.htm',\n",
      "  '10-K',\n",
      "  '2015-01-30'),\n",
      " ('https://www.sec.gov/Archives/edgar/data/1018724/000101872414000006/0001018724-14-000006-index.htm',\n",
      "  '10-K',\n",
      "  '2014-01-31'),\n",
      " ('https://www.sec.gov/Archives/edgar/data/1018724/000119312513028520/0001193125-13-028520-index.htm',\n",
      "  '10-K',\n",
      "  '2013-01-30')]\n"
     ]
    }
   ],
   "source": [
    "example_ticker = 'AMZN'\n",
    "sec_data = {}\n",
    "\n",
    "for ticker, cik in cik_lookup.items():\n",
    "    sec_data[ticker] = get_sec_data(cik, '10-K')\n",
    "\n",
    "pprint.pprint(sec_data[example_ticker][:5])"
   ]
  },
  {
   "cell_type": "markdown",
   "metadata": {},
   "source": [
    "### Download 10-ks\n",
    "As you see, this is a list of urls. These urls point to a file that contains metadata related to each filling. Since we don't care about the metadata, we'll pull the filling by replacing the url with the filling url."
   ]
  },
  {
   "cell_type": "code",
   "execution_count": 8,
   "metadata": {},
   "outputs": [
    {
     "name": "stderr",
     "output_type": "stream",
     "text": [
      "Downloading AMZN Fillings: 100%|██████████| 22/22 [00:08<00:00,  2.45filling/s]\n",
      "Downloading BMY Fillings: 100%|██████████| 27/27 [00:13<00:00,  2.18filling/s]\n",
      "Downloading CNP Fillings: 100%|██████████| 19/19 [00:10<00:00,  1.80filling/s]\n",
      "Downloading CVX Fillings: 100%|██████████| 25/25 [00:14<00:00,  2.19filling/s]\n",
      "Downloading FL Fillings: 100%|██████████| 22/22 [00:11<00:00,  1.86filling/s]\n",
      "Downloading FRT Fillings: 100%|██████████| 29/29 [00:15<00:00,  2.42filling/s]\n",
      "Downloading HON Fillings: 100%|██████████| 25/25 [00:12<00:00,  1.98filling/s]"
     ]
    },
    {
     "name": "stdout",
     "output_type": "stream",
     "text": [
      "Example Document:\n",
      "\n",
      "<SEC-DOCUMENT>0001018724-17-000011.txt : 20170210\n",
      "<SEC-HEADER>0001018724-17-000011.hdr.sgml : 20170210\n",
      "<ACCEPTANCE-DATETIME>20170209175636\n",
      "ACCESSION NUMBER:\t\t0001018724-17-000011\n",
      "CONFORMED SUBMISSION TYPE:\t10-K\n",
      "PUBLIC DOCUMENT COUNT:\t\t92\n",
      "CONFORMED PERIOD OF REPORT:\t20161231\n",
      "FILED AS OF DATE:\t\t20170210\n",
      "DATE AS OF CHANGE:\t\t20170209\n",
      "\n",
      "FILER:\n",
      "\n",
      "\tCOMPANY DATA:\t\n",
      "\t\tCOMPANY CONFORMED NAME:\t\t\tAMAZON COM INC\n",
      "\t\tCENTRAL INDEX KEY:\t\t\t0001018724\n",
      "\t\tSTANDARD INDUSTRIAL CLASSIFICATION:\tRETAIL-CATALOG & MAIL-ORDER HOUSES [5961]\n",
      "\t\tIRS NUMBER:\t\t\t\t911646860\n",
      "\t\tSTATE OF INCORPORATION:\t\t\tDE\n",
      "\t\tFISCAL YEAR END:\t\t\t1231\n",
      "\n",
      "\tFILING VALUES:\n",
      "\t\tFORM TYPE:\t\t10-K\n",
      "\t\tSEC ACT:\t\t1934 Act\n",
      "\t\tSEC FILE NUMBER:\t000-22513\n",
      "\t\tFILM NUMBER:\t\t17588807\n",
      "\n",
      "\tBUSINESS ADDRESS:\t\n",
      "\t\tSTREET 1:\t\t410 TERRY AVENUE NORTH\n",
      "\t\tCITY:\t\t\tSEATTLE\n",
      "\t\tSTATE:\t\t\tWA\n",
      "\t\tZIP:\t\t\t98109\n",
      "\t\tBUSINESS PHONE:\t\t2062661000\n",
      "\n",
      "\tMAIL ADDRESS:\t\n",
      "\t\tSTREET 1:\t\t410 TERRY AVENUE NORTH\n",
      "\t\tCITY:\t\t\tSEATTLE\n",
      "\t\tSTATE:\t\t\tWA\n",
      "\t\tZIP:\t\t\t98109\n",
      "</SEC-HEADER>\n",
      "<DOCUMENT>\n",
      "<TYPE>10-K\n",
      "<SEQUENCE>1\n",
      "<FILENAME...\n"
     ]
    },
    {
     "name": "stderr",
     "output_type": "stream",
     "text": [
      "\n"
     ]
    }
   ],
   "source": [
    "raw_fillings_by_ticker = {}\n",
    "\n",
    "for ticker, data in sec_data.items():\n",
    "    raw_fillings_by_ticker[ticker] = {}\n",
    "    for index_url, file_type, file_date in tqdm(data, desc='Downloading {} Fillings'.format(ticker), unit='filling'):\n",
    "        if (file_type == '10-K'):\n",
    "            file_url = index_url.replace('-index.htm', '.txt').replace('.txtl', '.txt')            \n",
    "            \n",
    "            raw_fillings_by_ticker[ticker][file_date] = sec_api.get(file_url)\n",
    "\n",
    "\n",
    "print('Example Document:\\n\\n{}...'.format(next(iter(raw_fillings_by_ticker[example_ticker].values()))[:1000]))"
   ]
  },
  {
   "cell_type": "markdown",
   "metadata": {},
   "source": [
    "### Get Documents\n",
    "With theses fillings downloaded, we want to break them into their associated documents. These documents are sectioned off in the fillings with the tags `<DOCUMENT>` for the start of each document and `</DOCUMENT>` for the end of each document. There's no overlap with these documents, so each `</DOCUMENT>` tag should come after the `<DOCUMENT>` with no `<DOCUMENT>` tag in between.\n",
    "\n",
    "Implement `get_documents` to return a list of these documents from a filling. Make sure not to include the tag in the returned document text."
   ]
  },
  {
   "cell_type": "code",
   "execution_count": 15,
   "metadata": {},
   "outputs": [
    {
     "name": "stdout",
     "output_type": "stream",
     "text": [
      "['\\nThis is inside the document\\nThis is the text that should be copied']\n",
      "['\\n<type>10-K\\n<sequence>1\\n<filename>test-20171231x10k.htm\\n<description>10-K\\n<text>\\n<!DOCTYPE html PUBLIC \"-//W3C//DTD HTML 4.01 Transitional//EN\" \"http://www.w3.org/TR/html4/loose.dtd\">\\n\\n<title>Document</title>\\n\\t\\n\\t\\n...\\n<td><strong> Data Type:</strong></td>\\n<td>xbrli:sharesItemType</td>\\n<tr>\\n<td><strong> Balance Type:</strong></td>\\n<td>na</td>\\n</tr>\\n<tr>\\n<td><strong> Period Type:</strong></td>\\n<td>duration</td>\\n</tr>\\n</text>\\n</description></filename></sequence></type>', '\\n<type>EXCEL\\n<sequence>106\\n<filename>Financial_Report.xlsx\\n<description>IDEA: XBRL DOCUMENT\\n<text>\\nbegin 644 Financial_Report.xlsx\\nM4$L#!!0    ( %\"E04P?(\\\\#P    !,\"   +    7W)E;,O+G)E;.MDD^+\\nMPD ,Q;]*F?L:5\\\\#8CUYZ6U9_ )Q)OU#.Y,A$[%^&gt;X&gt;];+=44/ 87O+&gt;CT?V\\n...\\nM,C,Q7V1E9BYX;6Q02P$\"% ,4    \" !0I4%,&gt;V7[]F0L 0!(@A  %0\\nM        @ %N9@, 86UZ;BTR,#$W,3(S,5]L86(N&gt;&amp;UL4$L! A0#%     @\\nM4*5!3*U*Q:W#O0  U=\\\\) !4              ( !!9,$ &amp;%M&gt;FXM,C Q-S$R\\n@,S%?\\n</text></description></filename></sequence></type>']\n"
     ]
    },
    {
     "ename": "AssertionError",
     "evalue": "Wrong value for get_documents.\n\nINPUT text:\n<SEC-DOCUMENT>0002014754-18-050402.txt : 20180202\n<SEC-HEADER>00002014754-18-050402.hdr.sgml : 20180202\n<ACCEPTANCE-DATETIME>20180201204115\nACCESSION NUMBER:\t\t0002014754-18-050402\nCONFORMED SUBMISSION TYPE:\t10-K\nPUBLIC DOCUMENT COUNT:\t\t110\nCONFORMED PERIOD OF REPORT:\t20171231\nFILED AS OF DATE:\t\t20180202\nDATE AS OF CHANGE:\t\t20180201\n\nFILER:\n\n\tCOMPANY DATA:\t\n\t\tCOMPANY CONFORMED NAME:\t\t\tTEST\n\t\tCENTRAL INDEX KEY:\t\t\t0001018724\n\t\tSTANDARD INDUSTRIAL CLASSIFICATION:\tRANDOM [2357234]\n\t\tIRS NUMBER:\t\t\t\t91236464620\n\t\tSTATE OF INCORPORATION:\t\t\tDE\n\t\tFISCAL YEAR END:\t\t\t1231\n\n\tFILING VALUES:\n\t\tFORM TYPE:\t\t10-K\n\t\tSEC ACT:\t\t1934 Act\n\t\tSEC FILE NUMBER:\t000-2225413\n\t\tFILM NUMBER:\t\t13822526583969\n\n\tBUSINESS ADDRESS:\t\n\t\tSTREET 1:\t\t422320 PLACE AVENUE\n\t\tCITY:\t\t\tSEATTLE\n\t\tSTATE:\t\t\tWA\n\t\tZIP:\t\t\t234234\n\t\tBUSINESS PHONE:\t\t306234534246600\n\n\tMAIL ADDRESS:\t\n\t\tSTREET 1:\t\t422320 PLACE AVENUE\n\t\tCITY:\t\t\tSEATTLE\n\t\tSTATE:\t\t\tWA\n\t\tZIP:\t\t\t234234\n</SEC-HEADER>\n<DOCUMENT>\n<TYPE>10-K\n<SEQUENCE>1\n<FILENAME>test-20171231x10k.htm\n<DESCRIPTION>10-K\n<TEXT>\n<!DOCTYPE html PUBLIC \"-//W3C//DTD HTML 4.01 Transitional//EN\" \"http://www.w3.org/TR/html4/loose.dtd\">\n<html>\n\t<head>\n\t\t<title>Document</title>\n\t</head>\n\t<body style=\"font-family:Times New Roman;font-size:10pt;\">\n...\n<td><strong> Data Type:</strong></td>\n<td>xbrli:sharesItemType</td>\n</tr>\n<tr>\n<td><strong> Balance Type:</strong></td>\n<td>na</td>\n</tr>\n<tr>\n<td><strong> Period Type:</strong></td>\n<td>duration</td>\n</tr>\n</table></div>\n</div></td></tr>\n</table>\n</div>\n</body>\n</html>\n</TEXT>\n</DOCUMENT>\n<DOCUMENT>\n<TYPE>EXCEL\n<SEQUENCE>106\n<FILENAME>Financial_Report.xlsx\n<DESCRIPTION>IDEA: XBRL DOCUMENT\n<TEXT>\nbegin 644 Financial_Report.xlsx\nM4$L#!!0    ( %\"E04P?(\\#P    !,\"   +    7W)E;,O+G)E;.MDD^+\nMPD ,Q;]*F?L:5\\#8CUYZ6U9_ )Q)OU#.Y,A$[%^>X>];+=44/ 87O+>CT?V\n...\nM,C,Q7V1E9BYX;6Q02P$\"% ,4    \" !0I4%,>V7[]F0L 0!(@A  %0\nM        @ %N9@, 86UZ;BTR,#$W,3(S,5]L86(N>&UL4$L! A0#%     @\nM4*5!3*U*Q:W#O0  U=\\) !4              ( !!9,$ &%M>FXM,C Q-S$R\n@,S%?<)E+GAM;%!+!08     !@ & (H!  #[4 4    !\n\nend\n</TEXT>\n</DOCUMENT>\n</SEC-DOCUMENT>\n\n\nOUTPUT extracted_docs:\n['\\n<type>10-K\\n<sequence>1\\n<filename>test-20171231x10k.htm\\n<description>10-K\\n<text>\\n<!DOCTYPE html PUBLIC \"-//W3C//DTD HTML 4.01 Transitional//EN\" \"http://www.w3.org/TR/html4/loose.dtd\">\\n\\n<title>Document</title>\\n\\t\\n\\t\\n...\\n<td><strong> Data Type:</strong></td>\\n<td>xbrli:sharesItemType</td>\\n<tr>\\n<td><strong> Balance Type:</strong></td>\\n<td>na</td>\\n</tr>\\n<tr>\\n<td><strong> Period Type:</strong></td>\\n<td>duration</td>\\n</tr>\\n</text>\\n</description></filename></sequence></type>', '\\n<type>EXCEL\\n<sequence>106\\n<filename>Financial_Report.xlsx\\n<description>IDEA: XBRL DOCUMENT\\n<text>\\nbegin 644 Financial_Report.xlsx\\nM4$L#!!0    ( %\"E04P?(\\\\#P    !,\"   +    7W)E;,O+G)E;.MDD^+\\nMPD ,Q;]*F?L:5\\\\#8CUYZ6U9_ )Q)OU#.Y,A$[%^&gt;X&gt;];+=44/ 87O+&gt;CT?V\\n...\\nM,C,Q7V1E9BYX;6Q02P$\"% ,4    \" !0I4%,&gt;V7[]F0L 0!(@A  %0\\nM        @ %N9@, 86UZ;BTR,#$W,3(S,5]L86(N&gt;&amp;UL4$L! A0#%     @\\nM4*5!3*U*Q:W#O0  U=\\\\) !4              ( !!9,$ &amp;%M&gt;FXM,C Q-S$R\\n@,S%?\\n</text></description></filename></sequence></type>']\n\nEXPECTED OUTPUT FOR extracted_docs:\n['\\n<TYPE>10-K\\n<SEQUENCE>1\\n<FILENAME>test-20171231x10k.htm\\n<DESCRIPTION>10-K\\n<TEXT>\\n<!DOCTYPE html PUBLIC \"-//W3C//DTD HTML 4.01 Transitional//EN\" \"http://www.w3.org/TR/html4/loose.dtd\">\\n<html>\\n\\t<head>\\n\\t\\t<title>Document</title>\\n\\t</head>\\n\\t<body style=\"font-family:Times New Roman;font-size:10pt;\">\\n...\\n<td><strong> Data Type:</strong></td>\\n<td>xbrli:sharesItemType</td>\\n</tr>\\n<tr>\\n<td><strong> Balance Type:</strong></td>\\n<td>na</td>\\n</tr>\\n<tr>\\n<td><strong> Period Type:</strong></td>\\n<td>duration</td>\\n</tr>\\n</table></div>\\n</div></td></tr>\\n</table>\\n</div>\\n</body>\\n</html>\\n</TEXT>\\n', '\\n<TYPE>EXCEL\\n<SEQUENCE>106\\n<FILENAME>Financial_Report.xlsx\\n<DESCRIPTION>IDEA: XBRL DOCUMENT\\n<TEXT>\\nbegin 644 Financial_Report.xlsx\\nM4$L#!!0    ( %\"E04P?(\\\\#P    !,\"   +    7W)E;,O+G)E;.MDD^+\\nMPD ,Q;]*F?L:5\\\\#8CUYZ6U9_ )Q)OU#.Y,A$[%^>X>];+=44/ 87O+>CT?V\\n...\\nM,C,Q7V1E9BYX;6Q02P$\"% ,4    \" !0I4%,>V7[]F0L 0!(@A  %0\\nM        @ %N9@, 86UZ;BTR,#$W,3(S,5]L86(N>&UL4$L! A0#%     @\\nM4*5!3*U*Q:W#O0  U=\\\\) !4              ( !!9,$ &%M>FXM,C Q-S$R\\n@,S%?<)E+GAM;%!+!08     !@ & (H!  #[4 4    !\\n\\nend\\n</TEXT>\\n']\n",
     "output_type": "error",
     "traceback": [
      "\u001b[0;31m\u001b[0m",
      "\u001b[0;31mAssertionError\u001b[0mTraceback (most recent call last)",
      "\u001b[0;32m<ipython-input-15-d0bbea6faadc>\u001b[0m in \u001b[0;36m<module>\u001b[0;34m\u001b[0m\n\u001b[1;32m     21\u001b[0m     \u001b[0;32mreturn\u001b[0m \u001b[0mg\u001b[0m\u001b[0;34m\u001b[0m\u001b[0;34m\u001b[0m\u001b[0m\n\u001b[1;32m     22\u001b[0m \u001b[0;34m\u001b[0m\u001b[0m\n\u001b[0;32m---> 23\u001b[0;31m \u001b[0mproject_tests\u001b[0m\u001b[0;34m.\u001b[0m\u001b[0mtest_get_documents\u001b[0m\u001b[0;34m(\u001b[0m\u001b[0mget_documents\u001b[0m\u001b[0;34m)\u001b[0m\u001b[0;34m\u001b[0m\u001b[0;34m\u001b[0m\u001b[0m\n\u001b[0m",
      "\u001b[0;32m~/ToiletHill/project_notebooks/p5/tests.py\u001b[0m in \u001b[0;36mfunc_wrapper\u001b[0;34m(*args)\u001b[0m\n\u001b[1;32m     58\u001b[0m \u001b[0;32mdef\u001b[0m \u001b[0mproject_test\u001b[0m\u001b[0;34m(\u001b[0m\u001b[0mfunc\u001b[0m\u001b[0;34m)\u001b[0m\u001b[0;34m:\u001b[0m\u001b[0;34m\u001b[0m\u001b[0;34m\u001b[0m\u001b[0m\n\u001b[1;32m     59\u001b[0m     \u001b[0;32mdef\u001b[0m \u001b[0mfunc_wrapper\u001b[0m\u001b[0;34m(\u001b[0m\u001b[0;34m*\u001b[0m\u001b[0margs\u001b[0m\u001b[0;34m)\u001b[0m\u001b[0;34m:\u001b[0m\u001b[0;34m\u001b[0m\u001b[0;34m\u001b[0m\u001b[0m\n\u001b[0;32m---> 60\u001b[0;31m         \u001b[0mresult\u001b[0m \u001b[0;34m=\u001b[0m \u001b[0mfunc\u001b[0m\u001b[0;34m(\u001b[0m\u001b[0;34m*\u001b[0m\u001b[0margs\u001b[0m\u001b[0;34m)\u001b[0m\u001b[0;34m\u001b[0m\u001b[0;34m\u001b[0m\u001b[0m\n\u001b[0m\u001b[1;32m     61\u001b[0m         \u001b[0mprint\u001b[0m\u001b[0;34m(\u001b[0m\u001b[0;34m'Tests Passed'\u001b[0m\u001b[0;34m)\u001b[0m\u001b[0;34m\u001b[0m\u001b[0;34m\u001b[0m\u001b[0m\n\u001b[1;32m     62\u001b[0m         \u001b[0;32mreturn\u001b[0m \u001b[0mresult\u001b[0m\u001b[0;34m\u001b[0m\u001b[0;34m\u001b[0m\u001b[0m\n",
      "\u001b[0;32m~/ToiletHill/project_notebooks/p5/project_tests.py\u001b[0m in \u001b[0;36mtest_get_documents\u001b[0;34m(fn)\u001b[0m\n\u001b[1;32m    122\u001b[0m             'extracted_docs', [ten_k_real_compressed_doc, excel_real_compressed_doc])])\n\u001b[1;32m    123\u001b[0m \u001b[0;34m\u001b[0m\u001b[0m\n\u001b[0;32m--> 124\u001b[0;31m     \u001b[0massert_output\u001b[0m\u001b[0;34m(\u001b[0m\u001b[0mfn\u001b[0m\u001b[0;34m,\u001b[0m \u001b[0mfn_inputs\u001b[0m\u001b[0;34m,\u001b[0m \u001b[0mfn_correct_outputs\u001b[0m\u001b[0;34m,\u001b[0m \u001b[0mcheck_parameter_changes\u001b[0m\u001b[0;34m=\u001b[0m\u001b[0;32mFalse\u001b[0m\u001b[0;34m)\u001b[0m\u001b[0;34m\u001b[0m\u001b[0;34m\u001b[0m\u001b[0m\n\u001b[0m\u001b[1;32m    125\u001b[0m \u001b[0;34m\u001b[0m\u001b[0m\n\u001b[1;32m    126\u001b[0m \u001b[0;34m\u001b[0m\u001b[0m\n",
      "\u001b[0;32m~/ToiletHill/project_notebooks/p5/tests.py\u001b[0m in \u001b[0;36massert_output\u001b[0;34m(fn, fn_inputs, fn_expected_outputs, check_parameter_changes)\u001b[0m\n\u001b[1;32m    200\u001b[0m         \u001b[0mcorrect_data\u001b[0m \u001b[0;34m=\u001b[0m \u001b[0mdoes_data_match\u001b[0m\u001b[0;34m(\u001b[0m\u001b[0mexpected_out\u001b[0m\u001b[0;34m,\u001b[0m \u001b[0mfn_out\u001b[0m\u001b[0;34m)\u001b[0m\u001b[0;34m\u001b[0m\u001b[0;34m\u001b[0m\u001b[0m\n\u001b[1;32m    201\u001b[0m \u001b[0;34m\u001b[0m\u001b[0m\n\u001b[0;32m--> 202\u001b[0;31m         \u001b[0;32massert\u001b[0m \u001b[0mcorrect_data\u001b[0m\u001b[0;34m,\u001b[0m \u001b[0merr_message\u001b[0m\u001b[0;34m\u001b[0m\u001b[0;34m\u001b[0m\u001b[0m\n\u001b[0m",
      "\u001b[0;31mAssertionError\u001b[0m: Wrong value for get_documents.\n\nINPUT text:\n<SEC-DOCUMENT>0002014754-18-050402.txt : 20180202\n<SEC-HEADER>00002014754-18-050402.hdr.sgml : 20180202\n<ACCEPTANCE-DATETIME>20180201204115\nACCESSION NUMBER:\t\t0002014754-18-050402\nCONFORMED SUBMISSION TYPE:\t10-K\nPUBLIC DOCUMENT COUNT:\t\t110\nCONFORMED PERIOD OF REPORT:\t20171231\nFILED AS OF DATE:\t\t20180202\nDATE AS OF CHANGE:\t\t20180201\n\nFILER:\n\n\tCOMPANY DATA:\t\n\t\tCOMPANY CONFORMED NAME:\t\t\tTEST\n\t\tCENTRAL INDEX KEY:\t\t\t0001018724\n\t\tSTANDARD INDUSTRIAL CLASSIFICATION:\tRANDOM [2357234]\n\t\tIRS NUMBER:\t\t\t\t91236464620\n\t\tSTATE OF INCORPORATION:\t\t\tDE\n\t\tFISCAL YEAR END:\t\t\t1231\n\n\tFILING VALUES:\n\t\tFORM TYPE:\t\t10-K\n\t\tSEC ACT:\t\t1934 Act\n\t\tSEC FILE NUMBER:\t000-2225413\n\t\tFILM NUMBER:\t\t13822526583969\n\n\tBUSINESS ADDRESS:\t\n\t\tSTREET 1:\t\t422320 PLACE AVENUE\n\t\tCITY:\t\t\tSEATTLE\n\t\tSTATE:\t\t\tWA\n\t\tZIP:\t\t\t234234\n\t\tBUSINESS PHONE:\t\t306234534246600\n\n\tMAIL ADDRESS:\t\n\t\tSTREET 1:\t\t422320 PLACE AVENUE\n\t\tCITY:\t\t\tSEATTLE\n\t\tSTATE:\t\t\tWA\n\t\tZIP:\t\t\t234234\n</SEC-HEADER>\n<DOCUMENT>\n<TYPE>10-K\n<SEQUENCE>1\n<FILENAME>test-20171231x10k.htm\n<DESCRIPTION>10-K\n<TEXT>\n<!DOCTYPE html PUBLIC \"-//W3C//DTD HTML 4.01 Transitional//EN\" \"http://www.w3.org/TR/html4/loose.dtd\">\n<html>\n\t<head>\n\t\t<title>Document</title>\n\t</head>\n\t<body style=\"font-family:Times New Roman;font-size:10pt;\">\n...\n<td><strong> Data Type:</strong></td>\n<td>xbrli:sharesItemType</td>\n</tr>\n<tr>\n<td><strong> Balance Type:</strong></td>\n<td>na</td>\n</tr>\n<tr>\n<td><strong> Period Type:</strong></td>\n<td>duration</td>\n</tr>\n</table></div>\n</div></td></tr>\n</table>\n</div>\n</body>\n</html>\n</TEXT>\n</DOCUMENT>\n<DOCUMENT>\n<TYPE>EXCEL\n<SEQUENCE>106\n<FILENAME>Financial_Report.xlsx\n<DESCRIPTION>IDEA: XBRL DOCUMENT\n<TEXT>\nbegin 644 Financial_Report.xlsx\nM4$L#!!0    ( %\"E04P?(\\#P    !,\"   +    7W)E;,O+G)E;.MDD^+\nMPD ,Q;]*F?L:5\\#8CUYZ6U9_ )Q)OU#.Y,A$[%^>X>];+=44/ 87O+>CT?V\n...\nM,C,Q7V1E9BYX;6Q02P$\"% ,4    \" !0I4%,>V7[]F0L 0!(@A  %0\nM        @ %N9@, 86UZ;BTR,#$W,3(S,5]L86(N>&UL4$L! A0#%     @\nM4*5!3*U*Q:W#O0  U=\\) !4              ( !!9,$ &%M>FXM,C Q-S$R\n@,S%?<)E+GAM;%!+!08     !@ & (H!  #[4 4    !\n\nend\n</TEXT>\n</DOCUMENT>\n</SEC-DOCUMENT>\n\n\nOUTPUT extracted_docs:\n['\\n<type>10-K\\n<sequence>1\\n<filename>test-20171231x10k.htm\\n<description>10-K\\n<text>\\n<!DOCTYPE html PUBLIC \"-//W3C//DTD HTML 4.01 Transitional//EN\" \"http://www.w3.org/TR/html4/loose.dtd\">\\n\\n<title>Document</title>\\n\\t\\n\\t\\n...\\n<td><strong> Data Type:</strong></td>\\n<td>xbrli:sharesItemType</td>\\n<tr>\\n<td><strong> Balance Type:</strong></td>\\n<td>na</td>\\n</tr>\\n<tr>\\n<td><strong> Period Type:</strong></td>\\n<td>duration</td>\\n</tr>\\n</text>\\n</description></filename></sequence></type>', '\\n<type>EXCEL\\n<sequence>106\\n<filename>Financial_Report.xlsx\\n<description>IDEA: XBRL DOCUMENT\\n<text>\\nbegin 644 Financial_Report.xlsx\\nM4$L#!!0    ( %\"E04P?(\\\\#P    !,\"   +    7W)E;,O+G)E;.MDD^+\\nMPD ,Q;]*F?L:5\\\\#8CUYZ6U9_ )Q)OU#.Y,A$[%^&gt;X&gt;];+=44/ 87O+&gt;CT?V\\n...\\nM,C,Q7V1E9BYX;6Q02P$\"% ,4    \" !0I4%,&gt;V7[]F0L 0!(@A  %0\\nM        @ %N9@, 86UZ;BTR,#$W,3(S,5]L86(N&gt;&amp;UL4$L! A0#%     @\\nM4*5!3*U*Q:W#O0  U=\\\\) !4              ( !!9,$ &amp;%M&gt;FXM,C Q-S$R\\n@,S%?\\n</text></description></filename></sequence></type>']\n\nEXPECTED OUTPUT FOR extracted_docs:\n['\\n<TYPE>10-K\\n<SEQUENCE>1\\n<FILENAME>test-20171231x10k.htm\\n<DESCRIPTION>10-K\\n<TEXT>\\n<!DOCTYPE html PUBLIC \"-//W3C//DTD HTML 4.01 Transitional//EN\" \"http://www.w3.org/TR/html4/loose.dtd\">\\n<html>\\n\\t<head>\\n\\t\\t<title>Document</title>\\n\\t</head>\\n\\t<body style=\"font-family:Times New Roman;font-size:10pt;\">\\n...\\n<td><strong> Data Type:</strong></td>\\n<td>xbrli:sharesItemType</td>\\n</tr>\\n<tr>\\n<td><strong> Balance Type:</strong></td>\\n<td>na</td>\\n</tr>\\n<tr>\\n<td><strong> Period Type:</strong></td>\\n<td>duration</td>\\n</tr>\\n</table></div>\\n</div></td></tr>\\n</table>\\n</div>\\n</body>\\n</html>\\n</TEXT>\\n', '\\n<TYPE>EXCEL\\n<SEQUENCE>106\\n<FILENAME>Financial_Report.xlsx\\n<DESCRIPTION>IDEA: XBRL DOCUMENT\\n<TEXT>\\nbegin 644 Financial_Report.xlsx\\nM4$L#!!0    ( %\"E04P?(\\\\#P    !,\"   +    7W)E;,O+G)E;.MDD^+\\nMPD ,Q;]*F?L:5\\\\#8CUYZ6U9_ )Q)OU#.Y,A$[%^>X>];+=44/ 87O+>CT?V\\n...\\nM,C,Q7V1E9BYX;6Q02P$\"% ,4    \" !0I4%,>V7[]F0L 0!(@A  %0\\nM        @ %N9@, 86UZ;BTR,#$W,3(S,5]L86(N>&UL4$L! A0#%     @\\nM4*5!3*U*Q:W#O0  U=\\\\) !4              ( !!9,$ &%M>FXM,C Q-S$R\\n@,S%?<)E+GAM;%!+!08     !@ & (H!  #[4 4    !\\n\\nend\\n</TEXT>\\n']\n"
     ]
    }
   ],
   "source": [
    "import re\n",
    "\n",
    "\n",
    "def get_documents(text):\n",
    "    \"\"\"\n",
    "    Extract the documents from the text\n",
    "\n",
    "    Parameters\n",
    "    ----------\n",
    "    text : str\n",
    "        The text with the document strings inside\n",
    "\n",
    "    Returns\n",
    "    -------\n",
    "    extracted_docs : list of str\n",
    "        The document strings found in `text`\n",
    "    \"\"\"\n",
    "    soup = BeautifulSoup(text).find_all('document')\n",
    "    g = [i.renderContents().decode(\"utf-8\")  for i in soup]\n",
    "    print(g)\n",
    "    return g\n",
    " \n",
    "project_tests.test_get_documents(get_documents)"
   ]
  },
  {
   "cell_type": "markdown",
   "metadata": {},
   "source": [
    "With the `get_documents` function implemented, let's extract all the documents."
   ]
  },
  {
   "cell_type": "code",
   "execution_count": null,
   "metadata": {
    "scrolled": false
   },
   "outputs": [],
   "source": [
    "filling_documents_by_ticker = {}\n",
    "\n",
    "for ticker, raw_fillings in raw_fillings_by_ticker.items():\n",
    "    filling_documents_by_ticker[ticker] = {}\n",
    "    for file_date, filling in tqdm(raw_fillings.items(), desc='Getting Documents from {} Fillings'.format(ticker), unit='filling'):\n",
    "        filling_documents_by_ticker[ticker][file_date] = get_documents(filling)\n",
    "\n",
    "\n",
    "print('\\n\\n'.join([\n",
    "    'Document {} Filed on {}:\\n{}...'.format(doc_i, file_date, doc[:200])\n",
    "    for file_date, docs in filling_documents_by_ticker[example_ticker].items()\n",
    "    for doc_i, doc in enumerate(docs)][:3]))"
   ]
  },
  {
   "cell_type": "markdown",
   "metadata": {},
   "source": [
    "### Get Document Types\n",
    "Now that we have all the documents, we want to find the 10-k form in this 10-k filing. Implement the `get_document_type` function to return the type of document given. The document type is located on a line with the `<TYPE>` tag. For example, a form of type \"TEST\" would have the line `<TYPE>TEST`. Make sure to return the type as lowercase, so this example would be returned as \"test\"."
   ]
  },
  {
   "cell_type": "code",
   "execution_count": null,
   "metadata": {},
   "outputs": [],
   "source": [
    "def get_document_type(doc):\n",
    "    \"\"\"\n",
    "    Return the document type lowercased\n",
    "\n",
    "    Parameters\n",
    "    ----------\n",
    "    doc : str\n",
    "        The document string\n",
    "\n",
    "    Returns\n",
    "    -------\n",
    "    doc_type : str\n",
    "        The document type lowercased\n",
    "    \"\"\"\n",
    "    \n",
    "    # TODO: Implement\n",
    "    \n",
    "    return None\n",
    "\n",
    "\n",
    "project_tests.test_get_document_type(get_document_type)"
   ]
  },
  {
   "cell_type": "markdown",
   "metadata": {},
   "source": [
    "With the `get_document_type` function, we'll filter out all non 10-k documents."
   ]
  },
  {
   "cell_type": "code",
   "execution_count": null,
   "metadata": {},
   "outputs": [],
   "source": [
    "ten_ks_by_ticker = {}\n",
    "\n",
    "for ticker, filling_documents in filling_documents_by_ticker.items():\n",
    "    ten_ks_by_ticker[ticker] = []\n",
    "    for file_date, documents in filling_documents.items():\n",
    "        for document in documents:\n",
    "            if get_document_type(document) == '10-k':\n",
    "                ten_ks_by_ticker[ticker].append({\n",
    "                    'cik': cik_lookup[ticker],\n",
    "                    'file': document,\n",
    "                    'file_date': file_date})\n",
    "\n",
    "\n",
    "project_helper.print_ten_k_data(ten_ks_by_ticker[example_ticker][:5], ['cik', 'file', 'file_date'])"
   ]
  },
  {
   "cell_type": "markdown",
   "metadata": {},
   "source": [
    "## Preprocess the Data\n",
    "### Clean Up\n",
    "As you can see, the text for the documents are very messy. To clean this up, we'll remove the html and lowercase all the text."
   ]
  },
  {
   "cell_type": "code",
   "execution_count": null,
   "metadata": {},
   "outputs": [],
   "source": [
    "def remove_html_tags(text):\n",
    "    text = BeautifulSoup(text, 'html.parser').get_text()\n",
    "    \n",
    "    return text\n",
    "\n",
    "\n",
    "def clean_text(text):\n",
    "    text = text.lower()\n",
    "    text = remove_html_tags(text)\n",
    "    \n",
    "    return text"
   ]
  },
  {
   "cell_type": "markdown",
   "metadata": {},
   "source": [
    "Using the `clean_text` function, we'll clean up all the documents."
   ]
  },
  {
   "cell_type": "code",
   "execution_count": null,
   "metadata": {},
   "outputs": [],
   "source": [
    "for ticker, ten_ks in ten_ks_by_ticker.items():\n",
    "    for ten_k in tqdm(ten_ks, desc='Cleaning {} 10-Ks'.format(ticker), unit='10-K'):\n",
    "        ten_k['file_clean'] = clean_text(ten_k['file'])\n",
    "\n",
    "\n",
    "project_helper.print_ten_k_data(ten_ks_by_ticker[example_ticker][:5], ['file_clean'])"
   ]
  },
  {
   "cell_type": "markdown",
   "metadata": {},
   "source": [
    "### Lemmatize\n",
    "With the text cleaned up, it's time to distill the verbs down. Implement the `lemmatize_words` function to lemmatize verbs in the list of words provided."
   ]
  },
  {
   "cell_type": "code",
   "execution_count": null,
   "metadata": {},
   "outputs": [],
   "source": [
    "from nltk.stem import WordNetLemmatizer\n",
    "from nltk.corpus import wordnet\n",
    "\n",
    "\n",
    "def lemmatize_words(words):\n",
    "    \"\"\"\n",
    "    Lemmatize words \n",
    "\n",
    "    Parameters\n",
    "    ----------\n",
    "    words : list of str\n",
    "        List of words\n",
    "\n",
    "    Returns\n",
    "    -------\n",
    "    lemmatized_words : list of str\n",
    "        List of lemmatized words\n",
    "    \"\"\"\n",
    "    \n",
    "    # TODO: Implement\n",
    "    \n",
    "    return None\n",
    "\n",
    "\n",
    "project_tests.test_lemmatize_words(lemmatize_words)"
   ]
  },
  {
   "cell_type": "markdown",
   "metadata": {},
   "source": [
    "With the `lemmatize_words` function implemented, let's lemmatize all the data."
   ]
  },
  {
   "cell_type": "code",
   "execution_count": null,
   "metadata": {},
   "outputs": [],
   "source": [
    "word_pattern = re.compile('\\w+')\n",
    "\n",
    "for ticker, ten_ks in ten_ks_by_ticker.items():\n",
    "    for ten_k in tqdm(ten_ks, desc='Lemmatize {} 10-Ks'.format(ticker), unit='10-K'):\n",
    "        ten_k['file_lemma'] = lemmatize_words(word_pattern.findall(ten_k['file_clean']))\n",
    "\n",
    "\n",
    "project_helper.print_ten_k_data(ten_ks_by_ticker[example_ticker][:5], ['file_lemma'])"
   ]
  },
  {
   "cell_type": "markdown",
   "metadata": {},
   "source": [
    "### Remove Stopwords"
   ]
  },
  {
   "cell_type": "code",
   "execution_count": null,
   "metadata": {},
   "outputs": [],
   "source": [
    "from nltk.corpus import stopwords\n",
    "\n",
    "\n",
    "lemma_english_stopwords = lemmatize_words(stopwords.words('english'))\n",
    "\n",
    "for ticker, ten_ks in ten_ks_by_ticker.items():\n",
    "    for ten_k in tqdm(ten_ks, desc='Remove Stop Words for {} 10-Ks'.format(ticker), unit='10-K'):\n",
    "        ten_k['file_lemma'] = [word for word in ten_k['file_lemma'] if word not in lemma_english_stopwords]\n",
    "\n",
    "\n",
    "print('Stop Words Removed')"
   ]
  },
  {
   "cell_type": "markdown",
   "metadata": {},
   "source": [
    "## Analysis on 10ks\n",
    "### Loughran McDonald Sentiment Word Lists\n",
    "We'll be using the Loughran and McDonald sentiment word lists. These word lists cover the following sentiment:\n",
    "- Negative \n",
    "- Positive\n",
    "- Uncertainty\n",
    "- Litigious\n",
    "- Constraining\n",
    "- Superfluous\n",
    "- Modal\n",
    "\n",
    "This will allow us to do the sentiment analysis on the 10-ks. Let's first load these word lists. We'll be looking into a few of these sentiments."
   ]
  },
  {
   "cell_type": "code",
   "execution_count": null,
   "metadata": {},
   "outputs": [],
   "source": [
    "import os\n",
    "\n",
    "\n",
    "sentiments = ['negative', 'positive', 'uncertainty', 'litigious', 'constraining', 'interesting']\n",
    "\n",
    "sentiment_df = pd.read_csv(os.path.join('..', '..', 'data', 'project_5_loughran_mcdonald', 'loughran_mcdonald_master_dic_2016.csv'))\n",
    "sentiment_df.columns = [column.lower() for column in sentiment_df.columns] # Lowercase the columns for ease of use\n",
    "\n",
    "# Remove unused information\n",
    "sentiment_df = sentiment_df[sentiments + ['word']]\n",
    "sentiment_df[sentiments] = sentiment_df[sentiments].astype(bool)\n",
    "sentiment_df = sentiment_df[(sentiment_df[sentiments]).any(1)]\n",
    "\n",
    "# Apply the same preprocessing to these words as the 10-k words\n",
    "sentiment_df['word'] = lemmatize_words(sentiment_df['word'].str.lower())\n",
    "sentiment_df = sentiment_df.drop_duplicates('word')\n",
    "\n",
    "\n",
    "sentiment_df.head()"
   ]
  },
  {
   "cell_type": "markdown",
   "metadata": {},
   "source": [
    "### Bag of Words\n",
    "using the sentiment word lists, let's generate sentiment bag of words from the 10-k documents. Implement `get_bag_of_words` to generate a bag of words that counts the number of sentiment words in each doc. You can ignore words that are not in `sentiment_words`."
   ]
  },
  {
   "cell_type": "code",
   "execution_count": null,
   "metadata": {},
   "outputs": [],
   "source": [
    "from collections import defaultdict, Counter\n",
    "from sklearn.feature_extraction.text import CountVectorizer\n",
    "\n",
    "\n",
    "def get_bag_of_words(sentiment_words, docs):\n",
    "    \"\"\"\n",
    "    Generate a bag of words from documents for a certain sentiment\n",
    "\n",
    "    Parameters\n",
    "    ----------\n",
    "    sentiment_words: Pandas Series\n",
    "        Words that signify a certain sentiment\n",
    "    docs : list of str\n",
    "        List of documents used to generate bag of words\n",
    "\n",
    "    Returns\n",
    "    -------\n",
    "    bag_of_words : 2-d Numpy Ndarray of int\n",
    "        Bag of words sentiment for each document\n",
    "        The first dimension is the document.\n",
    "        The second dimension is the word.\n",
    "    \"\"\"\n",
    "    \n",
    "    # TODO: Implement\n",
    "    \n",
    "    return None\n",
    "\n",
    "\n",
    "project_tests.test_get_bag_of_words(get_bag_of_words)"
   ]
  },
  {
   "cell_type": "markdown",
   "metadata": {},
   "source": [
    "Using the `get_bag_of_words` function, we'll generate a bag of words for all the documents."
   ]
  },
  {
   "cell_type": "code",
   "execution_count": null,
   "metadata": {},
   "outputs": [],
   "source": [
    "sentiment_bow_ten_ks = {}\n",
    "\n",
    "for ticker, ten_ks in ten_ks_by_ticker.items():\n",
    "    lemma_docs = [' '.join(ten_k['file_lemma']) for ten_k in ten_ks]\n",
    "    \n",
    "    sentiment_bow_ten_ks[ticker] = {\n",
    "        sentiment: get_bag_of_words(sentiment_df[sentiment_df[sentiment]]['word'], lemma_docs)\n",
    "        for sentiment in sentiments}\n",
    "\n",
    "\n",
    "project_helper.print_ten_k_data([sentiment_bow_ten_ks[example_ticker]], sentiments)"
   ]
  },
  {
   "cell_type": "markdown",
   "metadata": {},
   "source": [
    "### Jaccard Similarity\n",
    "Using the bag of words, let's calculate the jaccard similarity on the bag of words and plot it over time. Implement `get_jaccard_similarity` to return the jaccard similarities between each tick in time. Since the input, `bag_of_words_matrix`, is a bag of words for each time period in order, you just need to compute the jaccard similarities for each neighboring bag of words. Make sure to turn the bag of words into a boolean array when calculating the jaccard similarity."
   ]
  },
  {
   "cell_type": "code",
   "execution_count": null,
   "metadata": {},
   "outputs": [],
   "source": [
    "from sklearn.metrics import jaccard_similarity_score\n",
    "\n",
    "\n",
    "def get_jaccard_similarity(bag_of_words_matrix):\n",
    "    \"\"\"\n",
    "    Get jaccard similarities for neighboring documents\n",
    "\n",
    "    Parameters\n",
    "    ----------\n",
    "    bag_of_words : 2-d Numpy Ndarray of int\n",
    "        Bag of words sentiment for each document\n",
    "        The first dimension is the document.\n",
    "        The second dimension is the word.\n",
    "\n",
    "    Returns\n",
    "    -------\n",
    "    jaccard_similarities : list of float\n",
    "        Jaccard similarities for neighboring documents\n",
    "    \"\"\"\n",
    "    \n",
    "    # TODO: Implement\n",
    "    \n",
    "    return None\n",
    "\n",
    "\n",
    "project_tests.test_get_jaccard_similarity(get_jaccard_similarity)"
   ]
  },
  {
   "cell_type": "markdown",
   "metadata": {},
   "source": [
    "Using the `get_jaccard_similarity` function, let's plot the similarities over time."
   ]
  },
  {
   "cell_type": "code",
   "execution_count": null,
   "metadata": {},
   "outputs": [],
   "source": [
    "# Get dates for the universe\n",
    "file_dates = {\n",
    "    ticker: [ten_k['file_date'] for ten_k in ten_ks]\n",
    "    for ticker, ten_ks in ten_ks_by_ticker.items()}  \n",
    "\n",
    "jaccard_similarities = {\n",
    "    ticker: {\n",
    "        sentiment_name: get_jaccard_similarity(sentiment_values)\n",
    "        for sentiment_name, sentiment_values in ten_k_sentiments.items()}\n",
    "    for ticker, ten_k_sentiments in sentiment_bow_ten_ks.items()}\n",
    "\n",
    "\n",
    "project_helper.plot_similarities(\n",
    "    [jaccard_similarities[example_ticker][sentiment] for sentiment in sentiments],\n",
    "    file_dates[example_ticker][1:],\n",
    "    'Jaccard Similarities for {} Sentiment'.format(example_ticker),\n",
    "    sentiments)"
   ]
  },
  {
   "cell_type": "markdown",
   "metadata": {},
   "source": [
    "### TFIDF\n",
    "using the sentiment word lists, let's generate sentiment TFIDF from the 10-k documents. Implement `get_tfidf` to generate TFIDF from each document, using sentiment words as the terms. You can ignore words that are not in `sentiment_words`."
   ]
  },
  {
   "cell_type": "code",
   "execution_count": null,
   "metadata": {},
   "outputs": [],
   "source": [
    "from sklearn.feature_extraction.text import TfidfVectorizer\n",
    "\n",
    "\n",
    "def get_tfidf(sentiment_words, docs):\n",
    "    \"\"\"\n",
    "    Generate TFIDF values from documents for a certain sentiment\n",
    "\n",
    "    Parameters\n",
    "    ----------\n",
    "    sentiment_words: Pandas Series\n",
    "        Words that signify a certain sentiment\n",
    "    docs : list of str\n",
    "        List of documents used to generate bag of words\n",
    "\n",
    "    Returns\n",
    "    -------\n",
    "    tfidf : 2-d Numpy Ndarray of float\n",
    "        TFIDF sentiment for each document\n",
    "        The first dimension is the document.\n",
    "        The second dimension is the word.\n",
    "    \"\"\"\n",
    "    \n",
    "    # TODO: Implement\n",
    "    \n",
    "    return None\n",
    "\n",
    "\n",
    "project_tests.test_get_tfidf(get_tfidf)"
   ]
  },
  {
   "cell_type": "markdown",
   "metadata": {},
   "source": [
    "Using the `get_tfidf` function, let's generate the TFIDF values for all the documents."
   ]
  },
  {
   "cell_type": "code",
   "execution_count": null,
   "metadata": {},
   "outputs": [],
   "source": [
    "sentiment_tfidf_ten_ks = {}\n",
    "\n",
    "for ticker, ten_ks in ten_ks_by_ticker.items():\n",
    "    lemma_docs = [' '.join(ten_k['file_lemma']) for ten_k in ten_ks]\n",
    "    \n",
    "    sentiment_tfidf_ten_ks[ticker] = {\n",
    "        sentiment: get_tfidf(sentiment_df[sentiment_df[sentiment]]['word'], lemma_docs)\n",
    "        for sentiment in sentiments}\n",
    "\n",
    "    \n",
    "project_helper.print_ten_k_data([sentiment_tfidf_ten_ks[example_ticker]], sentiments)"
   ]
  },
  {
   "cell_type": "markdown",
   "metadata": {},
   "source": [
    "### Cosine Similarity\n",
    "Using the TFIDF values, we'll calculate the cosine similarity and plot it over time. Implement `get_cosine_similarity` to return the cosine similarities between each tick in time. Since the input, `tfidf_matrix`, is a TFIDF vector for each time period in order, you just need to computer the cosine similarities for each neighboring vector."
   ]
  },
  {
   "cell_type": "code",
   "execution_count": null,
   "metadata": {},
   "outputs": [],
   "source": [
    "from sklearn.metrics.pairwise import cosine_similarity\n",
    "\n",
    "\n",
    "def get_cosine_similarity(tfidf_matrix):\n",
    "    \"\"\"\n",
    "    Get cosine similarities for each neighboring TFIDF vector/document\n",
    "\n",
    "    Parameters\n",
    "    ----------\n",
    "    tfidf : 2-d Numpy Ndarray of float\n",
    "        TFIDF sentiment for each document\n",
    "        The first dimension is the document.\n",
    "        The second dimension is the word.\n",
    "\n",
    "    Returns\n",
    "    -------\n",
    "    cosine_similarities : list of float\n",
    "        Cosine similarities for neighboring documents\n",
    "    \"\"\"\n",
    "    \n",
    "    # TODO: Implement\n",
    "    \n",
    "    return None\n",
    "\n",
    "\n",
    "project_tests.test_get_cosine_similarity(get_cosine_similarity)"
   ]
  },
  {
   "cell_type": "markdown",
   "metadata": {},
   "source": [
    "Let's plot the cosine similarities over time."
   ]
  },
  {
   "cell_type": "code",
   "execution_count": null,
   "metadata": {},
   "outputs": [],
   "source": [
    "cosine_similarities = {\n",
    "    ticker: {\n",
    "        sentiment_name: get_cosine_similarity(sentiment_values)\n",
    "        for sentiment_name, sentiment_values in ten_k_sentiments.items()}\n",
    "    for ticker, ten_k_sentiments in sentiment_tfidf_ten_ks.items()}\n",
    "\n",
    "\n",
    "project_helper.plot_similarities(\n",
    "    [cosine_similarities[example_ticker][sentiment] for sentiment in sentiments],\n",
    "    file_dates[example_ticker][1:],\n",
    "    'Cosine Similarities for {} Sentiment'.format(example_ticker),\n",
    "    sentiments)"
   ]
  },
  {
   "cell_type": "markdown",
   "metadata": {},
   "source": []
  },
  {
   "cell_type": "markdown",
   "metadata": {},
   "source": [
    "## Evaluate Alpha Factors\n",
    "Just like we did in project 4, let's evaluate the alpha factors. For this section, we'll just be looking at the cosine similarities, but it can be applied to the jaccard similarities as well.\n",
    "### Price Data\n",
    "Let's get yearly pricing to run the factor against, since 10-Ks are produced annually."
   ]
  },
  {
   "cell_type": "code",
   "execution_count": null,
   "metadata": {},
   "outputs": [],
   "source": [
    "pricing = pd.read_csv('../../data/project_5_yr/yr-quotemedia.csv', parse_dates=['date'])\n",
    "pricing = pricing.pivot(index='date', columns='ticker', values='adj_close')\n",
    "\n",
    "\n",
    "pricing"
   ]
  },
  {
   "cell_type": "markdown",
   "metadata": {},
   "source": [
    "### Dict to DataFrame\n",
    "The alphalens library uses dataframes, so we we'll need to turn our dictionary into a dataframe. "
   ]
  },
  {
   "cell_type": "code",
   "execution_count": null,
   "metadata": {},
   "outputs": [],
   "source": [
    "cosine_similarities_df_dict = {'date': [], 'ticker': [], 'sentiment': [], 'value': []}\n",
    "\n",
    "\n",
    "for ticker, ten_k_sentiments in cosine_similarities.items():\n",
    "    for sentiment_name, sentiment_values in ten_k_sentiments.items():\n",
    "        for sentiment_values, sentiment_value in enumerate(sentiment_values):\n",
    "            cosine_similarities_df_dict['ticker'].append(ticker)\n",
    "            cosine_similarities_df_dict['sentiment'].append(sentiment_name)\n",
    "            cosine_similarities_df_dict['value'].append(sentiment_value)\n",
    "            cosine_similarities_df_dict['date'].append(file_dates[ticker][1:][sentiment_values])\n",
    "\n",
    "cosine_similarities_df = pd.DataFrame(cosine_similarities_df_dict)\n",
    "cosine_similarities_df['date'] = pd.DatetimeIndex(cosine_similarities_df['date']).year\n",
    "cosine_similarities_df['date'] = pd.to_datetime(cosine_similarities_df['date'], format='%Y')\n",
    "\n",
    "\n",
    "cosine_similarities_df.head()"
   ]
  },
  {
   "cell_type": "markdown",
   "metadata": {},
   "source": [
    "### Alphalens Format\n",
    "In order to use a lot of the alphalens functions, we need to aligned the indices and convert the time to unix timestamp. In this next cell, we'll do just that."
   ]
  },
  {
   "cell_type": "code",
   "execution_count": null,
   "metadata": {},
   "outputs": [],
   "source": [
    "import alphalens as al\n",
    "\n",
    "\n",
    "factor_data = {}\n",
    "skipped_sentiments = []\n",
    "\n",
    "for sentiment in sentiments:\n",
    "    cs_df = cosine_similarities_df[(cosine_similarities_df['sentiment'] == sentiment)]\n",
    "    cs_df = cs_df.pivot(index='date', columns='ticker', values='value')\n",
    "\n",
    "    try:\n",
    "        data = al.utils.get_clean_factor_and_forward_returns(cs_df.stack(), pricing, quantiles=5, bins=None, periods=[1])\n",
    "        factor_data[sentiment] = data\n",
    "    except:\n",
    "        skipped_sentiments.append(sentiment)\n",
    "\n",
    "if skipped_sentiments:\n",
    "    print('\\nSkipped the following sentiments:\\n{}'.format('\\n'.join(skipped_sentiments)))\n",
    "factor_data[sentiments[0]].head()"
   ]
  },
  {
   "cell_type": "markdown",
   "metadata": {},
   "source": [
    "### Alphalens Format with Unix Time\n",
    "Alphalen's `factor_rank_autocorrelation` and `mean_return_by_quantile` functions require unix timestamps to work, so we'll also create factor dataframes with unix time."
   ]
  },
  {
   "cell_type": "code",
   "execution_count": null,
   "metadata": {},
   "outputs": [],
   "source": [
    "unixt_factor_data = {\n",
    "    factor: data.set_index(pd.MultiIndex.from_tuples(\n",
    "        [(x.timestamp(), y) for x, y in data.index.values],\n",
    "        names=['date', 'asset']))\n",
    "    for factor, data in factor_data.items()}"
   ]
  },
  {
   "cell_type": "markdown",
   "metadata": {},
   "source": [
    "### Factor Returns\n",
    "Let's view the factor returns over time. We should be seeing it generally move up and to the right."
   ]
  },
  {
   "cell_type": "code",
   "execution_count": null,
   "metadata": {},
   "outputs": [],
   "source": [
    "ls_factor_returns = pd.DataFrame()\n",
    "\n",
    "for factor_name, data in factor_data.items():\n",
    "    ls_factor_returns[factor_name] = al.performance.factor_returns(data).iloc[:, 0]\n",
    "\n",
    "(1 + ls_factor_returns).cumprod().plot()"
   ]
  },
  {
   "cell_type": "markdown",
   "metadata": {},
   "source": [
    "### Basis Points Per Day per Quantile\n",
    "It is not enough to look just at the factor weighted return. A good alpha is also monotonic in quantiles. Let's looks the basis points for the factor returns."
   ]
  },
  {
   "cell_type": "code",
   "execution_count": null,
   "metadata": {},
   "outputs": [],
   "source": [
    "qr_factor_returns = pd.DataFrame()\n",
    "\n",
    "for factor_name, data in unixt_factor_data.items():\n",
    "    qr_factor_returns[factor_name] = al.performance.mean_return_by_quantile(data)[0].iloc[:, 0]\n",
    "\n",
    "(10000*qr_factor_returns).plot.bar(\n",
    "    subplots=True,\n",
    "    sharey=True,\n",
    "    layout=(5,3),\n",
    "    figsize=(14, 14),\n",
    "    legend=False)"
   ]
  },
  {
   "cell_type": "markdown",
   "metadata": {},
   "source": [
    "### Turnover Analysis\n",
    "Without doing a full and formal backtest, we can analyze how stable the alphas are over time. Stability in this sense means that from period to period, the alpha ranks do not change much. Since trading is costly, we always prefer, all other things being equal, that the ranks do not change significantly per period. We can measure this with the **Factor Rank Autocorrelation (FRA)**."
   ]
  },
  {
   "cell_type": "code",
   "execution_count": null,
   "metadata": {},
   "outputs": [],
   "source": [
    "ls_FRA = pd.DataFrame()\n",
    "\n",
    "for factor, data in unixt_factor_data.items():\n",
    "    ls_FRA[factor] = al.performance.factor_rank_autocorrelation(data)\n",
    "\n",
    "ls_FRA.plot(title=\"Factor Rank Autocorrelation\")"
   ]
  },
  {
   "cell_type": "markdown",
   "metadata": {},
   "source": [
    "### Sharpe Ratio of the Alphas\n",
    "The last analysis we'll do on the factors will be sharpe ratio. Let's see what the sharpe ratio for the factors are. Generally, a Sharpe Ratio of near 1.0 or higher is an acceptable single alpha for this universe."
   ]
  },
  {
   "cell_type": "code",
   "execution_count": null,
   "metadata": {},
   "outputs": [],
   "source": [
    "daily_annualization_factor = np.sqrt(252)\n",
    "\n",
    "(daily_annualization_factor * ls_factor_returns.mean() / ls_factor_returns.std()).round(2)"
   ]
  },
  {
   "cell_type": "markdown",
   "metadata": {},
   "source": [
    "That's it! You've successfully done sentiment analysis on 10-ks!\n",
    "## Submission\n",
    "Now that you're done with the project, it's time to submit it. Click the submit button in the bottom right. One of our reviewers will give you feedback on your project with a pass or not passed grade. You can continue to the next section while you wait for feedback."
   ]
  }
 ],
 "metadata": {
  "kernelspec": {
   "display_name": "Python 3",
   "language": "python",
   "name": "python3"
  },
  "language_info": {
   "codemirror_mode": {
    "name": "ipython",
    "version": 3
   },
   "file_extension": ".py",
   "mimetype": "text/x-python",
   "name": "python",
   "nbconvert_exporter": "python",
   "pygments_lexer": "ipython3",
   "version": "3.6.8"
  },
  "toc": {
   "base_numbering": 1,
   "nav_menu": {},
   "number_sections": true,
   "sideBar": true,
   "skip_h1_title": false,
   "title_cell": "Table of Contents",
   "title_sidebar": "Contents",
   "toc_cell": true,
   "toc_position": {},
   "toc_section_display": true,
   "toc_window_display": true
  }
 },
 "nbformat": 4,
 "nbformat_minor": 2
}
