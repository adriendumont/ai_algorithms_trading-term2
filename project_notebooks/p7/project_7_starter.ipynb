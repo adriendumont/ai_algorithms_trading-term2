{
 "cells": [
  {
   "cell_type": "markdown",
   "metadata": {
    "toc": true
   },
   "source": [
    "<h1>Table of Contents<span class=\"tocSkip\"></span></h1>\n",
    "<div class=\"toc\"><ul class=\"toc-item\"><li><span><a href=\"#Project-7:-Combine-Signals-for-Enhanced-Alpha\" data-toc-modified-id=\"Project-7:-Combine-Signals-for-Enhanced-Alpha-1\"><span class=\"toc-item-num\">1&nbsp;&nbsp;</span>Project 7: Combine Signals for Enhanced Alpha</a></span><ul class=\"toc-item\"><li><span><a href=\"#Instructions\" data-toc-modified-id=\"Instructions-1.1\"><span class=\"toc-item-num\">1.1&nbsp;&nbsp;</span>Instructions</a></span></li><li><span><a href=\"#Packages\" data-toc-modified-id=\"Packages-1.2\"><span class=\"toc-item-num\">1.2&nbsp;&nbsp;</span>Packages</a></span><ul class=\"toc-item\"><li><span><a href=\"#Install-Packages\" data-toc-modified-id=\"Install-Packages-1.2.1\"><span class=\"toc-item-num\">1.2.1&nbsp;&nbsp;</span>Install Packages</a></span></li><li><span><a href=\"#Load-Packages\" data-toc-modified-id=\"Load-Packages-1.2.2\"><span class=\"toc-item-num\">1.2.2&nbsp;&nbsp;</span>Load Packages</a></span></li></ul></li><li><span><a href=\"#Data-Pipeline\" data-toc-modified-id=\"Data-Pipeline-1.3\"><span class=\"toc-item-num\">1.3&nbsp;&nbsp;</span>Data Pipeline</a></span><ul class=\"toc-item\"><li><span><a href=\"#Data-Bundle\" data-toc-modified-id=\"Data-Bundle-1.3.1\"><span class=\"toc-item-num\">1.3.1&nbsp;&nbsp;</span>Data Bundle</a></span></li><li><span><a href=\"#Build-Pipeline-Engine\" data-toc-modified-id=\"Build-Pipeline-Engine-1.3.2\"><span class=\"toc-item-num\">1.3.2&nbsp;&nbsp;</span>Build Pipeline Engine</a></span><ul class=\"toc-item\"><li><span><a href=\"#View-Data\" data-toc-modified-id=\"View-Data-1.3.2.1\"><span class=\"toc-item-num\">1.3.2.1&nbsp;&nbsp;</span>View Data</a></span></li></ul></li><li><span><a href=\"#Get-Returns\" data-toc-modified-id=\"Get-Returns-1.3.3\"><span class=\"toc-item-num\">1.3.3&nbsp;&nbsp;</span>Get Returns</a></span></li></ul></li></ul></li><li><span><a href=\"#Alpha-Factors\" data-toc-modified-id=\"Alpha-Factors-2\"><span class=\"toc-item-num\">2&nbsp;&nbsp;</span>Alpha Factors</a></span><ul class=\"toc-item\"><li><ul class=\"toc-item\"><li><span><a href=\"#Combine-the-Factors-to-a-single-Pipeline\" data-toc-modified-id=\"Combine-the-Factors-to-a-single-Pipeline-2.0.1\"><span class=\"toc-item-num\">2.0.1&nbsp;&nbsp;</span>Combine the Factors to a single Pipeline</a></span></li></ul></li><li><span><a href=\"#Features-and-Labels\" data-toc-modified-id=\"Features-and-Labels-2.1\"><span class=\"toc-item-num\">2.1&nbsp;&nbsp;</span>Features and Labels</a></span><ul class=\"toc-item\"><li><span><a href=\"#&quot;Universal&quot;-Quant-Features\" data-toc-modified-id=\"&quot;Universal&quot;-Quant-Features-2.1.1\"><span class=\"toc-item-num\">2.1.1&nbsp;&nbsp;</span>\"Universal\" Quant Features</a></span></li><li><span><a href=\"#Regime-Features\" data-toc-modified-id=\"Regime-Features-2.1.2\"><span class=\"toc-item-num\">2.1.2&nbsp;&nbsp;</span>Regime Features</a></span></li><li><span><a href=\"#Target\" data-toc-modified-id=\"Target-2.1.3\"><span class=\"toc-item-num\">2.1.3&nbsp;&nbsp;</span>Target</a></span></li><li><span><a href=\"#Date-Features\" data-toc-modified-id=\"Date-Features-2.1.4\"><span class=\"toc-item-num\">2.1.4&nbsp;&nbsp;</span>Date Features</a></span></li><li><span><a href=\"#One-Hot-Encode-Sectors\" data-toc-modified-id=\"One-Hot-Encode-Sectors-2.1.5\"><span class=\"toc-item-num\">2.1.5&nbsp;&nbsp;</span>One Hot Encode Sectors</a></span></li><li><span><a href=\"#Shift-Target\" data-toc-modified-id=\"Shift-Target-2.1.6\"><span class=\"toc-item-num\">2.1.6&nbsp;&nbsp;</span>Shift Target</a></span></li><li><span><a href=\"#IID-Check-of-Target\" data-toc-modified-id=\"IID-Check-of-Target-2.1.7\"><span class=\"toc-item-num\">2.1.7&nbsp;&nbsp;</span>IID Check of Target</a></span></li><li><span><a href=\"#Question:-What-do-you-observe-in-the-rolling-autocorrelation-of-labels-shifted?\" data-toc-modified-id=\"Question:-What-do-you-observe-in-the-rolling-autocorrelation-of-labels-shifted?-2.1.8\"><span class=\"toc-item-num\">2.1.8&nbsp;&nbsp;</span>Question: What do you observe in the rolling autocorrelation of labels shifted?</a></span><ul class=\"toc-item\"><li><span><a href=\"#TODO:-Put-Answer-In-this-Cell*\" data-toc-modified-id=\"TODO:-Put-Answer-In-this-Cell*-2.1.8.1\"><span class=\"toc-item-num\">2.1.8.1&nbsp;&nbsp;</span>TODO: Put Answer In this Cell*</a></span></li></ul></li><li><span><a href=\"#Train/Valid/Test-Splits\" data-toc-modified-id=\"Train/Valid/Test-Splits-2.1.9\"><span class=\"toc-item-num\">2.1.9&nbsp;&nbsp;</span>Train/Valid/Test Splits</a></span><ul class=\"toc-item\"><li><span><a href=\"#TODO\" data-toc-modified-id=\"TODO-2.1.9.1\"><span class=\"toc-item-num\">2.1.9.1&nbsp;&nbsp;</span>TODO</a></span></li></ul></li></ul></li><li><span><a href=\"#Random-Forests\" data-toc-modified-id=\"Random-Forests-2.2\"><span class=\"toc-item-num\">2.2&nbsp;&nbsp;</span>Random Forests</a></span><ul class=\"toc-item\"><li><span><a href=\"#Visualize-a-Simple-Tree\" data-toc-modified-id=\"Visualize-a-Simple-Tree-2.2.1\"><span class=\"toc-item-num\">2.2.1&nbsp;&nbsp;</span>Visualize a Simple Tree</a></span></li><li><span><a href=\"#Question:-Why-does-dispersion_20d-have-the-highest-feature-importance,-when-the-first-split-is-on-the-Momentum_1YR-feature?\" data-toc-modified-id=\"Question:-Why-does-dispersion_20d-have-the-highest-feature-importance,-when-the-first-split-is-on-the-Momentum_1YR-feature?-2.2.2\"><span class=\"toc-item-num\">2.2.2&nbsp;&nbsp;</span>Question: Why does dispersion_20d have the highest feature importance, when the first split is on the Momentum_1YR feature?</a></span><ul class=\"toc-item\"><li><span><a href=\"#TODO:-Put-Answer-In-this-Cell*\" data-toc-modified-id=\"TODO:-Put-Answer-In-this-Cell*-2.2.2.1\"><span class=\"toc-item-num\">2.2.2.1&nbsp;&nbsp;</span>TODO: Put Answer In this Cell*</a></span></li></ul></li><li><span><a href=\"#Train-Random-Forests-with-Different-Tree-Sizes\" data-toc-modified-id=\"Train-Random-Forests-with-Different-Tree-Sizes-2.2.3\"><span class=\"toc-item-num\">2.2.3&nbsp;&nbsp;</span>Train Random Forests with Different Tree Sizes</a></span><ul class=\"toc-item\"><li><span><a href=\"#Parameters\" data-toc-modified-id=\"Parameters-2.2.3.1\"><span class=\"toc-item-num\">2.2.3.1&nbsp;&nbsp;</span>Parameters</a></span></li><li><span><a href=\"#Question:-1)-What-do-you-observe-with-the-accuracy-vs-tree-size-graph?-2)-Does-the-graph-indicate-the-model-is-overfitting-or-underfitting?-Describe-how-it-indicates-this.\" data-toc-modified-id=\"Question:-1)-What-do-you-observe-with-the-accuracy-vs-tree-size-graph?-2)-Does-the-graph-indicate-the-model-is-overfitting-or-underfitting?-Describe-how-it-indicates-this.-2.2.3.2\"><span class=\"toc-item-num\">2.2.3.2&nbsp;&nbsp;</span>Question: 1) What do you observe with the accuracy vs tree size graph? 2) Does the graph indicate the model is overfitting or underfitting? Describe how it indicates this.</a></span></li><li><span><a href=\"#TODO:-Put-Answer-In-this-Cell*\" data-toc-modified-id=\"TODO:-Put-Answer-In-this-Cell*-2.2.3.3\"><span class=\"toc-item-num\">2.2.3.3&nbsp;&nbsp;</span>TODO: Put Answer In this Cell*</a></span></li></ul></li><li><span><a href=\"#Model-Results\" data-toc-modified-id=\"Model-Results-2.2.4\"><span class=\"toc-item-num\">2.2.4&nbsp;&nbsp;</span>Model Results</a></span><ul class=\"toc-item\"><li><span><a href=\"#Results\" data-toc-modified-id=\"Results-2.2.4.1\"><span class=\"toc-item-num\">2.2.4.1&nbsp;&nbsp;</span>Results</a></span></li></ul></li></ul></li><li><span><a href=\"#Overlapping-Samples\" data-toc-modified-id=\"Overlapping-Samples-2.3\"><span class=\"toc-item-num\">2.3&nbsp;&nbsp;</span>Overlapping Samples</a></span><ul class=\"toc-item\"><li><span><a href=\"#Drop-Overlapping-Samples\" data-toc-modified-id=\"Drop-Overlapping-Samples-2.3.1\"><span class=\"toc-item-num\">2.3.1&nbsp;&nbsp;</span>Drop Overlapping Samples</a></span><ul class=\"toc-item\"><li><span><a href=\"#TODO\" data-toc-modified-id=\"TODO-2.3.1.1\"><span class=\"toc-item-num\">2.3.1.1&nbsp;&nbsp;</span>TODO</a></span></li><li><span><a href=\"#Train-Model\" data-toc-modified-id=\"Train-Model-2.3.1.2\"><span class=\"toc-item-num\">2.3.1.2&nbsp;&nbsp;</span>Train Model</a></span></li><li><span><a href=\"#Results\" data-toc-modified-id=\"Results-2.3.1.3\"><span class=\"toc-item-num\">2.3.1.3&nbsp;&nbsp;</span>Results</a></span></li></ul></li><li><span><a href=\"#Use-BaggingClassifier's-max_samples\" data-toc-modified-id=\"Use-BaggingClassifier's-max_samples-2.3.2\"><span class=\"toc-item-num\">2.3.2&nbsp;&nbsp;</span>Use BaggingClassifier's <code>max_samples</code></a></span><ul class=\"toc-item\"><li><span><a href=\"#Train-Model\" data-toc-modified-id=\"Train-Model-2.3.2.1\"><span class=\"toc-item-num\">2.3.2.1&nbsp;&nbsp;</span>Train Model</a></span></li><li><span><a href=\"#Results\" data-toc-modified-id=\"Results-2.3.2.2\"><span class=\"toc-item-num\">2.3.2.2&nbsp;&nbsp;</span>Results</a></span></li></ul></li><li><span><a href=\"#Build-an-ensemble-of-non-overlapping-trees\" data-toc-modified-id=\"Build-an-ensemble-of-non-overlapping-trees-2.3.3\"><span class=\"toc-item-num\">2.3.3&nbsp;&nbsp;</span>Build an ensemble of non-overlapping trees</a></span><ul class=\"toc-item\"><li><span><a href=\"#OOB-Score\" data-toc-modified-id=\"OOB-Score-2.3.3.1\"><span class=\"toc-item-num\">2.3.3.1&nbsp;&nbsp;</span>OOB Score</a></span></li><li><span><a href=\"#TODO\" data-toc-modified-id=\"TODO-2.3.3.2\"><span class=\"toc-item-num\">2.3.3.2&nbsp;&nbsp;</span>TODO</a></span></li><li><span><a href=\"#Non-Overlapping-Estimators\" data-toc-modified-id=\"Non-Overlapping-Estimators-2.3.3.3\"><span class=\"toc-item-num\">2.3.3.3&nbsp;&nbsp;</span>Non Overlapping Estimators</a></span></li><li><span><a href=\"#TODO\" data-toc-modified-id=\"TODO-2.3.3.4\"><span class=\"toc-item-num\">2.3.3.4&nbsp;&nbsp;</span>TODO</a></span></li><li><span><a href=\"#Train-Model\" data-toc-modified-id=\"Train-Model-2.3.3.5\"><span class=\"toc-item-num\">2.3.3.5&nbsp;&nbsp;</span>Train Model</a></span></li><li><span><a href=\"#Results\" data-toc-modified-id=\"Results-2.3.3.6\"><span class=\"toc-item-num\">2.3.3.6&nbsp;&nbsp;</span>Results</a></span></li></ul></li></ul></li><li><span><a href=\"#Final-Model\" data-toc-modified-id=\"Final-Model-2.4\"><span class=\"toc-item-num\">2.4&nbsp;&nbsp;</span>Final Model</a></span><ul class=\"toc-item\"><li><span><a href=\"#Re-Training-Model\" data-toc-modified-id=\"Re-Training-Model-2.4.1\"><span class=\"toc-item-num\">2.4.1&nbsp;&nbsp;</span>Re-Training Model</a></span></li><li><span><a href=\"#Results\" data-toc-modified-id=\"Results-2.4.2\"><span class=\"toc-item-num\">2.4.2&nbsp;&nbsp;</span>Results</a></span><ul class=\"toc-item\"><li><span><a href=\"#Accuracy\" data-toc-modified-id=\"Accuracy-2.4.2.1\"><span class=\"toc-item-num\">2.4.2.1&nbsp;&nbsp;</span>Accuracy</a></span></li><li><span><a href=\"#Train\" data-toc-modified-id=\"Train-2.4.2.2\"><span class=\"toc-item-num\">2.4.2.2&nbsp;&nbsp;</span>Train</a></span></li><li><span><a href=\"#Validation\" data-toc-modified-id=\"Validation-2.4.2.3\"><span class=\"toc-item-num\">2.4.2.3&nbsp;&nbsp;</span>Validation</a></span></li><li><span><a href=\"#Test\" data-toc-modified-id=\"Test-2.4.2.4\"><span class=\"toc-item-num\">2.4.2.4&nbsp;&nbsp;</span>Test</a></span></li></ul></li></ul></li><li><span><a href=\"#Submission\" data-toc-modified-id=\"Submission-2.5\"><span class=\"toc-item-num\">2.5&nbsp;&nbsp;</span>Submission</a></span></li></ul></li></ul></div>"
   ]
  },
  {
   "cell_type": "markdown",
   "metadata": {},
   "source": [
    "# Project 7: Combine Signals for Enhanced Alpha\n",
    "## Instructions\n",
    "Each problem consists of a function to implement and instructions on how to implement the function.  The parts of the function that need to be implemented are marked with a `# TODO` comment. After implementing the function, run the cell to test it against the unit tests we've provided. For each problem, we provide one or more unit tests from our `project_tests` package. These unit tests won't tell you if your answer is correct, but will warn you of any major errors. Your code will be checked for the correct solution when you submit it to Udacity.\n",
    "\n",
    "## Packages\n",
    "When you implement the functions, you'll only need to you use the packages you've used in the classroom, like [Pandas](https://pandas.pydata.org/) and [Numpy](http://www.numpy.org/). These packages will be imported for you. We recommend you don't add any import statements, otherwise the grader might not be able to run your code.\n",
    "\n",
    "The other packages that we're importing are `project_helper` and `project_tests`. These are custom packages built to help you solve the problems.  The `project_helper` module contains utility functions and graph functions. The `project_tests` contains the unit tests for all the problems.\n",
    "\n",
    "### Install Packages"
   ]
  },
  {
   "cell_type": "code",
   "execution_count": 3,
   "metadata": {},
   "outputs": [],
   "source": [
    "import sys\n",
    "# Had to open up a terminal and upgrade numpy and scipy, receiving an error from the imported project_helper file.\n",
    "\n",
    "#!{sys.executable} -m pip install --upgrade --user -r requirements.txt"
   ]
  },
  {
   "cell_type": "markdown",
   "metadata": {},
   "source": [
    "### Load Packages"
   ]
  },
  {
   "cell_type": "code",
   "execution_count": 4,
   "metadata": {},
   "outputs": [],
   "source": [
    "import project_helper\n",
    "import project_tests\n",
    "\n",
    "import numpy as np\n",
    "import pandas as pd\n",
    "from tqdm import tqdm\n",
    "import matplotlib.pyplot as plt\n",
    "\n",
    "%matplotlib inline\n",
    "plt.style.use('ggplot')\n",
    "plt.rcParams['figure.figsize'] = (14, 8)"
   ]
  },
  {
   "cell_type": "markdown",
   "metadata": {},
   "source": [
    "## Data Pipeline\n",
    "### Data Bundle\n",
    "We'll be using Zipline to handle our data. We've created a end of day data bundle for this project. Run the cell below to register this data bundle in zipline."
   ]
  },
  {
   "cell_type": "code",
   "execution_count": 15,
   "metadata": {},
   "outputs": [
    {
     "name": "stdout",
     "output_type": "stream",
     "text": [
      "Data Registered\n"
     ]
    },
    {
     "name": "stderr",
     "output_type": "stream",
     "text": [
      "/usr/local/lib/python3.6/site-packages/ipykernel_launcher.py:7: UserWarning: Overwriting bundle with name 'eod-quotemedia'\n",
      "  import sys\n"
     ]
    }
   ],
   "source": [
    "import os\n",
    "from zipline.data import bundles\n",
    "\n",
    "os.environ['ZIPLINE_ROOT'] = os.path.join(os.getcwd(), '..', '..', 'data', 'project_7_eod')\n",
    "\n",
    "ingest_func = bundles.csvdir.csvdir_equities(['daily'], project_helper.EOD_BUNDLE_NAME)\n",
    "bundles.register(project_helper.EOD_BUNDLE_NAME, ingest_func)\n",
    "\n",
    "print('Data Registered')"
   ]
  },
  {
   "cell_type": "markdown",
   "metadata": {},
   "source": [
    "### Build Pipeline Engine\n",
    "We'll be using Zipline's pipeline package to access our data for this project. To use it, we must build a pipeline engine. Run the cell below to build the engine."
   ]
  },
  {
   "cell_type": "code",
   "execution_count": 16,
   "metadata": {},
   "outputs": [],
   "source": [
    "from zipline.pipeline import Pipeline\n",
    "from zipline.pipeline.factors import AverageDollarVolume\n",
    "from zipline.utils.calendars import get_calendar\n",
    "\n",
    "\n",
    "universe = AverageDollarVolume(window_length=120).top(500) \n",
    "trading_calendar = get_calendar('NYSE') \n",
    "bundle_data = bundles.load(project_helper.EOD_BUNDLE_NAME)\n",
    "engine = project_helper.build_pipeline_engine(bundle_data, trading_calendar)"
   ]
  },
  {
   "cell_type": "markdown",
   "metadata": {},
   "source": [
    "#### View Data\n",
    "With the pipeline engine built, let's get the stocks at the end of the period in the universe we're using."
   ]
  },
  {
   "cell_type": "code",
   "execution_count": 17,
   "metadata": {},
   "outputs": [
    {
     "name": "stdout",
     "output_type": "stream",
     "text": [
      "490\n",
      "[Equity(0 [A]),\n",
      " Equity(1 [AAL]),\n",
      " Equity(2 [AAP]),\n",
      " Equity(3 [AAPL]),\n",
      " Equity(4 [ABBV]),\n",
      " Equity(5 [ABC]),\n",
      " Equity(6 [ABT]),\n",
      " Equity(7 [ACN]),\n",
      " Equity(8 [ADBE]),\n",
      " Equity(9 [ADI])]\n"
     ]
    }
   ],
   "source": [
    "from pprint import pprint as p2\n",
    "\n",
    "universe_end_date = pd.Timestamp('2016-01-05', tz='UTC')\n",
    "\n",
    "universe_tickers = engine.run_pipeline(\n",
    "    Pipeline(screen=universe), universe_end_date,\n",
    "    universe_end_date).index.get_level_values(1).values.tolist()\n",
    "\n",
    "p2(len(universe_tickers))\n",
    "p2(universe_tickers[:10])"
   ]
  },
  {
   "cell_type": "markdown",
   "metadata": {},
   "source": [
    "### Get Returns\n",
    "Not that we have our pipeline built, let's access the returns data. We'll start by building a data portal."
   ]
  },
  {
   "cell_type": "code",
   "execution_count": 18,
   "metadata": {},
   "outputs": [],
   "source": [
    "from zipline.data.data_portal import DataPortal\n",
    "\n",
    "\n",
    "data_portal = DataPortal(\n",
    "    bundle_data.asset_finder,\n",
    "    trading_calendar=trading_calendar,\n",
    "    first_trading_day=bundle_data.equity_daily_bar_reader.first_trading_day,\n",
    "    equity_minute_reader=None,\n",
    "    equity_daily_reader=bundle_data.equity_daily_bar_reader,\n",
    "    adjustment_reader=bundle_data.adjustment_reader)"
   ]
  },
  {
   "cell_type": "markdown",
   "metadata": {},
   "source": [
    "To make the code easier to read, we've built the helper function `get_pricing` to get the pricing from the data portal. "
   ]
  },
  {
   "cell_type": "code",
   "execution_count": 19,
   "metadata": {},
   "outputs": [],
   "source": [
    "def get_pricing(data_portal, trading_calendar, assets, start_date, end_date, field='close'):\n",
    "    end_dt = pd.Timestamp(end_date.strftime('%Y-%m-%d'), tz='UTC', offset='C')\n",
    "    start_dt = pd.Timestamp(start_date.strftime('%Y-%m-%d'), tz='UTC', offset='C')\n",
    "\n",
    "    end_loc = trading_calendar.closes.index.get_loc(end_dt)\n",
    "    start_loc = trading_calendar.closes.index.get_loc(start_dt)\n",
    "\n",
    "    return data_portal.get_history_window(\n",
    "        assets=assets,\n",
    "        end_dt=end_dt,\n",
    "        bar_count=end_loc - start_loc,\n",
    "        frequency='1d',\n",
    "        field=field,\n",
    "        data_frequency='daily')"
   ]
  },
  {
   "cell_type": "markdown",
   "metadata": {},
   "source": [
    "# Alpha Factors\n",
    "It's time to start working on the alpha factors. In this project, we'll use the following factors:\n",
    "- Momentum 1 Year Factor\n",
    "- Mean Reversion 5 Day Sector Neutral Smoothed Factor\n",
    "- Overnight Sentiment Smoothed Factor"
   ]
  },
  {
   "cell_type": "code",
   "execution_count": 20,
   "metadata": {},
   "outputs": [],
   "source": [
    "from zipline.pipeline.factors import CustomFactor, DailyReturns, Returns, SimpleMovingAverage, AnnualizedVolatility\n",
    "from zipline.pipeline.data import USEquityPricing\n",
    "\n",
    "\n",
    "factor_start_date = universe_end_date - pd.DateOffset(years=3, days=2)\n",
    "sector = project_helper.Sector()\n",
    "\n",
    "def momentum_1yr(window_length, universe, sector):\n",
    "    return Returns(window_length=window_length, mask=universe) \\\n",
    "        .demean(groupby=sector) \\\n",
    "        .rank() \\\n",
    "        .zscore()\n",
    "\n",
    "def mean_reversion_5day_sector_neutral_smoothed(window_length, universe, sector):\n",
    "    unsmoothed_factor = -Returns(window_length=window_length, mask=universe) \\\n",
    "        .demean(groupby=sector) \\\n",
    "        .rank() \\\n",
    "        .zscore()\n",
    "    return SimpleMovingAverage(inputs=[unsmoothed_factor], window_length=window_length) \\\n",
    "        .rank() \\\n",
    "        .zscore()\n",
    "\n",
    "class CTO(Returns):\n",
    "    \"\"\"\n",
    "    Computes the overnight return, per hypothesis from\n",
    "    https://papers.ssrn.com/sol3/papers.cfm?abstract_id=2554010\n",
    "    \"\"\"\n",
    "    inputs = [USEquityPricing.open, USEquityPricing.close]\n",
    "    \n",
    "    def compute(self, today, assets, out, opens, closes):\n",
    "        \"\"\"\n",
    "        The opens and closes matrix is 2 rows x N assets, with the most recent at the bottom.\n",
    "        As such, opens[-1] is the most recent open, and closes[0] is the earlier close\n",
    "        \"\"\"\n",
    "        out[:] = (opens[-1] - closes[0]) / closes[0]\n",
    "        \n",
    "class TrailingOvernightReturns(Returns):\n",
    "    \"\"\"\n",
    "    Sum of trailing 1m O/N returns\n",
    "    \"\"\"\n",
    "    window_safe = True\n",
    "    \n",
    "    def compute(self, today, asset_ids, out, cto):\n",
    "        out[:] = np.nansum(cto, axis=0)\n",
    "\n",
    "def overnight_sentiment_smoothed(cto_window_length, trail_overnight_returns_window_length, universe):\n",
    "    cto_out = CTO(mask=universe, window_length=cto_window_length)\n",
    "    unsmoothed_factor = TrailingOvernightReturns(inputs=[cto_out], window_length=trail_overnight_returns_window_length) \\\n",
    "        .rank() \\\n",
    "        .zscore()\n",
    "    return SimpleMovingAverage(inputs=[unsmoothed_factor], window_length=trail_overnight_returns_window_length) \\\n",
    "        .rank() \\\n",
    "        .zscore()"
   ]
  },
  {
   "cell_type": "markdown",
   "metadata": {},
   "source": [
    "### Combine the Factors to a single Pipeline\n",
    "Let's add the factors to a pipeline."
   ]
  },
  {
   "cell_type": "code",
   "execution_count": 21,
   "metadata": {},
   "outputs": [],
   "source": [
    "universe = AverageDollarVolume(window_length=120).top(500)\n",
    "sector = project_helper.Sector()\n",
    "\n",
    "pipeline = Pipeline(screen=universe)\n",
    "pipeline.add(\n",
    "    momentum_1yr(252, universe, sector),\n",
    "    'Momentum_1YR')\n",
    "pipeline.add(\n",
    "    mean_reversion_5day_sector_neutral_smoothed(20, universe, sector),\n",
    "    'Mean_Reversion_Sector_Neutral_Smoothed')\n",
    "pipeline.add(\n",
    "    overnight_sentiment_smoothed(2, 10, universe),\n",
    "    'Overnight_Sentiment_Smoothed')"
   ]
  },
  {
   "cell_type": "markdown",
   "metadata": {},
   "source": [
    "## Features and Labels\n",
    "Let's create some features that we think will help the model make predictions.\n",
    "### \"Universal\" Quant Features\n",
    "To capture the universe, we'll use the following as features:\n",
    "- Stock Volatility 20d, 120d\n",
    "- Stock Dollar Volume 20d, 120d\n",
    "- Sector"
   ]
  },
  {
   "cell_type": "code",
   "execution_count": 22,
   "metadata": {},
   "outputs": [],
   "source": [
    "pipeline.add(AnnualizedVolatility(window_length=20, mask=universe).rank().zscore(), 'volatility_20d')\n",
    "pipeline.add(AnnualizedVolatility(window_length=120, mask=universe).rank().zscore(), 'volatility_120d')\n",
    "pipeline.add(AverageDollarVolume(window_length=20, mask=universe).rank().zscore(), 'adv_20d')\n",
    "pipeline.add(AverageDollarVolume(window_length=120, mask=universe).rank().zscore(), 'adv_120d')\n",
    "pipeline.add(sector, 'sector_code')"
   ]
  },
  {
   "cell_type": "markdown",
   "metadata": {},
   "source": [
    "### Regime Features\n",
    "We are going to try to capture market-wide regimes. To do that, we'll use the following features:\n",
    "- High and low volatility 20d, 120d\n",
    "- High and low dispersion 20d, 120d"
   ]
  },
  {
   "cell_type": "code",
   "execution_count": 23,
   "metadata": {},
   "outputs": [],
   "source": [
    "class MarketDispersion(CustomFactor):\n",
    "    inputs = [DailyReturns()]\n",
    "    window_length = 1\n",
    "    window_safe = True\n",
    "\n",
    "    def compute(self, today, assets, out, returns):\n",
    "        # returns are days in rows, assets across columns\n",
    "        out[:] = np.sqrt(np.nanmean((returns - np.nanmean(returns))**2))\n",
    "\n",
    "\n",
    "pipeline.add(SimpleMovingAverage(inputs=[MarketDispersion(mask=universe)], window_length=20), 'dispersion_20d')\n",
    "pipeline.add(SimpleMovingAverage(inputs=[MarketDispersion(mask=universe)], window_length=120), 'dispersion_120d')"
   ]
  },
  {
   "cell_type": "code",
   "execution_count": 24,
   "metadata": {},
   "outputs": [],
   "source": [
    "class MarketVolatility(CustomFactor):\n",
    "    inputs = [DailyReturns()]\n",
    "    window_length = 1\n",
    "    window_safe = True\n",
    "    \n",
    "    def compute(self, today, assets, out, returns):\n",
    "        mkt_returns = np.nanmean(returns, axis=1)\n",
    "        out[:] = np.sqrt(260.* np.nanmean((mkt_returns-np.nanmean(mkt_returns))**2))\n",
    "\n",
    "\n",
    "pipeline.add(MarketVolatility(window_length=20), 'market_vol_20d')\n",
    "pipeline.add(MarketVolatility(window_length=120), 'market_vol_120d')"
   ]
  },
  {
   "cell_type": "markdown",
   "metadata": {},
   "source": [
    "### Target\n",
    "Let's try to predict the go forward 1-week return. When doing this, it's important to quantize the target. The factor we create is the trailing 5-day return."
   ]
  },
  {
   "cell_type": "code",
   "execution_count": 25,
   "metadata": {},
   "outputs": [],
   "source": [
    "pipeline.add(Returns(window_length=5, mask=universe).quantiles(2), 'return_5d')\n",
    "pipeline.add(Returns(window_length=5, mask=universe).quantiles(25), 'return_5d_p')"
   ]
  },
  {
   "cell_type": "markdown",
   "metadata": {},
   "source": [
    "### Date Features\n",
    "Let's make columns for the trees to split on that might capture trader/investor behavior due to calendar anomalies."
   ]
  },
  {
   "cell_type": "code",
   "execution_count": 27,
   "metadata": {},
   "outputs": [
    {
     "data": {
      "text/html": [
       "<div>\n",
       "<table border=\"1\" class=\"dataframe\">\n",
       "  <thead>\n",
       "    <tr style=\"text-align: right;\">\n",
       "      <th></th>\n",
       "      <th></th>\n",
       "      <th>Mean_Reversion_Sector_Neutral_Smoothed</th>\n",
       "      <th>Momentum_1YR</th>\n",
       "      <th>Overnight_Sentiment_Smoothed</th>\n",
       "      <th>adv_120d</th>\n",
       "      <th>adv_20d</th>\n",
       "      <th>dispersion_120d</th>\n",
       "      <th>dispersion_20d</th>\n",
       "      <th>market_vol_120d</th>\n",
       "      <th>market_vol_20d</th>\n",
       "      <th>return_5d</th>\n",
       "      <th>...</th>\n",
       "      <th>volatility_20d</th>\n",
       "      <th>is_Janaury</th>\n",
       "      <th>is_December</th>\n",
       "      <th>weekday</th>\n",
       "      <th>quarter</th>\n",
       "      <th>qtr_yr</th>\n",
       "      <th>month_end</th>\n",
       "      <th>month_start</th>\n",
       "      <th>qtr_end</th>\n",
       "      <th>qtr_start</th>\n",
       "    </tr>\n",
       "  </thead>\n",
       "  <tbody>\n",
       "    <tr>\n",
       "      <th rowspan=\"5\" valign=\"top\">2013-01-03 00:00:00+00:00</th>\n",
       "      <th>Equity(0 [A])</th>\n",
       "      <td>-0.26276899</td>\n",
       "      <td>-1.20797813</td>\n",
       "      <td>-1.48566901</td>\n",
       "      <td>1.33857307</td>\n",
       "      <td>1.39741144</td>\n",
       "      <td>0.01326964</td>\n",
       "      <td>0.01117804</td>\n",
       "      <td>0.12966421</td>\n",
       "      <td>0.13758558</td>\n",
       "      <td>0</td>\n",
       "      <td>...</td>\n",
       "      <td>-1.21980876</td>\n",
       "      <td>True</td>\n",
       "      <td>False</td>\n",
       "      <td>3</td>\n",
       "      <td>1</td>\n",
       "      <td>1_2013</td>\n",
       "      <td>False</td>\n",
       "      <td>False</td>\n",
       "      <td>False</td>\n",
       "      <td>False</td>\n",
       "    </tr>\n",
       "    <tr>\n",
       "      <th>Equity(1 [AAL])</th>\n",
       "      <td>0.09992624</td>\n",
       "      <td>1.71347052</td>\n",
       "      <td>0.91934963</td>\n",
       "      <td>1.13999355</td>\n",
       "      <td>1.08115517</td>\n",
       "      <td>0.01326964</td>\n",
       "      <td>0.01117804</td>\n",
       "      <td>0.12966421</td>\n",
       "      <td>0.13758558</td>\n",
       "      <td>1</td>\n",
       "      <td>...</td>\n",
       "      <td>1.56621970</td>\n",
       "      <td>True</td>\n",
       "      <td>False</td>\n",
       "      <td>3</td>\n",
       "      <td>1</td>\n",
       "      <td>1_2013</td>\n",
       "      <td>False</td>\n",
       "      <td>False</td>\n",
       "      <td>False</td>\n",
       "      <td>False</td>\n",
       "    </tr>\n",
       "    <tr>\n",
       "      <th>Equity(2 [AAP])</th>\n",
       "      <td>1.66913824</td>\n",
       "      <td>-1.53506144</td>\n",
       "      <td>1.50773340</td>\n",
       "      <td>-0.30154668</td>\n",
       "      <td>-0.91934963</td>\n",
       "      <td>0.01326964</td>\n",
       "      <td>0.01117804</td>\n",
       "      <td>0.12966421</td>\n",
       "      <td>0.13758558</td>\n",
       "      <td>0</td>\n",
       "      <td>...</td>\n",
       "      <td>-1.47040391</td>\n",
       "      <td>True</td>\n",
       "      <td>False</td>\n",
       "      <td>3</td>\n",
       "      <td>1</td>\n",
       "      <td>1_2013</td>\n",
       "      <td>False</td>\n",
       "      <td>False</td>\n",
       "      <td>False</td>\n",
       "      <td>False</td>\n",
       "    </tr>\n",
       "    <tr>\n",
       "      <th>Equity(3 [AAPL])</th>\n",
       "      <td>1.69874602</td>\n",
       "      <td>1.19311071</td>\n",
       "      <td>-1.36799226</td>\n",
       "      <td>1.72837731</td>\n",
       "      <td>1.72837731</td>\n",
       "      <td>0.01326964</td>\n",
       "      <td>0.01117804</td>\n",
       "      <td>0.12966421</td>\n",
       "      <td>0.13758558</td>\n",
       "      <td>1</td>\n",
       "      <td>...</td>\n",
       "      <td>1.61781282</td>\n",
       "      <td>True</td>\n",
       "      <td>False</td>\n",
       "      <td>3</td>\n",
       "      <td>1</td>\n",
       "      <td>1_2013</td>\n",
       "      <td>False</td>\n",
       "      <td>False</td>\n",
       "      <td>False</td>\n",
       "      <td>False</td>\n",
       "    </tr>\n",
       "    <tr>\n",
       "      <th>Equity(4 [ABBV])</th>\n",
       "      <td>nan</td>\n",
       "      <td>nan</td>\n",
       "      <td>-0.25006310</td>\n",
       "      <td>-1.72837731</td>\n",
       "      <td>-1.64747455</td>\n",
       "      <td>0.01459524</td>\n",
       "      <td>0.01459524</td>\n",
       "      <td>0.12966421</td>\n",
       "      <td>0.13758558</td>\n",
       "      <td>-1</td>\n",
       "      <td>...</td>\n",
       "      <td>nan</td>\n",
       "      <td>True</td>\n",
       "      <td>False</td>\n",
       "      <td>3</td>\n",
       "      <td>1</td>\n",
       "      <td>1_2013</td>\n",
       "      <td>False</td>\n",
       "      <td>False</td>\n",
       "      <td>False</td>\n",
       "      <td>False</td>\n",
       "    </tr>\n",
       "  </tbody>\n",
       "</table>\n",
       "<p>5 rows × 23 columns</p>\n",
       "</div>"
      ],
      "text/plain": [
       "                                            Mean_Reversion_Sector_Neutral_Smoothed  \\\n",
       "2013-01-03 00:00:00+00:00 Equity(0 [A])                                -0.26276899   \n",
       "                          Equity(1 [AAL])                               0.09992624   \n",
       "                          Equity(2 [AAP])                               1.66913824   \n",
       "                          Equity(3 [AAPL])                              1.69874602   \n",
       "                          Equity(4 [ABBV])                                     nan   \n",
       "\n",
       "                                            Momentum_1YR  \\\n",
       "2013-01-03 00:00:00+00:00 Equity(0 [A])      -1.20797813   \n",
       "                          Equity(1 [AAL])     1.71347052   \n",
       "                          Equity(2 [AAP])    -1.53506144   \n",
       "                          Equity(3 [AAPL])    1.19311071   \n",
       "                          Equity(4 [ABBV])           nan   \n",
       "\n",
       "                                            Overnight_Sentiment_Smoothed  \\\n",
       "2013-01-03 00:00:00+00:00 Equity(0 [A])                      -1.48566901   \n",
       "                          Equity(1 [AAL])                     0.91934963   \n",
       "                          Equity(2 [AAP])                     1.50773340   \n",
       "                          Equity(3 [AAPL])                   -1.36799226   \n",
       "                          Equity(4 [ABBV])                   -0.25006310   \n",
       "\n",
       "                                              adv_120d     adv_20d  \\\n",
       "2013-01-03 00:00:00+00:00 Equity(0 [A])     1.33857307  1.39741144   \n",
       "                          Equity(1 [AAL])   1.13999355  1.08115517   \n",
       "                          Equity(2 [AAP])  -0.30154668 -0.91934963   \n",
       "                          Equity(3 [AAPL])  1.72837731  1.72837731   \n",
       "                          Equity(4 [ABBV]) -1.72837731 -1.64747455   \n",
       "\n",
       "                                            dispersion_120d  dispersion_20d  \\\n",
       "2013-01-03 00:00:00+00:00 Equity(0 [A])          0.01326964      0.01117804   \n",
       "                          Equity(1 [AAL])        0.01326964      0.01117804   \n",
       "                          Equity(2 [AAP])        0.01326964      0.01117804   \n",
       "                          Equity(3 [AAPL])       0.01326964      0.01117804   \n",
       "                          Equity(4 [ABBV])       0.01459524      0.01459524   \n",
       "\n",
       "                                            market_vol_120d  market_vol_20d  \\\n",
       "2013-01-03 00:00:00+00:00 Equity(0 [A])          0.12966421      0.13758558   \n",
       "                          Equity(1 [AAL])        0.12966421      0.13758558   \n",
       "                          Equity(2 [AAP])        0.12966421      0.13758558   \n",
       "                          Equity(3 [AAPL])       0.12966421      0.13758558   \n",
       "                          Equity(4 [ABBV])       0.12966421      0.13758558   \n",
       "\n",
       "                                            return_5d    ...     \\\n",
       "2013-01-03 00:00:00+00:00 Equity(0 [A])             0    ...      \n",
       "                          Equity(1 [AAL])           1    ...      \n",
       "                          Equity(2 [AAP])           0    ...      \n",
       "                          Equity(3 [AAPL])          1    ...      \n",
       "                          Equity(4 [ABBV])         -1    ...      \n",
       "\n",
       "                                            volatility_20d  is_Janaury  \\\n",
       "2013-01-03 00:00:00+00:00 Equity(0 [A])        -1.21980876        True   \n",
       "                          Equity(1 [AAL])       1.56621970        True   \n",
       "                          Equity(2 [AAP])      -1.47040391        True   \n",
       "                          Equity(3 [AAPL])      1.61781282        True   \n",
       "                          Equity(4 [ABBV])             nan        True   \n",
       "\n",
       "                                            is_December  weekday quarter  \\\n",
       "2013-01-03 00:00:00+00:00 Equity(0 [A])           False        3       1   \n",
       "                          Equity(1 [AAL])         False        3       1   \n",
       "                          Equity(2 [AAP])         False        3       1   \n",
       "                          Equity(3 [AAPL])        False        3       1   \n",
       "                          Equity(4 [ABBV])        False        3       1   \n",
       "\n",
       "                                            qtr_yr  month_end  month_start  \\\n",
       "2013-01-03 00:00:00+00:00 Equity(0 [A])     1_2013      False        False   \n",
       "                          Equity(1 [AAL])   1_2013      False        False   \n",
       "                          Equity(2 [AAP])   1_2013      False        False   \n",
       "                          Equity(3 [AAPL])  1_2013      False        False   \n",
       "                          Equity(4 [ABBV])  1_2013      False        False   \n",
       "\n",
       "                                           qtr_end qtr_start  \n",
       "2013-01-03 00:00:00+00:00 Equity(0 [A])      False     False  \n",
       "                          Equity(1 [AAL])    False     False  \n",
       "                          Equity(2 [AAP])    False     False  \n",
       "                          Equity(3 [AAPL])   False     False  \n",
       "                          Equity(4 [ABBV])   False     False  \n",
       "\n",
       "[5 rows x 23 columns]"
      ]
     },
     "execution_count": 27,
     "metadata": {},
     "output_type": "execute_result"
    }
   ],
   "source": [
    "all_factors = engine.run_pipeline(pipeline, factor_start_date, universe_end_date)\n",
    "\n",
    "all_factors['is_Janaury'] = all_factors.index.get_level_values(0).month == 1\n",
    "all_factors['is_December'] = all_factors.index.get_level_values(0).month == 12\n",
    "all_factors['weekday'] = all_factors.index.get_level_values(0).weekday\n",
    "all_factors['quarter'] = all_factors.index.get_level_values(0).quarter\n",
    "all_factors['qtr_yr'] = all_factors.quarter.astype('str') + '_' + all_factors.index.get_level_values(0).year.astype('str')\n",
    "all_factors['month_end'] = all_factors.index.get_level_values(0).isin(pd.date_range(start=factor_start_date, end=universe_end_date, freq='BM'))\n",
    "all_factors['month_start'] = all_factors.index.get_level_values(0).isin(pd.date_range(start=factor_start_date, end=universe_end_date, freq='BMS'))\n",
    "all_factors['qtr_end'] = all_factors.index.get_level_values(0).isin(pd.date_range(start=factor_start_date, end=universe_end_date, freq='BQ'))\n",
    "all_factors['qtr_start'] = all_factors.index.get_level_values(0).isin(pd.date_range(start=factor_start_date, end=universe_end_date, freq='BQS'))\n",
    "\n",
    "all_factors.head()"
   ]
  },
  {
   "cell_type": "markdown",
   "metadata": {},
   "source": [
    "### One Hot Encode Sectors\n",
    "For the model to better understand the sector data, we'll one hot encode this data."
   ]
  },
  {
   "cell_type": "code",
   "execution_count": 28,
   "metadata": {},
   "outputs": [
    {
     "data": {
      "text/html": [
       "<div>\n",
       "<table border=\"1\" class=\"dataframe\">\n",
       "  <thead>\n",
       "    <tr style=\"text-align: right;\">\n",
       "      <th></th>\n",
       "      <th></th>\n",
       "      <th>sector_Healthcare</th>\n",
       "      <th>sector_Technology</th>\n",
       "      <th>sector_Consumer Defensive</th>\n",
       "      <th>sector_Industrials</th>\n",
       "      <th>sector_Utilities</th>\n",
       "      <th>sector_Financial Services</th>\n",
       "      <th>sector_Real Estate</th>\n",
       "      <th>sector_Communication Services</th>\n",
       "      <th>sector_Consumer Cyclical</th>\n",
       "      <th>sector_Energy</th>\n",
       "      <th>sector_Basic Materials</th>\n",
       "    </tr>\n",
       "  </thead>\n",
       "  <tbody>\n",
       "    <tr>\n",
       "      <th rowspan=\"5\" valign=\"top\">2013-01-03 00:00:00+00:00</th>\n",
       "      <th>Equity(0 [A])</th>\n",
       "      <td>True</td>\n",
       "      <td>False</td>\n",
       "      <td>False</td>\n",
       "      <td>False</td>\n",
       "      <td>False</td>\n",
       "      <td>False</td>\n",
       "      <td>False</td>\n",
       "      <td>False</td>\n",
       "      <td>False</td>\n",
       "      <td>False</td>\n",
       "      <td>False</td>\n",
       "    </tr>\n",
       "    <tr>\n",
       "      <th>Equity(1 [AAL])</th>\n",
       "      <td>False</td>\n",
       "      <td>False</td>\n",
       "      <td>False</td>\n",
       "      <td>True</td>\n",
       "      <td>False</td>\n",
       "      <td>False</td>\n",
       "      <td>False</td>\n",
       "      <td>False</td>\n",
       "      <td>False</td>\n",
       "      <td>False</td>\n",
       "      <td>False</td>\n",
       "    </tr>\n",
       "    <tr>\n",
       "      <th>Equity(2 [AAP])</th>\n",
       "      <td>False</td>\n",
       "      <td>False</td>\n",
       "      <td>False</td>\n",
       "      <td>False</td>\n",
       "      <td>False</td>\n",
       "      <td>False</td>\n",
       "      <td>False</td>\n",
       "      <td>False</td>\n",
       "      <td>True</td>\n",
       "      <td>False</td>\n",
       "      <td>False</td>\n",
       "    </tr>\n",
       "    <tr>\n",
       "      <th>Equity(3 [AAPL])</th>\n",
       "      <td>False</td>\n",
       "      <td>True</td>\n",
       "      <td>False</td>\n",
       "      <td>False</td>\n",
       "      <td>False</td>\n",
       "      <td>False</td>\n",
       "      <td>False</td>\n",
       "      <td>False</td>\n",
       "      <td>False</td>\n",
       "      <td>False</td>\n",
       "      <td>False</td>\n",
       "    </tr>\n",
       "    <tr>\n",
       "      <th>Equity(4 [ABBV])</th>\n",
       "      <td>True</td>\n",
       "      <td>False</td>\n",
       "      <td>False</td>\n",
       "      <td>False</td>\n",
       "      <td>False</td>\n",
       "      <td>False</td>\n",
       "      <td>False</td>\n",
       "      <td>False</td>\n",
       "      <td>False</td>\n",
       "      <td>False</td>\n",
       "      <td>False</td>\n",
       "    </tr>\n",
       "  </tbody>\n",
       "</table>\n",
       "</div>"
      ],
      "text/plain": [
       "                                           sector_Healthcare  \\\n",
       "2013-01-03 00:00:00+00:00 Equity(0 [A])                 True   \n",
       "                          Equity(1 [AAL])              False   \n",
       "                          Equity(2 [AAP])              False   \n",
       "                          Equity(3 [AAPL])             False   \n",
       "                          Equity(4 [ABBV])              True   \n",
       "\n",
       "                                           sector_Technology  \\\n",
       "2013-01-03 00:00:00+00:00 Equity(0 [A])                False   \n",
       "                          Equity(1 [AAL])              False   \n",
       "                          Equity(2 [AAP])              False   \n",
       "                          Equity(3 [AAPL])              True   \n",
       "                          Equity(4 [ABBV])             False   \n",
       "\n",
       "                                           sector_Consumer Defensive  \\\n",
       "2013-01-03 00:00:00+00:00 Equity(0 [A])                        False   \n",
       "                          Equity(1 [AAL])                      False   \n",
       "                          Equity(2 [AAP])                      False   \n",
       "                          Equity(3 [AAPL])                     False   \n",
       "                          Equity(4 [ABBV])                     False   \n",
       "\n",
       "                                           sector_Industrials  \\\n",
       "2013-01-03 00:00:00+00:00 Equity(0 [A])                 False   \n",
       "                          Equity(1 [AAL])                True   \n",
       "                          Equity(2 [AAP])               False   \n",
       "                          Equity(3 [AAPL])              False   \n",
       "                          Equity(4 [ABBV])              False   \n",
       "\n",
       "                                           sector_Utilities  \\\n",
       "2013-01-03 00:00:00+00:00 Equity(0 [A])               False   \n",
       "                          Equity(1 [AAL])             False   \n",
       "                          Equity(2 [AAP])             False   \n",
       "                          Equity(3 [AAPL])            False   \n",
       "                          Equity(4 [ABBV])            False   \n",
       "\n",
       "                                           sector_Financial Services  \\\n",
       "2013-01-03 00:00:00+00:00 Equity(0 [A])                        False   \n",
       "                          Equity(1 [AAL])                      False   \n",
       "                          Equity(2 [AAP])                      False   \n",
       "                          Equity(3 [AAPL])                     False   \n",
       "                          Equity(4 [ABBV])                     False   \n",
       "\n",
       "                                           sector_Real Estate  \\\n",
       "2013-01-03 00:00:00+00:00 Equity(0 [A])                 False   \n",
       "                          Equity(1 [AAL])               False   \n",
       "                          Equity(2 [AAP])               False   \n",
       "                          Equity(3 [AAPL])              False   \n",
       "                          Equity(4 [ABBV])              False   \n",
       "\n",
       "                                           sector_Communication Services  \\\n",
       "2013-01-03 00:00:00+00:00 Equity(0 [A])                            False   \n",
       "                          Equity(1 [AAL])                          False   \n",
       "                          Equity(2 [AAP])                          False   \n",
       "                          Equity(3 [AAPL])                         False   \n",
       "                          Equity(4 [ABBV])                         False   \n",
       "\n",
       "                                           sector_Consumer Cyclical  \\\n",
       "2013-01-03 00:00:00+00:00 Equity(0 [A])                       False   \n",
       "                          Equity(1 [AAL])                     False   \n",
       "                          Equity(2 [AAP])                      True   \n",
       "                          Equity(3 [AAPL])                    False   \n",
       "                          Equity(4 [ABBV])                    False   \n",
       "\n",
       "                                           sector_Energy  \\\n",
       "2013-01-03 00:00:00+00:00 Equity(0 [A])            False   \n",
       "                          Equity(1 [AAL])          False   \n",
       "                          Equity(2 [AAP])          False   \n",
       "                          Equity(3 [AAPL])         False   \n",
       "                          Equity(4 [ABBV])         False   \n",
       "\n",
       "                                           sector_Basic Materials  \n",
       "2013-01-03 00:00:00+00:00 Equity(0 [A])                     False  \n",
       "                          Equity(1 [AAL])                   False  \n",
       "                          Equity(2 [AAP])                   False  \n",
       "                          Equity(3 [AAPL])                  False  \n",
       "                          Equity(4 [ABBV])                  False  "
      ]
     },
     "execution_count": 28,
     "metadata": {},
     "output_type": "execute_result"
    }
   ],
   "source": [
    "sector_lookup = pd.read_csv(\n",
    "    os.path.join(os.getcwd(), '..', '..', 'data', 'project_7_sector', 'labels.csv'),\n",
    "    index_col='Sector_i')['Sector'].to_dict()\n",
    "sector_lookup\n",
    "\n",
    "sector_columns = []\n",
    "for sector_i, sector_name in sector_lookup.items():\n",
    "    secotr_column = 'sector_{}'.format(sector_name)\n",
    "    sector_columns.append(secotr_column)\n",
    "    all_factors[secotr_column] = (all_factors['sector_code'] == sector_i)\n",
    "\n",
    "all_factors[sector_columns].head()"
   ]
  },
  {
   "cell_type": "markdown",
   "metadata": {},
   "source": [
    "### Shift Target\n",
    "We'll use shifted 5 day returns for training the model."
   ]
  },
  {
   "cell_type": "code",
   "execution_count": 29,
   "metadata": {},
   "outputs": [
    {
     "data": {
      "text/html": [
       "<div>\n",
       "<table border=\"1\" class=\"dataframe\">\n",
       "  <thead>\n",
       "    <tr style=\"text-align: right;\">\n",
       "      <th></th>\n",
       "      <th>level_0</th>\n",
       "      <th>level_1</th>\n",
       "      <th>return_5d</th>\n",
       "      <th>target</th>\n",
       "    </tr>\n",
       "  </thead>\n",
       "  <tbody>\n",
       "    <tr>\n",
       "      <th>0</th>\n",
       "      <td>2013-01-03 00:00:00+00:00</td>\n",
       "      <td>Equity(0 [A])</td>\n",
       "      <td>0</td>\n",
       "      <td>0.00000000</td>\n",
       "    </tr>\n",
       "    <tr>\n",
       "      <th>471</th>\n",
       "      <td>2013-01-04 00:00:00+00:00</td>\n",
       "      <td>Equity(0 [A])</td>\n",
       "      <td>0</td>\n",
       "      <td>0.00000000</td>\n",
       "    </tr>\n",
       "    <tr>\n",
       "      <th>942</th>\n",
       "      <td>2013-01-07 00:00:00+00:00</td>\n",
       "      <td>Equity(0 [A])</td>\n",
       "      <td>0</td>\n",
       "      <td>0.00000000</td>\n",
       "    </tr>\n",
       "    <tr>\n",
       "      <th>1413</th>\n",
       "      <td>2013-01-08 00:00:00+00:00</td>\n",
       "      <td>Equity(0 [A])</td>\n",
       "      <td>0</td>\n",
       "      <td>1.00000000</td>\n",
       "    </tr>\n",
       "    <tr>\n",
       "      <th>1884</th>\n",
       "      <td>2013-01-09 00:00:00+00:00</td>\n",
       "      <td>Equity(0 [A])</td>\n",
       "      <td>0</td>\n",
       "      <td>0.00000000</td>\n",
       "    </tr>\n",
       "    <tr>\n",
       "      <th>2355</th>\n",
       "      <td>2013-01-10 00:00:00+00:00</td>\n",
       "      <td>Equity(0 [A])</td>\n",
       "      <td>0</td>\n",
       "      <td>0.00000000</td>\n",
       "    </tr>\n",
       "    <tr>\n",
       "      <th>2826</th>\n",
       "      <td>2013-01-11 00:00:00+00:00</td>\n",
       "      <td>Equity(0 [A])</td>\n",
       "      <td>0</td>\n",
       "      <td>0.00000000</td>\n",
       "    </tr>\n",
       "    <tr>\n",
       "      <th>3297</th>\n",
       "      <td>2013-01-14 00:00:00+00:00</td>\n",
       "      <td>Equity(0 [A])</td>\n",
       "      <td>0</td>\n",
       "      <td>0.00000000</td>\n",
       "    </tr>\n",
       "    <tr>\n",
       "      <th>3768</th>\n",
       "      <td>2013-01-15 00:00:00+00:00</td>\n",
       "      <td>Equity(0 [A])</td>\n",
       "      <td>1</td>\n",
       "      <td>0.00000000</td>\n",
       "    </tr>\n",
       "    <tr>\n",
       "      <th>4239</th>\n",
       "      <td>2013-01-16 00:00:00+00:00</td>\n",
       "      <td>Equity(0 [A])</td>\n",
       "      <td>0</td>\n",
       "      <td>0.00000000</td>\n",
       "    </tr>\n",
       "  </tbody>\n",
       "</table>\n",
       "</div>"
      ],
      "text/plain": [
       "                       level_0        level_1  return_5d     target\n",
       "0    2013-01-03 00:00:00+00:00  Equity(0 [A])          0 0.00000000\n",
       "471  2013-01-04 00:00:00+00:00  Equity(0 [A])          0 0.00000000\n",
       "942  2013-01-07 00:00:00+00:00  Equity(0 [A])          0 0.00000000\n",
       "1413 2013-01-08 00:00:00+00:00  Equity(0 [A])          0 1.00000000\n",
       "1884 2013-01-09 00:00:00+00:00  Equity(0 [A])          0 0.00000000\n",
       "2355 2013-01-10 00:00:00+00:00  Equity(0 [A])          0 0.00000000\n",
       "2826 2013-01-11 00:00:00+00:00  Equity(0 [A])          0 0.00000000\n",
       "3297 2013-01-14 00:00:00+00:00  Equity(0 [A])          0 0.00000000\n",
       "3768 2013-01-15 00:00:00+00:00  Equity(0 [A])          1 0.00000000\n",
       "4239 2013-01-16 00:00:00+00:00  Equity(0 [A])          0 0.00000000"
      ]
     },
     "execution_count": 29,
     "metadata": {},
     "output_type": "execute_result"
    }
   ],
   "source": [
    "all_factors['target'] = all_factors.groupby(level=1)['return_5d'].shift(-5)\n",
    "\n",
    "all_factors[['return_5d','target']].reset_index().sort_values(['level_1', 'level_0']).head(10)"
   ]
  },
  {
   "cell_type": "markdown",
   "metadata": {},
   "source": [
    "### IID Check of Target\n",
    "Let's see if the returns are independent and identically distributed."
   ]
  },
  {
   "cell_type": "code",
   "execution_count": 30,
   "metadata": {},
   "outputs": [
    {
     "data": {
      "image/png": "[encoded data removed]",
      "text/plain": [
       "<Figure size 1008x576 with 1 Axes>"
      ]
     },
     "metadata": {},
     "output_type": "display_data"
    }
   ],
   "source": [
    "from scipy.stats import spearmanr\n",
    "\n",
    "\n",
    "def sp(group, col1_name, col2_name):\n",
    "    x = group[col1_name]\n",
    "    y = group[col2_name]\n",
    "    return spearmanr(x, y)[0]\n",
    "\n",
    "\n",
    "all_factors['target_p'] = all_factors.groupby(level=1)['return_5d_p'].shift(-5)\n",
    "all_factors['target_1'] = all_factors.groupby(level=1)['return_5d'].shift(-4)\n",
    "all_factors['target_2'] = all_factors.groupby(level=1)['return_5d'].shift(-3)\n",
    "all_factors['target_3'] = all_factors.groupby(level=1)['return_5d'].shift(-2)\n",
    "all_factors['target_4'] = all_factors.groupby(level=1)['return_5d'].shift(-1)\n",
    "\n",
    "g = all_factors.dropna().groupby(level=0)\n",
    "for i in range(4):\n",
    "    label = 'target_'+str(i+1)\n",
    "    ic = g.apply(sp, 'target', label)\n",
    "    ic.plot(ylim=(-1, 1), label=label)\n",
    "plt.legend(bbox_to_anchor=(1.04, 1), borderaxespad=0)\n",
    "plt.title('Rolling Autocorrelation of Labels Shifted 1,2,3,4 Days')\n",
    "plt.show()"
   ]
  },
  {
   "cell_type": "markdown",
   "metadata": {},
   "source": [
    "### Question: What do you observe in the rolling autocorrelation of labels shifted?\n",
    "\n",
    "#### TODO: Put Answer In this Cell*\n"
   ]
  },
  {
   "cell_type": "markdown",
   "metadata": {},
   "source": [
    "### Train/Valid/Test Splits\n",
    "Now let's split the data into a train, validation, and test dataset. Implement the function `train_valid_test_split` to split the input samples, `all_x`, and targets values, `all_y` into a train, validation, and test dataset. The proportion sizes are `train_size`, `valid_size`, `test_size` respectively.\n",
    "\n",
    "When splitting, make sure the data is in order from train, validation, and test respectivly. Say `train_size` is 0.7, `valid_size` is 0.2, and `test_size` is 0.1. The first 70 percent of `all_x` and `all_y` would be the train set. The next 20 percent of `all_x` and `all_y` would be the validation set. The last 10 percent of `all_x` and `all_y` would be the test set. Make sure not split a day between multiple datasets. It should be contained within a single dataset.\n",
    "\n",
    "#### TODO"
   ]
  },
  {
   "cell_type": "code",
   "execution_count": null,
   "metadata": {},
   "outputs": [],
   "source": [
    "def train_valid_test_split(all_x, all_y, train_size, valid_size, test_size):\n",
    "    \"\"\"\n",
    "    Generate the train, validation, and test dataset.\n",
    "\n",
    "    Parameters\n",
    "    ----------\n",
    "    all_x : DataFrame\n",
    "        All the input samples\n",
    "    all_y : Pandas Series\n",
    "        All the target values\n",
    "    train_size : float\n",
    "        The proportion of the data used for the training dataset\n",
    "    valid_size : float\n",
    "        The proportion of the data used for the validation dataset\n",
    "    test_size : float\n",
    "        The proportion of the data used for the test dataset\n",
    "\n",
    "    Returns\n",
    "    -------\n",
    "    x_train : DataFrame\n",
    "        The train input samples\n",
    "    x_valid : DataFrame\n",
    "        The validation input samples\n",
    "    x_test : DataFrame\n",
    "        The test input samples\n",
    "    y_train : Pandas Series\n",
    "        The train target values\n",
    "    y_valid : Pandas Series\n",
    "        The validation target values\n",
    "    y_test : Pandas Series\n",
    "        The test target values\n",
    "    \"\"\"\n",
    "    assert train_size >= 0 and train_size <= 1.0\n",
    "    assert valid_size >= 0 and valid_size <= 1.0\n",
    "    assert test_size >= 0 and test_size <= 1.0\n",
    "    assert train_size + valid_size + test_size == 1.0\n",
    "    \n",
    "    # TODO: Implement\n",
    "    \n",
    "    return None, None, None, None, None, None\n",
    "\n",
    "\n",
    "project_tests.test_train_valid_test_split(train_valid_test_split)"
   ]
  },
  {
   "cell_type": "markdown",
   "metadata": {},
   "source": [
    "With `train_valid_test_split` implemented, let's split the data into a train, validation, and test set. For this, we'll use some of the features and the 5 day returns for our target."
   ]
  },
  {
   "cell_type": "code",
   "execution_count": null,
   "metadata": {},
   "outputs": [],
   "source": [
    "features = [\n",
    "    'Mean_Reversion_Sector_Neutral_Smoothed', 'Momentum_1YR',\n",
    "    'Overnight_Sentiment_Smoothed', 'adv_120d', 'adv_20d',\n",
    "    'dispersion_120d', 'dispersion_20d', 'market_vol_120d',\n",
    "    'market_vol_20d', 'volatility_20d',\n",
    "    'is_Janaury', 'is_December', 'weekday',\n",
    "    'month_end', 'month_start', 'qtr_end', 'qtr_start'] + sector_columns\n",
    "target_label = 'target'\n",
    "\n",
    "temp = all_factors.dropna().copy()\n",
    "X = temp[features]\n",
    "y = temp[target_label]\n",
    "\n",
    "X_train, X_valid, X_test, y_train, y_valid, y_test = train_valid_test_split(X, y, 0.6, 0.2, 0.2)\n",
    "\n",
    "X_train.head()"
   ]
  },
  {
   "cell_type": "markdown",
   "metadata": {},
   "source": [
    "## Random Forests\n",
    "### Visualize a Simple Tree\n",
    "Let's see how a single tree would look using our data."
   ]
  },
  {
   "cell_type": "code",
   "execution_count": null,
   "metadata": {},
   "outputs": [],
   "source": [
    "from IPython.display import display\n",
    "from sklearn.tree import DecisionTreeClassifier\n",
    "\n",
    "\n",
    "# This is to get consistent results between each run.\n",
    "clf_random_state = 0\n",
    "\n",
    "simple_clf = DecisionTreeClassifier(\n",
    "    max_depth=3,\n",
    "    criterion='entropy',\n",
    "    random_state=clf_random_state)\n",
    "simple_clf.fit(X_train, y_train)\n",
    "\n",
    "display(project_helper.plot_tree_classifier(simple_clf, feature_names=features))\n",
    "project_helper.rank_features_by_importance(simple_clf.feature_importances_, features)"
   ]
  },
  {
   "cell_type": "markdown",
   "metadata": {},
   "source": [
    "### Question: Why does dispersion_20d have the highest feature importance, when the first split is on the Momentum_1YR feature?\n",
    "#### TODO: Put Answer In this Cell*\n"
   ]
  },
  {
   "cell_type": "markdown",
   "metadata": {},
   "source": [
    "### Train Random Forests with Different Tree Sizes\n",
    "Let's build models using different tree sizes to find the model that best generalizes.\n",
    "#### Parameters\n",
    "When building the models, we'll use the following parameters."
   ]
  },
  {
   "cell_type": "code",
   "execution_count": null,
   "metadata": {},
   "outputs": [],
   "source": [
    "n_days = 10\n",
    "n_stocks = 500\n",
    "\n",
    "clf_parameters = {\n",
    "    'criterion': 'entropy',\n",
    "    'min_samples_leaf': n_stocks * n_days,\n",
    "    'oob_score': True,\n",
    "    'n_jobs': -1,\n",
    "    'random_state': clf_random_state}\n",
    "n_trees_l = [50, 100, 250, 500, 1000]"
   ]
  },
  {
   "cell_type": "markdown",
   "metadata": {},
   "source": [
    "Recall from the lesson, that we’ll choose a min_samples_leaf parameter to be small enough to allow the tree to fit the data with as much detail as possible, but not so much that it overfits.  We can first propose 500, which is the number of assets in the estimation universe. Since we have about 500 stocks in the stock universe, we’ll want at least 500 stocks in a leaf for the leaf to make a prediction that is representative.  It’s common to multiply this by 2,3,5 or 10, so we’d have min samples leaf of 500, 1000, 1500, 2500, and 5000. If we were to try these values, we’d notice that the model is “too good to be true” on the training data.  A good rule of thumb for what is considered “too good to be true”, and therefore a sign of overfitting, is if the sharpe ratio is greater than 4.  Based on this, we recommend using min_sampes_leaf of 10 * 500, or 5,000.\n",
    "\n",
    "Feel free to try other values for these parameters, but also keep in mind that making too many small adjustments to hyper-parameters can lead to overfitting even the validation data, and therefore lead to less generalizable performance on the out-of-sample test set.  So when trying different parameter values, choose values that are different enough in scale (i.e. 10, 20, 100 instead of 10,11,12)."
   ]
  },
  {
   "cell_type": "code",
   "execution_count": null,
   "metadata": {},
   "outputs": [],
   "source": [
    "from sklearn.ensemble import RandomForestClassifier\n",
    "\n",
    "\n",
    "train_score = []\n",
    "valid_score = []\n",
    "oob_score = []\n",
    "feature_importances = []\n",
    "\n",
    "for n_trees in tqdm(n_trees_l, desc='Training Models', unit='Model'):\n",
    "    clf = RandomForestClassifier(n_trees, **clf_parameters)\n",
    "    clf.fit(X_train, y_train)\n",
    "    \n",
    "    train_score.append(clf.score(X_train, y_train.values))\n",
    "    valid_score.append(clf.score(X_valid, y_valid.values))\n",
    "    oob_score.append(clf.oob_score_)\n",
    "    feature_importances.append(clf.feature_importances_)"
   ]
  },
  {
   "cell_type": "markdown",
   "metadata": {},
   "source": [
    "Let's look at the accuracy of the classifiers over the number of trees."
   ]
  },
  {
   "cell_type": "code",
   "execution_count": null,
   "metadata": {},
   "outputs": [],
   "source": [
    "project_helper.plot(\n",
    "    [n_trees_l]*3,\n",
    "    [train_score, valid_score, oob_score],\n",
    "    ['train', 'validation', 'oob'],\n",
    "    'Random Forrest Accuracy',\n",
    "    'Number of Trees')"
   ]
  },
  {
   "cell_type": "markdown",
   "metadata": {},
   "source": [
    "#### Question: 1) What do you observe with the accuracy vs tree size graph? 2) Does the graph indicate the model is overfitting or underfitting? Describe how it indicates this.\n",
    "#### TODO: Put Answer In this Cell*\n"
   ]
  },
  {
   "cell_type": "markdown",
   "metadata": {},
   "source": [
    "Now let's looks at the average feature importance of the classifiers."
   ]
  },
  {
   "cell_type": "code",
   "execution_count": null,
   "metadata": {},
   "outputs": [],
   "source": [
    "print('Features Ranked by Average Importance:\\n')\n",
    "project_helper.rank_features_by_importance(np.average(feature_importances, axis=0), features)"
   ]
  },
  {
   "cell_type": "markdown",
   "metadata": {},
   "source": [
    "You might notice that some of the features of low to no importance. We will be removing them when training the final model.\n",
    "### Model Results\n",
    "Let's look at some additional metrics to see how well a model performs. We've created the function `show_sample_results` to show the following results of a model:\n",
    "- Sharpe Ratios\n",
    "- Factor Returns\n",
    "- Factor Rank Autocorrelation"
   ]
  },
  {
   "cell_type": "code",
   "execution_count": null,
   "metadata": {},
   "outputs": [],
   "source": [
    "import alphalens as al\n",
    "\n",
    "\n",
    "all_assets = all_factors.index.levels[1].values.tolist()\n",
    "all_pricing = get_pricing(\n",
    "    data_portal,\n",
    "    trading_calendar,\n",
    "    all_assets,\n",
    "    factor_start_date,\n",
    "    universe_end_date)\n",
    "\n",
    "def show_sample_results(data, samples, classifier, factors, pricing=all_pricing):\n",
    "    # Calculate the Alpha Score\n",
    "    prob_array=[-1,1]\n",
    "    alpha_score = classifier.predict_proba(samples).dot(np.array(prob_array))\n",
    "    \n",
    "    # Add Alpha Score to rest of the factors\n",
    "    alpha_score_label = 'AI_ALPHA'\n",
    "    factors_with_alpha = data.loc[samples.index].copy()\n",
    "    factors_with_alpha[alpha_score_label] = alpha_score\n",
    "    \n",
    "    # Setup data for AlphaLens\n",
    "    print('Cleaning Data...\\n')\n",
    "    factor_data = project_helper.build_factor_data(factors_with_alpha[factors + [alpha_score_label]], pricing)\n",
    "    print('\\n-----------------------\\n')\n",
    "    \n",
    "    # Calculate Factor Returns and Sharpe Ratio\n",
    "    factor_returns = project_helper.get_factor_returns(factor_data)\n",
    "    sharpe_ratio = project_helper.sharpe_ratio(factor_returns)\n",
    "    \n",
    "    # Show Results\n",
    "    print('             Sharpe Ratios')\n",
    "    print(sharpe_ratio.round(2))\n",
    "    project_helper.plot_factor_returns(factor_returns)\n",
    "    project_helper.plot_factor_rank_autocorrelation(factor_data)"
   ]
  },
  {
   "cell_type": "markdown",
   "metadata": {},
   "source": [
    "#### Results\n",
    "Let's compare our AI Alpha factor to a few other factors. We'll use the following:"
   ]
  },
  {
   "cell_type": "code",
   "execution_count": null,
   "metadata": {},
   "outputs": [],
   "source": [
    "factor_names = [\n",
    "    'Mean_Reversion_Sector_Neutral_Smoothed',\n",
    "    'Momentum_1YR',\n",
    "    'Overnight_Sentiment_Smoothed',\n",
    "    'adv_120d',\n",
    "    'volatility_20d']"
   ]
  },
  {
   "cell_type": "markdown",
   "metadata": {},
   "source": [
    "##### Training Prediction\n",
    "Let's see how well the model runs on training data."
   ]
  },
  {
   "cell_type": "code",
   "execution_count": null,
   "metadata": {},
   "outputs": [],
   "source": [
    "show_sample_results(all_factors, X_train, clf, factor_names)"
   ]
  },
  {
   "cell_type": "markdown",
   "metadata": {},
   "source": [
    "##### Validation Prediction\n",
    "Let's see how well the model runs on validation data."
   ]
  },
  {
   "cell_type": "code",
   "execution_count": null,
   "metadata": {},
   "outputs": [],
   "source": [
    "show_sample_results(all_factors, X_valid, clf, factor_names)"
   ]
  },
  {
   "cell_type": "markdown",
   "metadata": {},
   "source": [
    "So that's pretty extraordinary. Even when the input factor returns are sideways to down, the AI Alpha is positive with Sharpe Ratio > 2. If we hope that this model will perform well in production we need to correct though for the non-IID labels and mitigate likely overfitting."
   ]
  },
  {
   "cell_type": "markdown",
   "metadata": {},
   "source": [
    "## Overlapping Samples\n",
    "Let's fix this by removing overlapping samples. We can do a number of things:\n",
    "\n",
    "- Don't use overlapping samples\n",
    "- Use BaggingClassifier's `max_samples`\n",
    "- Build an ensemble of non-overlapping trees\n",
    "\n",
    "In this project, we'll do all three methods and compare.\n",
    "### Drop Overlapping Samples\n",
    "This is the simplest of the three methods. We'll just drop any overlapping samples from the dataset. Implement the `non_overlapping_samples` function to return a new dataset overlapping samples. \n",
    "\n",
    "#### TODO"
   ]
  },
  {
   "cell_type": "code",
   "execution_count": null,
   "metadata": {},
   "outputs": [],
   "source": [
    "def non_overlapping_samples(x, y, n_skip_samples, start_i=0):\n",
    "    \"\"\"\n",
    "    Get the non overlapping samples.\n",
    "\n",
    "    Parameters\n",
    "    ----------\n",
    "    x : DataFrame\n",
    "        The input samples\n",
    "    y : Pandas Series\n",
    "        The target values\n",
    "    n_skip_samples : int\n",
    "        The number of samples to skip\n",
    "    start_i : int\n",
    "        The starting index to use for the data\n",
    "    \n",
    "    Returns\n",
    "    -------\n",
    "    non_overlapping_x : 2 dimensional Ndarray\n",
    "        The non overlapping input samples\n",
    "    non_overlapping_y : 1 dimensional Ndarray\n",
    "        The non overlapping target values\n",
    "    \"\"\"\n",
    "    assert len(x.shape) == 2\n",
    "    assert len(y.shape) == 1\n",
    "    \n",
    "    # TODO: Implement\n",
    "    \n",
    "    return None\n",
    "\n",
    "\n",
    "project_tests.test_non_overlapping_samples(non_overlapping_samples)"
   ]
  },
  {
   "cell_type": "markdown",
   "metadata": {},
   "source": [
    "With the dataset created without overlapping samples, lets train a new model and look at the results."
   ]
  },
  {
   "cell_type": "markdown",
   "metadata": {},
   "source": [
    "#### Train Model"
   ]
  },
  {
   "cell_type": "code",
   "execution_count": null,
   "metadata": {},
   "outputs": [],
   "source": [
    "train_score = []\n",
    "valid_score = []\n",
    "oob_score = []\n",
    "\n",
    "for n_trees in tqdm(n_trees_l, desc='Training Models', unit='Model'):\n",
    "    clf = RandomForestClassifier(n_trees, **clf_parameters)\n",
    "    clf.fit(*non_overlapping_samples(X_train, y_train, 4))\n",
    "    \n",
    "    train_score.append(clf.score(X_train, y_train.values))\n",
    "    valid_score.append(clf.score(X_valid, y_valid.values))\n",
    "    oob_score.append(clf.oob_score_)"
   ]
  },
  {
   "cell_type": "markdown",
   "metadata": {},
   "source": [
    "#### Results"
   ]
  },
  {
   "cell_type": "code",
   "execution_count": null,
   "metadata": {},
   "outputs": [],
   "source": [
    "project_helper.plot(\n",
    "    [n_trees_l]*3,\n",
    "    [train_score, valid_score, oob_score],\n",
    "    ['train', 'validation', 'oob'],\n",
    "    'Random Forrest Accuracy',\n",
    "    'Number of Trees')"
   ]
  },
  {
   "cell_type": "code",
   "execution_count": null,
   "metadata": {},
   "outputs": [],
   "source": [
    "show_sample_results(all_factors, X_valid, clf, factor_names)"
   ]
  },
  {
   "cell_type": "markdown",
   "metadata": {},
   "source": [
    "This looks better, but we are throwing away a lot of information by taking every 5th row."
   ]
  },
  {
   "cell_type": "markdown",
   "metadata": {},
   "source": [
    "### Use BaggingClassifier's `max_samples`\n",
    "In this method, we'll set `max_samples` to be on the order of the average uniqueness of the labels. Since  `RandomForrestClassifier` does not take this param, we're using `BaggingClassifier`. Implement `bagging_classifier` to build the bagging classifier."
   ]
  },
  {
   "cell_type": "code",
   "execution_count": null,
   "metadata": {},
   "outputs": [],
   "source": [
    "from sklearn.ensemble import BaggingClassifier\n",
    "from sklearn.tree import DecisionTreeClassifier\n",
    "\n",
    "\n",
    "def bagging_classifier(n_estimators, max_samples, max_features, parameters):\n",
    "    \"\"\"\n",
    "    Build the bagging classifier.\n",
    "\n",
    "    Parameters\n",
    "    ----------\n",
    "    n_estimators : int \n",
    "        The number of base estimators in the ensemble\n",
    "    max_samples : float \n",
    "        The proportion of input samples drawn from when training each base estimator\n",
    "    max_features : float \n",
    "        The proportion of input sample features drawn from when training each base estimator\n",
    "    parameters : dict\n",
    "        Parameters to use in building the bagging classifier\n",
    "        It should contain the following parameters:\n",
    "            criterion\n",
    "            min_samples_leaf\n",
    "            oob_score\n",
    "            n_jobs\n",
    "            random_state\n",
    "    \n",
    "    Returns\n",
    "    -------\n",
    "    bagging_clf : Scikit-Learn BaggingClassifier\n",
    "        The bagging classifier\n",
    "    \"\"\"\n",
    "    \n",
    "    required_parameters = {'criterion', 'min_samples_leaf', 'oob_score', 'n_jobs', 'random_state'}\n",
    "    assert not required_parameters - set(parameters.keys())\n",
    "    \n",
    "    # TODO: Implement\n",
    "    \n",
    "    return None\n",
    "\n",
    "\n",
    "project_tests.test_bagging_classifier(bagging_classifier)"
   ]
  },
  {
   "cell_type": "markdown",
   "metadata": {},
   "source": [
    "With the bagging classifier built, lets train a new model and look at the results.\n",
    "#### Train Model"
   ]
  },
  {
   "cell_type": "code",
   "execution_count": null,
   "metadata": {},
   "outputs": [],
   "source": [
    "train_score = []\n",
    "valid_score = []\n",
    "oob_score = []\n",
    "\n",
    "for n_trees in tqdm(n_trees_l, desc='Training Models', unit='Model'):\n",
    "    clf = bagging_classifier(n_trees, 0.2, 1.0, clf_parameters)\n",
    "    clf.fit(X_train, y_train)\n",
    "    \n",
    "    train_score.append(clf.score(X_train, y_train.values))\n",
    "    valid_score.append(clf.score(X_valid, y_valid.values))\n",
    "    oob_score.append(clf.oob_score_)"
   ]
  },
  {
   "cell_type": "markdown",
   "metadata": {},
   "source": [
    "#### Results"
   ]
  },
  {
   "cell_type": "code",
   "execution_count": null,
   "metadata": {},
   "outputs": [],
   "source": [
    "project_helper.plot(\n",
    "    [n_trees_l]*3,\n",
    "    [train_score, valid_score, oob_score],\n",
    "    ['train', 'validation', 'oob'],\n",
    "    'Random Forrest Accuracy',\n",
    "    'Number of Trees')"
   ]
  },
  {
   "cell_type": "code",
   "execution_count": null,
   "metadata": {},
   "outputs": [],
   "source": [
    "show_sample_results(all_factors, X_valid, clf, factor_names)"
   ]
  },
  {
   "cell_type": "markdown",
   "metadata": {},
   "source": [
    "This seems much \"better\" in the sense that we have much better fidelity between the three.\n"
   ]
  },
  {
   "cell_type": "markdown",
   "metadata": {},
   "source": [
    "### Build an ensemble of non-overlapping trees\n",
    "The last method is to create ensemble of non-overlapping trees. Here we are going to write a custom `scikit-learn` estimator. We inherit from `VotingClassifier` and we override the `fit` method so we fit on non-overlapping periods."
   ]
  },
  {
   "cell_type": "code",
   "execution_count": null,
   "metadata": {},
   "outputs": [],
   "source": [
    "import abc\n",
    "\n",
    "from sklearn.ensemble import VotingClassifier\n",
    "from sklearn.base import clone\n",
    "from sklearn.preprocessing import LabelEncoder\n",
    "from sklearn.utils import Bunch\n",
    "\n",
    "\n",
    "class NoOverlapVoterAbstract(VotingClassifier):\n",
    "    @abc.abstractmethod\n",
    "    def _calculate_oob_score(self, classifiers):\n",
    "        raise NotImplementedError\n",
    "        \n",
    "    @abc.abstractmethod\n",
    "    def _non_overlapping_estimators(self, x, y, classifiers, n_skip_samples):\n",
    "        raise NotImplementedError\n",
    "    \n",
    "    def __init__(self, estimator, voting='soft', n_skip_samples=4):\n",
    "        # List of estimators for all the subsets of data\n",
    "        estimators = [('clf'+str(i), estimator) for i in range(n_skip_samples + 1)]\n",
    "        \n",
    "        self.n_skip_samples = n_skip_samples\n",
    "        super().__init__(estimators, voting)\n",
    "    \n",
    "    def fit(self, X, y, sample_weight=None):\n",
    "        estimator_names, clfs = zip(*self.estimators)\n",
    "        self.le_ = LabelEncoder().fit(y)\n",
    "        self.classes_ = self.le_.classes_\n",
    "        \n",
    "        clone_clfs = [clone(clf) for clf in clfs]\n",
    "        self.estimators_ = self._non_overlapping_estimators(X, y, clone_clfs, self.n_skip_samples)\n",
    "        self.named_estimators_ = Bunch(**dict(zip(estimator_names, self.estimators_)))\n",
    "        self.oob_score_ = self._calculate_oob_score(self.estimators_)\n",
    "        \n",
    "        return self"
   ]
  },
  {
   "cell_type": "markdown",
   "metadata": {},
   "source": [
    "You might notice that two of the functions are abstracted. These will be the functions that you need to implement.\n",
    "#### OOB Score\n",
    "In order to get the correct OOB score, we need to take the average of all the estimator's OOB scores. Implement `calculate_oob_score` to calculate this score.\n",
    "\n",
    "#### TODO"
   ]
  },
  {
   "cell_type": "code",
   "execution_count": null,
   "metadata": {},
   "outputs": [],
   "source": [
    "def calculate_oob_score(classifiers):\n",
    "    \"\"\"\n",
    "    Calculate the mean out-of-bag score from the classifiers.\n",
    "\n",
    "    Parameters\n",
    "    ----------\n",
    "    classifiers : list of Scikit-Learn Classifiers\n",
    "        The classifiers used to calculate the mean out-of-bag score\n",
    "    \n",
    "    Returns\n",
    "    -------\n",
    "    oob_score : float\n",
    "        The mean out-of-bag score\n",
    "    \"\"\"\n",
    "    \n",
    "    # TODO: Implement\n",
    "    \n",
    "    return None\n",
    "\n",
    "\n",
    "project_tests.test_calculate_oob_score(calculate_oob_score)"
   ]
  },
  {
   "cell_type": "markdown",
   "metadata": {},
   "source": [
    "#### Non Overlapping Estimators\n",
    "With `calculate_oob_score` implemented, let's create non overlapping estimators. Implement `non_overlapping_estimators` to build non overlapping subsets of the data, then run a estimator on each subset of data.\n",
    "\n",
    "#### TODO"
   ]
  },
  {
   "cell_type": "code",
   "execution_count": null,
   "metadata": {},
   "outputs": [],
   "source": [
    "def non_overlapping_estimators(x, y, classifiers, n_skip_samples):\n",
    "    \"\"\"\n",
    "    Fit the classifiers to non overlapping data.\n",
    "\n",
    "    Parameters\n",
    "    ----------\n",
    "    x : DataFrame\n",
    "        The input samples\n",
    "    y : Pandas Series\n",
    "        The target values\n",
    "    classifiers : list of Scikit-Learn Classifiers\n",
    "        The classifiers used to fit on the non overlapping data\n",
    "    n_skip_samples : int\n",
    "        The number of samples to skip\n",
    "    \n",
    "    Returns\n",
    "    -------\n",
    "    fit_classifiers : list of Scikit-Learn Classifiers\n",
    "        The classifiers fit to the the non overlapping data\n",
    "    \"\"\"\n",
    "    \n",
    "    # TODO: Implement\n",
    "\n",
    "    return None\n",
    "\n",
    "\n",
    "project_tests.test_non_overlapping_estimators(non_overlapping_estimators)"
   ]
  },
  {
   "cell_type": "code",
   "execution_count": null,
   "metadata": {},
   "outputs": [],
   "source": [
    "class NoOverlapVoter(NoOverlapVoterAbstract):\n",
    "    def _calculate_oob_score(self, classifiers):\n",
    "        return calculate_oob_score(classifiers)\n",
    "        \n",
    "    def _non_overlapping_estimators(self, x, y, classifiers, n_skip_samples):\n",
    "        return non_overlapping_estimators(x, y, classifiers, n_skip_samples)"
   ]
  },
  {
   "cell_type": "markdown",
   "metadata": {},
   "source": [
    "Now that we have our `NoOverlapVoter` class, let's train it."
   ]
  },
  {
   "cell_type": "markdown",
   "metadata": {},
   "source": [
    "#### Train Model"
   ]
  },
  {
   "cell_type": "code",
   "execution_count": null,
   "metadata": {
    "scrolled": false
   },
   "outputs": [],
   "source": [
    "train_score = []\n",
    "valid_score = []\n",
    "oob_score = []\n",
    "\n",
    "for n_trees in tqdm(n_trees_l, desc='Training Models', unit='Model'):\n",
    "    clf = RandomForestClassifier(n_trees, **clf_parameters)\n",
    "    \n",
    "    clf_nov = NoOverlapVoter(clf)\n",
    "    clf_nov.fit(X_train, y_train)\n",
    "    \n",
    "    train_score.append(clf_nov.score(X_train, y_train.values))\n",
    "    valid_score.append(clf_nov.score(X_valid, y_valid.values))\n",
    "    oob_score.append(clf_nov.oob_score_)"
   ]
  },
  {
   "cell_type": "markdown",
   "metadata": {},
   "source": [
    "#### Results"
   ]
  },
  {
   "cell_type": "code",
   "execution_count": null,
   "metadata": {},
   "outputs": [],
   "source": [
    "project_helper.plot(\n",
    "    [n_trees_l]*3,\n",
    "    [train_score, valid_score, oob_score],\n",
    "    ['train', 'validation', 'oob'],\n",
    "    'Random Forrest Accuracy',\n",
    "    'Number of Trees')"
   ]
  },
  {
   "cell_type": "code",
   "execution_count": null,
   "metadata": {},
   "outputs": [],
   "source": [
    "show_sample_results(all_factors, X_valid, clf_nov, factor_names)"
   ]
  },
  {
   "cell_type": "markdown",
   "metadata": {},
   "source": [
    "## Final Model\n",
    "### Re-Training Model\n",
    "In production, we would roll forward the training. Typically you would re-train up to the \"current day\" and then test. Here, we will train on the train & validation dataset."
   ]
  },
  {
   "cell_type": "code",
   "execution_count": null,
   "metadata": {},
   "outputs": [],
   "source": [
    "n_trees = 500\n",
    "\n",
    "clf = RandomForestClassifier(n_trees, **clf_parameters)\n",
    "clf_nov = NoOverlapVoter(clf)\n",
    "clf_nov.fit(\n",
    "    pd.concat([X_train, X_valid]),\n",
    "    pd.concat([y_train, y_valid]))"
   ]
  },
  {
   "cell_type": "markdown",
   "metadata": {},
   "source": [
    "### Results\n",
    "#### Accuracy"
   ]
  },
  {
   "cell_type": "code",
   "execution_count": null,
   "metadata": {},
   "outputs": [],
   "source": [
    "print('train: {}, oob: {}, valid: {}'.format(\n",
    "    clf_nov.score(X_train, y_train.values),\n",
    "    clf_nov.score(X_valid, y_valid.values),\n",
    "    clf_nov.oob_score_))"
   ]
  },
  {
   "cell_type": "markdown",
   "metadata": {},
   "source": [
    "#### Train"
   ]
  },
  {
   "cell_type": "code",
   "execution_count": null,
   "metadata": {},
   "outputs": [],
   "source": [
    "show_sample_results(all_factors, X_train, clf_nov, factor_names)"
   ]
  },
  {
   "cell_type": "markdown",
   "metadata": {},
   "source": [
    "#### Validation"
   ]
  },
  {
   "cell_type": "code",
   "execution_count": null,
   "metadata": {},
   "outputs": [],
   "source": [
    "show_sample_results(all_factors, X_valid, clf_nov, factor_names)"
   ]
  },
  {
   "cell_type": "markdown",
   "metadata": {},
   "source": [
    "#### Test"
   ]
  },
  {
   "cell_type": "code",
   "execution_count": null,
   "metadata": {},
   "outputs": [],
   "source": [
    "show_sample_results(all_factors, X_test, clf_nov, factor_names)"
   ]
  },
  {
   "cell_type": "markdown",
   "metadata": {},
   "source": [
    "So, hopefully you are appropriately amazed by this. Despite the significant differences between the factor performances in the three sets, the AI APLHA is able to deliver positive performance."
   ]
  },
  {
   "cell_type": "markdown",
   "metadata": {},
   "source": [
    "## Submission\n",
    "Now that you're done with the project, it's time to submit it. Click the submit button in the bottom right. One of our reviewers will give you feedback on your project with a pass or not passed grade. You can continue to the next section while you wait for feedback."
   ]
  }
 ],
 "metadata": {
  "kernelspec": {
   "display_name": "Python 3",
   "language": "python",
   "name": "python3"
  },
  "language_info": {
   "codemirror_mode": {
    "name": "ipython",
    "version": 3
   },
   "file_extension": ".py",
   "mimetype": "text/x-python",
   "name": "python",
   "nbconvert_exporter": "python",
   "pygments_lexer": "ipython3",
   "version": "3.6.8"
  },
  "toc": {
   "base_numbering": 1,
   "nav_menu": {},
   "number_sections": true,
   "sideBar": true,
   "skip_h1_title": false,
   "title_cell": "Table of Contents",
   "title_sidebar": "Contents",
   "toc_cell": true,
   "toc_position": {},
   "toc_section_display": true,
   "toc_window_display": true
  }
 },
 "nbformat": 4,
 "nbformat_minor": 2
}
