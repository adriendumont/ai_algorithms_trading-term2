{
 "cells": [
  {
   "cell_type": "code",
   "execution_count": 1,
   "metadata": {},
   "outputs": [
    {
     "name": "stderr",
     "output_type": "stream",
     "text": [
      "1st Loop: 100%|██████████| 15/15 [00:00<00:00, 21.65it/s]\n"
     ]
    }
   ],
   "source": [
    "from tqdm import tqdm\n",
    "from time import sleep\n",
    "\n",
    "tr = tqdm(range(15), desc='1st Loop')\n",
    "for i in tr:\n",
    "    # jr = trange(4, desc='2nd Loop', leave=False)\n",
    "    for j in range(4):\n",
    "        sleep(0.01)"
   ]
  },
  {
   "cell_type": "code",
   "execution_count": null,
   "metadata": {},
   "outputs": [],
   "source": [
    "import numpy as np\n",
    "\n",
    "np.random.seed(7)\n",
    "ar = np.random.randint(0, 100, size=(3, 4))\n",
    "print(ar[0,:])\n",
    "print(ar)"
   ]
  },
  {
   "cell_type": "code",
   "execution_count": null,
   "metadata": {},
   "outputs": [],
   "source": [
    "# https://matplotlib.org/users/image_tutorial.html\n",
    "import numpy as np\n",
    "import matplotlib.pyplot as plt\n",
    "import matplotlib.image as mpimg\n",
    "from pathlib import Path\n",
    "\n",
    "img = mpimg.imread('images/blue-fractal.jpg')\n",
    "plt.imshow(img)"
   ]
  },
  {
   "cell_type": "code",
   "execution_count": null,
   "metadata": {},
   "outputs": [],
   "source": [
    "print(img)"
   ]
  },
  {
   "cell_type": "code",
   "execution_count": null,
   "metadata": {},
   "outputs": [],
   "source": [
    "a = 0.7 + 0.8\n",
    "\n",
    "def sig(x):\n",
    "    return (np.e**x) / ((np.e**x) + 1)\n",
    "\n",
    "print(sig(a))"
   ]
  },
  {
   "cell_type": "code",
   "execution_count": null,
   "metadata": {},
   "outputs": [],
   "source": [
    "# Write a function that takes as input two lists Y, P,\n",
    "# and returns the float corresponding to their cross-entropy.\n",
    "def cross_entropy(Y, P):\n",
    "    Y = np.float_(Y)\n",
    "    P = np.float_(P)\n",
    "    return -np.sum(Y * np.log(P) + (1 - Y) * np.log(1 - P))\n",
    "\n",
    "y = [0, 0, 1]\n",
    "p = [0.8, 0.7, 0.1]\n",
    "\n",
    "print(cross_entropy(y, p))"
   ]
  },
  {
   "cell_type": "code",
   "execution_count": null,
   "metadata": {},
   "outputs": [],
   "source": [
    "# We use the natural logarithm, base e instead of base 10.  e = 2.718281828459045\n",
    "\n",
    "a = 3\n",
    "b = 7\n",
    "\n",
    "if log(a*b) == (np.log(a) + np.log(b)):\n",
    "    print(f\"Holly Cow! {np.log(a*b)} is equalt to {np.log(a) + np.log(b)}\")"
   ]
  },
  {
   "cell_type": "code",
   "execution_count": null,
   "metadata": {},
   "outputs": [],
   "source": [
    "%run -i 'lesson_notebooks/l8/perceptron.py'"
   ]
  },
  {
   "cell_type": "markdown",
   "metadata": {},
   "source": [
    "# The NOT Perceptron"
   ]
  },
  {
   "cell_type": "code",
   "execution_count": null,
   "metadata": {},
   "outputs": [],
   "source": [
    "import pandas as pd\n",
    "\n",
    "# TODO: Set weight1, weight2, and bias\n",
    "weight1 = 0.0\n",
    "weight2 = -1.0\n",
    "bias = 0.0\n",
    "\n",
    "\n",
    "# DON'T CHANGE ANYTHING BELOW\n",
    "# Inputs and outputs\n",
    "test_inputs = [(0, 0), (0, 1), (1, 0), (1, 1)]\n",
    "correct_outputs = [True, False, True, False]\n",
    "outputs = []\n",
    "\n",
    "# Generate and check output\n",
    "for test_input, correct_output in zip(test_inputs, correct_outputs):\n",
    "    linear_combination = weight1 * test_input[0] + weight2 * test_input[1] + bias\n",
    "    output = int(linear_combination >= 0)\n",
    "    is_correct_string = 'Yes' if output == correct_output else 'No'\n",
    "    outputs.append([test_input[0], test_input[1], linear_combination, output, is_correct_string])\n",
    "\n",
    "# Print output\n",
    "num_wrong = len([output[4] for output in outputs if output[4] == 'No'])\n",
    "output_frame = pd.DataFrame(outputs, columns=['Input 1', '  Input 2', '  Linear Combination', '  Activation Output', '  Is Correct'])\n",
    "if not num_wrong:\n",
    "    print('Nice!  You got it all correct.\\n')\n",
    "else:\n",
    "    print('You got {} wrong.  Keep trying!\\n'.format(num_wrong))\n",
    "print(output_frame.to_string(index=False))"
   ]
  },
  {
   "cell_type": "markdown",
   "metadata": {},
   "source": [
    "# The AND Perceptron"
   ]
  },
  {
   "cell_type": "code",
   "execution_count": null,
   "metadata": {},
   "outputs": [],
   "source": [
    "import pandas as pd\n",
    "\n",
    "# TODO: Set weight1, weight2, and bias\n",
    "weight1 = 1.0\n",
    "weight2 = 1.0\n",
    "bias = -2.0\n",
    "\n",
    "\n",
    "# DON'T CHANGE ANYTHING BELOW\n",
    "# Inputs and outputs\n",
    "test_inputs = [(0, 0), (0, 1), (1, 0), (1, 1)]\n",
    "correct_outputs = [False, False, False, True]\n",
    "outputs = []\n",
    "\n",
    "# Generate and check output\n",
    "for test_input, correct_output in zip(test_inputs, correct_outputs):\n",
    "    linear_combination = weight1 * test_input[0] + weight2 * test_input[1] + bias\n",
    "    output = int(linear_combination >= 0)\n",
    "    is_correct_string = 'Yes' if output == correct_output else 'No'\n",
    "    outputs.append([test_input[0], test_input[1], linear_combination, output, is_correct_string])\n",
    "\n",
    "# Print output\n",
    "num_wrong = len([output[4] for output in outputs if output[4] == 'No'])\n",
    "output_frame = pd.DataFrame(outputs, columns=['Input 1', '  Input 2', '  Linear Combination', '  Activation Output', '  Is Correct'])\n",
    "if not num_wrong:\n",
    "    print('Nice!  You got it all correct.\\n')\n",
    "else:\n",
    "    print('You got {} wrong.  Keep trying!\\n'.format(num_wrong))\n",
    "print(output_frame.to_string(index=False))"
   ]
  },
  {
   "cell_type": "markdown",
   "metadata": {},
   "source": [
    "# re, BeautifulSoup, & NLTK"
   ]
  },
  {
   "cell_type": "code",
   "execution_count": null,
   "metadata": {},
   "outputs": [],
   "source": [
    "# Test 2\n",
    "ten_k_real_compressed_doc = '\\n' \\\n",
    "    '<TYPE>10-K\\n' \\\n",
    "    '<SEQUENCE>1\\n' \\\n",
    "    '<FILENAME>test-20171231x10k.htm\\n' \\\n",
    "    '<DESCRIPTION>10-K\\n' \\\n",
    "    '<TEXT>\\n' \\\n",
    "    '<!DOCTYPE html PUBLIC \"-//W3C//DTD HTML 4.01 Transitional//EN\" \"http://www.w3.org/TR/html4/loose.dtd\">\\n' \\\n",
    "    '<html>\\n' \\\n",
    "    '\t<head>\\n' \\\n",
    "    '\t\t<title>Document</title>\\n' \\\n",
    "    '\t</head>\\n' \\\n",
    "    '\t<body style=\"font-family:Times New Roman;font-size:10pt;\">\\n' \\\n",
    "    '...\\n' \\\n",
    "    '<td><strong> Data Type:</strong></td>\\n' \\\n",
    "    '<td>xbrli:sharesItemType</td>\\n' \\\n",
    "    '</tr>\\n' \\\n",
    "    '<tr>\\n' \\\n",
    "    '<td><strong> Balance Type:</strong></td>\\n' \\\n",
    "    '<td>na</td>\\n' \\\n",
    "    '</tr>\\n' \\\n",
    "    '<tr>\\n' \\\n",
    "    '<td><strong> Period Type:</strong></td>\\n' \\\n",
    "    '<td>duration</td>\\n' \\\n",
    "    '</tr>\\n' \\\n",
    "    '</table></div>\\n' \\\n",
    "    '</div></td></tr>\\n' \\\n",
    "    '</table>\\n' \\\n",
    "    '</div>\\n' \\\n",
    "    '</body>\\n' \\\n",
    "    '</html>\\n' \\\n",
    "    '</TEXT>\\n'\n",
    "excel_real_compressed_doc = '\\n' \\\n",
    "    '<TYPE>EXCEL\\n' \\\n",
    "    '<SEQUENCE>106\\n' \\\n",
    "    '<FILENAME>Financial_Report.xlsx\\n' \\\n",
    "    '<DESCRIPTION>IDEA: XBRL DOCUMENT\\n' \\\n",
    "    '<TEXT>\\n' \\\n",
    "    'begin 644 Financial_Report.xlsx\\n' \\\n",
    "    'M4$L#!!0    ( %\"E04P?(\\\\#P    !,\"   +    7W)E;,O+G)E;.MDD^+\\n' \\\n",
    "    'MPD ,Q;]*F?L:5\\#8CUYZ6U9_ )Q)OU#.Y,A$[%^>X>];+=44/ 87O+>CT?V\\n' \\\n",
    "    '...\\n' \\\n",
    "    'M,C,Q7V1E9BYX;6Q02P$\"% ,4    \" !0I4%,>V7[]F0L 0!(@A  %0\\n' \\\n",
    "    'M        @ %N9@, 86UZ;BTR,#$W,3(S,5]L86(N>&UL4$L! A0#%     @\\n' \\\n",
    "    'M4*5!3*U*Q:W#O0  U=\\) !4              ( !!9,$ &%M>FXM,C Q-S$R\\n' \\\n",
    "    '@,S%?<)E+GAM;%!+!08     !@ & (H!  #[4 4    !\\n' \\\n",
    "    '\\n' \\\n",
    "    'end\\n' \\\n",
    "    '</TEXT>\\n'\n",
    "real_compressed_text = '<SEC-DOCUMENT>0002014754-18-050402.txt : 20180202\\n' \\\n",
    "    '<SEC-HEADER>00002014754-18-050402.hdr.sgml : 20180202\\n' \\\n",
    "    '<ACCEPTANCE-DATETIME>20180201204115\\n' \\\n",
    "    'ACCESSION NUMBER:\t\t0002014754-18-050402\\n' \\\n",
    "    'CONFORMED SUBMISSION TYPE:\t10-K\\n' \\\n",
    "    'PUBLIC DOCUMENT COUNT:\t\t110\\n' \\\n",
    "    'CONFORMED PERIOD OF REPORT:\t20171231\\n' \\\n",
    "    'FILED AS OF DATE:\t\t20180202\\n' \\\n",
    "    'DATE AS OF CHANGE:\t\t20180201\\n' \\\n",
    "    '\\n' \\\n",
    "    'FILER:\\n' \\\n",
    "    '\\n' \\\n",
    "    '\tCOMPANY DATA:\t\\n' \\\n",
    "    '\t\tCOMPANY CONFORMED NAME:\t\t\tTEST\\n' \\\n",
    "    '\t\tCENTRAL INDEX KEY:\t\t\t0001018724\\n' \\\n",
    "    '\t\tSTANDARD INDUSTRIAL CLASSIFICATION:\tRANDOM [2357234]\\n' \\\n",
    "    '\t\tIRS NUMBER:\t\t\t\t91236464620\\n' \\\n",
    "    '\t\tSTATE OF INCORPORATION:\t\t\tDE\\n' \\\n",
    "    '\t\tFISCAL YEAR END:\t\t\t1231\\n' \\\n",
    "    '\\n' \\\n",
    "    '\tFILING VALUES:\\n' \\\n",
    "    '\t\tFORM TYPE:\t\t10-K\\n' \\\n",
    "    '\t\tSEC ACT:\t\t1934 Act\\n' \\\n",
    "    '\t\tSEC FILE NUMBER:\t000-2225413\\n' \\\n",
    "    '\t\tFILM NUMBER:\t\t13822526583969\\n' \\\n",
    "    '\\n' \\\n",
    "    '\tBUSINESS ADDRESS:\t\\n' \\\n",
    "    '\t\tSTREET 1:\t\t422320 PLACE AVENUE\\n' \\\n",
    "    '\t\tCITY:\t\t\tSEATTLE\\n' \\\n",
    "    '\t\tSTATE:\t\t\tWA\\n' \\\n",
    "    '\t\tZIP:\t\t\t234234\\n' \\\n",
    "    '\t\tBUSINESS PHONE:\t\t306234534246600\\n' \\\n",
    "    '\\n' \\\n",
    "    '\tMAIL ADDRESS:\t\\n' \\\n",
    "    '\t\tSTREET 1:\t\t422320 PLACE AVENUE\\n' \\\n",
    "    '\t\tCITY:\t\t\tSEATTLE\\n' \\\n",
    "    '\t\tSTATE:\t\t\tWA\\n' \\\n",
    "    '\t\tZIP:\t\t\t234234\\n' \\\n",
    "    '</SEC-HEADER>\\n' \\\n",
    "    '<DOCUMENT>{}</DOCUMENT>\\n' \\\n",
    "    '<DOCUMENT>{}</DOCUMENT>\\n' \\\n",
    "    '</SEC-DOCUMENT>\\n'.format(ten_k_real_compressed_doc, excel_real_compressed_doc)\n",
    "\n"
   ]
  },
  {
   "cell_type": "code",
   "execution_count": null,
   "metadata": {},
   "outputs": [],
   "source": [
    "import re \n",
    "from bs4 import BeautifulSoup"
   ]
  },
  {
   "cell_type": "code",
   "execution_count": null,
   "metadata": {},
   "outputs": [],
   "source": [
    "text = real_compressed_text.lower()\n",
    "\n",
    "soup = BeautifulSoup(text).find_all('document')\n",
    "g = [i.renderContents().decode(\"utf-8\")  for i in soup]\n",
    "print(g)"
   ]
  },
  {
   "cell_type": "code",
   "execution_count": null,
   "metadata": {},
   "outputs": [],
   "source": [
    "# print(real_compressed_text)\n",
    "\n",
    "pattern = re.compile(r'(.+)(</document>)', re.IGNORECASE)\n",
    "f = re.finditer(pattern, real_compressed_text)\n",
    "\n",
    "for match in f:\n",
    "    s, e = match.span()\n",
    "    print(real_compressed_text[s:e])"
   ]
  },
  {
   "cell_type": "code",
   "execution_count": null,
   "metadata": {},
   "outputs": [],
   "source": []
  },
  {
   "cell_type": "code",
   "execution_count": null,
   "metadata": {},
   "outputs": [],
   "source": [
    "stri= 'I am a, string. With punc. Here!'.lower() \n",
    "pattern = re.compile(r'[^a-zA-Z0-9]')\n",
    "hh = pattern.sub(' ', stri)\n",
    "print(hh)\n"
   ]
  },
  {
   "cell_type": "code",
   "execution_count": null,
   "metadata": {},
   "outputs": [],
   "source": [
    "l = ['a', 'b', '', 'car', 'a', '', 'car]\n",
    "ll = [item for item in l if item is not '']\n",
    "print(ll)\n",
    "d = {}\n",
    "for i in ll:\n",
    "    if i in d:\n",
    "        d[i] = d[i] + 1\n",
    "    else:\n",
    "        d[i] = 1\n",
    "print(d)"
   ]
  },
  {
   "cell_type": "code",
   "execution_count": null,
   "metadata": {},
   "outputs": [],
   "source": [
    "import nltk\n",
    "from nltk.tokenize import word_tokenize, sent_tokenize\n",
    "\n",
    "# nltk.download('punkt')\n",
    "\n",
    "i_am = 'I am a, string. With punc here. Here!'\n",
    "sent = sent_tokenize(i_am)\n",
    "print(sent)\n",
    "words = word_tokenize(i_am)\n",
    "print(words)"
   ]
  },
  {
   "cell_type": "code",
   "execution_count": null,
   "metadata": {},
   "outputs": [],
   "source": []
  }
 ],
 "metadata": {
  "kernelspec": {
   "display_name": "Python 3",
   "language": "python",
   "name": "python3"
  },
  "language_info": {
   "codemirror_mode": {
    "name": "ipython",
    "version": 3
   },
   "file_extension": ".py",
   "mimetype": "text/x-python",
   "name": "python",
   "nbconvert_exporter": "python",
   "pygments_lexer": "ipython3",
   "version": "3.6.8"
  },
  "toc": {
   "base_numbering": 1,
   "nav_menu": {},
   "number_sections": true,
   "sideBar": true,
   "skip_h1_title": false,
   "title_cell": "Table of Contents",
   "title_sidebar": "Contents",
   "toc_cell": false,
   "toc_position": {},
   "toc_section_display": true,
   "toc_window_display": true
  }
 },
 "nbformat": 4,
 "nbformat_minor": 2
}
