{
 "cells": [
  {
   "cell_type": "markdown",
   "metadata": {
    "toc": true
   },
   "source": [
    "<h1>Table of Contents<span class=\"tocSkip\"></span></h1>\n",
    "<div class=\"toc\"><ul class=\"toc-item\"><li><span><a href=\"#Term-2:-AI-Algorithms-in-Trading\" data-toc-modified-id=\"Term-2:-AI-Algorithms-in-Trading-1\"><span class=\"toc-item-num\">1&nbsp;&nbsp;</span>Term 2: AI Algorithms in Trading</a></span><ul class=\"toc-item\"><li><span><a href=\"#Lesson-1---Welcome-to-Term-2!\" data-toc-modified-id=\"Lesson-1---Welcome-to-Term-2!-1.1\"><span class=\"toc-item-num\">1.1&nbsp;&nbsp;</span>Lesson 1 - Welcome to Term 2!</a></span></li><li><span><a href=\"#Lesson-2---Intro-to-Natural-Language-Processing\" data-toc-modified-id=\"Lesson-2---Intro-to-Natural-Language-Processing-1.2\"><span class=\"toc-item-num\">1.2&nbsp;&nbsp;</span>Lesson 2 - Intro to Natural Language Processing</a></span></li><li><span><a href=\"#Lesson-3-Text-Processing\" data-toc-modified-id=\"Lesson-3-Text-Processing-1.3\"><span class=\"toc-item-num\">1.3&nbsp;&nbsp;</span>Lesson 3 Text Processing</a></span></li><li><span><a href=\"#Lesson-4---Feature-Extraction\" data-toc-modified-id=\"Lesson-4---Feature-Extraction-1.4\"><span class=\"toc-item-num\">1.4&nbsp;&nbsp;</span>Lesson 4 - Feature Extraction</a></span></li><li><span><a href=\"#Lesson-5---Financial-Statements\" data-toc-modified-id=\"Lesson-5---Financial-Statements-1.5\"><span class=\"toc-item-num\">1.5&nbsp;&nbsp;</span>Lesson 5 - Financial Statements</a></span><ul class=\"toc-item\"><li><span><a href=\"#Python-RegEx-Module-(re)\" data-toc-modified-id=\"Python-RegEx-Module-(re)-1.5.1\"><span class=\"toc-item-num\">1.5.1&nbsp;&nbsp;</span>Python RegEx Module (<a href=\"https://docs.python.org/3.6/library/re.html#module-re\" target=\"_blank\">re</a>)</a></span></li><li><span><a href=\"#RegEx-Cheatsheet\" data-toc-modified-id=\"RegEx-Cheatsheet-1.5.2\"><span class=\"toc-item-num\">1.5.2&nbsp;&nbsp;</span>RegEx Cheatsheet</a></span></li></ul></li><li><span><a href=\"#Lesson-6---Basic-NLP-Analysis\" data-toc-modified-id=\"Lesson-6---Basic-NLP-Analysis-1.6\"><span class=\"toc-item-num\">1.6&nbsp;&nbsp;</span>Lesson 6 - Basic NLP Analysis</a></span></li><li><span><a href=\"#Project-5:-NLP-on-Financial-Statements\" data-toc-modified-id=\"Project-5:-NLP-on-Financial-Statements-1.7\"><span class=\"toc-item-num\">1.7&nbsp;&nbsp;</span>Project 5: NLP on Financial Statements</a></span></li><li><span><a href=\"#Lesson-8---Introduction-to-Neural-Networks\" data-toc-modified-id=\"Lesson-8---Introduction-to-Neural-Networks-1.8\"><span class=\"toc-item-num\">1.8&nbsp;&nbsp;</span>Lesson 8 - Introduction to Neural Networks</a></span></li><li><span><a href=\"#Lesson-9---Training-Neural-Networks\" data-toc-modified-id=\"Lesson-9---Training-Neural-Networks-1.9\"><span class=\"toc-item-num\">1.9&nbsp;&nbsp;</span>Lesson 9 - Training Neural Networks</a></span></li><li><span><a href=\"#Lesson-10---Deep-Learning-with-PyTorch\" data-toc-modified-id=\"Lesson-10---Deep-Learning-with-PyTorch-1.10\"><span class=\"toc-item-num\">1.10&nbsp;&nbsp;</span>Lesson 10 - Deep Learning with PyTorch</a></span></li><li><span><a href=\"#Lesson-11---Recurrent-Neural-Networks\" data-toc-modified-id=\"Lesson-11---Recurrent-Neural-Networks-1.11\"><span class=\"toc-item-num\">1.11&nbsp;&nbsp;</span>Lesson 11 - Recurrent Neural Networks</a></span></li><li><span><a href=\"#Lesson-12---Embeddings-&amp;-Word2Vec\" data-toc-modified-id=\"Lesson-12---Embeddings-&amp;-Word2Vec-1.12\"><span class=\"toc-item-num\">1.12&nbsp;&nbsp;</span>Lesson 12 - Embeddings &amp; Word2Vec</a></span></li><li><span><a href=\"#Lesson-13---Sentiment-Prediction-RNN\" data-toc-modified-id=\"Lesson-13---Sentiment-Prediction-RNN-1.13\"><span class=\"toc-item-num\">1.13&nbsp;&nbsp;</span>Lesson 13 - Sentiment Prediction RNN</a></span></li><li><span><a href=\"#Project-6---Sentiment-Analysis-with-Neural-Networks\" data-toc-modified-id=\"Project-6---Sentiment-Analysis-with-Neural-Networks-1.14\"><span class=\"toc-item-num\">1.14&nbsp;&nbsp;</span>Project 6 - Sentiment Analysis with Neural Networks</a></span></li><li><span><a href=\"#Project-7---Combine-Signals-for-Enhanced-Alpha\" data-toc-modified-id=\"Project-7---Combine-Signals-for-Enhanced-Alpha-1.15\"><span class=\"toc-item-num\">1.15&nbsp;&nbsp;</span>Project 7 - Combine Signals for Enhanced Alpha</a></span></li><li><span><a href=\"#Strengthen-Your-Online-Presence-Using-LinkedIn\" data-toc-modified-id=\"Strengthen-Your-Online-Presence-Using-LinkedIn-1.16\"><span class=\"toc-item-num\">1.16&nbsp;&nbsp;</span>Strengthen Your Online Presence Using LinkedIn</a></span></li><li><span><a href=\"#Optimize-Your-GitHub-Profile\" data-toc-modified-id=\"Optimize-Your-GitHub-Profile-1.17\"><span class=\"toc-item-num\">1.17&nbsp;&nbsp;</span>Optimize Your GitHub Profile</a></span></li><li><span><a href=\"#Project-8---Backtesting\" data-toc-modified-id=\"Project-8---Backtesting-1.18\"><span class=\"toc-item-num\">1.18&nbsp;&nbsp;</span>Project 8 - Backtesting</a></span></li></ul></li><li><span><a href=\"#Resources-&amp;-Links\" data-toc-modified-id=\"Resources-&amp;-Links-2\"><span class=\"toc-item-num\">2&nbsp;&nbsp;</span>Resources &amp; Links</a></span></li></ul></div>"
   ]
  },
  {
   "cell_type": "markdown",
   "metadata": {},
   "source": [
    "# Term 2: AI Algorithms in Trading \n",
    "**Welcome to Term 2! Say hello to your instructors and get an overview of the program.**\n",
    "\n",
    "__Tools__\n",
    "\n",
    "- [Code Notes (Hypothes.is)](https://hypothes.is/users/heath.d.robertson)\n",
    "- [Formulas (Screenshots)](https://photos.app.goo.gl/N8bkxPQvavkgvAxL7)\n",
    "- [LaTex Equation Editor](https://www.codecogs.com/latex/eqneditor.php)\n",
    "\n",
    "\n",
    "__Reference__\n",
    "\n",
    "- [Natural Language Toolkit (NLTK)](https://www.nltk.org/)\n",
    "- [Beautiful Soup](https://www.crummy.com/software/BeautifulSoup/bs4/doc/)\n",
    "- [Regular Expresssions](https://docs.python.org/3.6/library/re.html#module-re)\n",
    "\n",
    "__Projects__\n",
    "\n",
    "- [P5 NLP on Financial Statements](/notebooks/project_notebooks/p5/project_5_starter.ipynb)"
   ]
  },
  {
   "cell_type": "code",
   "execution_count": 1,
   "metadata": {},
   "outputs": [],
   "source": [
    "import os\n",
    "import re\n",
    "from pathlib import Path\n",
    "from IPython.display import display, Markdown\n",
    "\n",
    "\n",
    "def auto_notebook_links(p, t):\n",
    "    path = Path(p)\n",
    "\n",
    "    dir_contents = os.listdir(path)\n",
    "    all_notebooks = [file for file in dir_contents if file.endswith('.ipynb')]\n",
    "    notebooks = [\n",
    "        file for file in dir_contents\n",
    "        if file.endswith('.ipynb') and not file.endswith('_solution.ipynb')\n",
    "    ]\n",
    "    notebooks.sort()\n",
    "\n",
    "    display(Markdown(f'### {t}\\n___'))\n",
    "\n",
    "    for idx, file in enumerate(notebooks):\n",
    "        file_name = file.split(\".\")[0]\n",
    "        file_path = path / file\n",
    "        title = file_name.replace('_', \" \").title()\n",
    "\n",
    "        solution_file = f'{file_name}_solution.ipynb'\n",
    "\n",
    "        if solution_file in all_notebooks:\n",
    "            display(\n",
    "                Markdown(\n",
    "                    f'[{title}]({file_path}) : [Solution]({path / solution_file})'\n",
    "                ))\n",
    "        else:\n",
    "            display(Markdown(f'[{title}]({file_path})'))\n",
    "\n",
    "    display(\n",
    "        Markdown(\n",
    "            f'> Note: Mac:```Cmd+Click``` or Windows:```Shift+Click``` link to open in new window.'\n",
    "        ))"
   ]
  },
  {
   "cell_type": "markdown",
   "metadata": {},
   "source": [
    "## Lesson 1 - Welcome to Term 2!\n",
    "**Say hello to your instructors and get an overview of the program.**"
   ]
  },
  {
   "cell_type": "markdown",
   "metadata": {},
   "source": [
    "## Lesson 2 - Intro to Natural Language Processing\n",
    "**Learn how to build a Natural Language Processing pipeline.**"
   ]
  },
  {
   "cell_type": "markdown",
   "metadata": {},
   "source": [
    "## Lesson 3 Text Processing\n",
    "**Learn to prepare text obtained from different sources for further processing, by cleaning, normalizing and splitting it into individual words or tokens.**\n",
    "\n",
    "--- \n"
   ]
  },
  {
   "cell_type": "code",
   "execution_count": 2,
   "metadata": {},
   "outputs": [
    {
     "data": {
      "text/markdown": [
       "### __Code Examples__\n",
       "___"
      ],
      "text/plain": [
       "<IPython.core.display.Markdown object>"
      ]
     },
     "metadata": {},
     "output_type": "display_data"
    },
    {
     "data": {
      "text/markdown": [
       "[Text Processing-Zh](lesson_notebooks/l3/code_examples/text_processing-zh.ipynb)"
      ],
      "text/plain": [
       "<IPython.core.display.Markdown object>"
      ]
     },
     "metadata": {},
     "output_type": "display_data"
    },
    {
     "data": {
      "text/markdown": [
       "[Text Processing](lesson_notebooks/l3/code_examples/text_processing.ipynb)"
      ],
      "text/plain": [
       "<IPython.core.display.Markdown object>"
      ]
     },
     "metadata": {},
     "output_type": "display_data"
    },
    {
     "data": {
      "text/markdown": [
       "> Note: Mac:```Cmd+Click``` or Windows:```Shift+Click``` link to open in new window."
      ],
      "text/plain": [
       "<IPython.core.display.Markdown object>"
      ]
     },
     "metadata": {},
     "output_type": "display_data"
    }
   ],
   "source": [
    "auto_notebook_links('lesson_notebooks/l3/code_examples/', \"__Code Examples__\")"
   ]
  },
  {
   "cell_type": "code",
   "execution_count": 3,
   "metadata": {},
   "outputs": [
    {
     "data": {
      "text/markdown": [
       "### __Process Tweets__\n",
       "___"
      ],
      "text/plain": [
       "<IPython.core.display.Markdown object>"
      ]
     },
     "metadata": {},
     "output_type": "display_data"
    },
    {
     "data": {
      "text/markdown": [
       "[Process Tweets](lesson_notebooks/l3/process_tweets/process_tweets.ipynb) : [Solution](lesson_notebooks/l3/process_tweets/process_tweets_solution.ipynb)"
      ],
      "text/plain": [
       "<IPython.core.display.Markdown object>"
      ]
     },
     "metadata": {},
     "output_type": "display_data"
    },
    {
     "data": {
      "text/markdown": [
       "> Note: Mac:```Cmd+Click``` or Windows:```Shift+Click``` link to open in new window."
      ],
      "text/plain": [
       "<IPython.core.display.Markdown object>"
      ]
     },
     "metadata": {},
     "output_type": "display_data"
    }
   ],
   "source": [
    "auto_notebook_links('lesson_notebooks/l3/process_tweets/', \"__Process Tweets__\")"
   ]
  },
  {
   "cell_type": "markdown",
   "metadata": {},
   "source": [
    "## Lesson 4 - Feature Extraction\n",
    "**Transform text using methods like Bag-of-Words, TF-IDF, Word2Vec and GloVE to extract features that you can use in machine learning models.**"
   ]
  },
  {
   "cell_type": "markdown",
   "metadata": {},
   "source": [
    "## Lesson 5 - Financial Statements\n",
    "**Learn how to scrape data from financial documents using Regular Expressions and BeautifulSoup**\n",
    "\n",
    "### Python RegEx Module ([re](https://docs.python.org/3.6/library/re.html#module-re))\n",
    "\n",
    "\n",
    "### RegEx Cheatsheet\n",
    "\n",
    "**Metacharacters**\n",
    "* use a single `|` to say 'or'\n",
    "* `[ ]` - says any of the characters inside the brackets.\n",
    "* `( )` - a marked subexpression also called a block or capturing group.\n",
    "* `?` make the preceding token optional\n",
    "* `.+` - matches all characters to the end of the line\n",
    "* `*` - matches zero or more occurrences of the regular expression.\n",
    "* use parentheses to group characters as using the `|` alone divide the regex into only a left and right side.\n",
    "* `^` matches only if it's at the beginning of a string\n",
    "* `$` matches only if it's the end of a string\n",
    "* `+` is greedy - it won't just get the next token. it will keep searching until it reaches the last one.\n",
    "* `+?` is not greedy - it will just search to the next occurrence of a token.\n",
    "* `{3}` - would match 3 occurrences of the preceding token\n",
    "* `{3,4}` - could match the range of 3 to 4 characters of the preceding token\n",
    "\n",
    "**Flags**\n",
    "* `\\w` - matches any word character\n",
    "* `\\r` = carriage return\n",
    "* `\\n` = new lines\n",
    "* `\\s` = space characters\n",
    "* `\\w` = word character\n",
    "* `\\d` = digits 0-9\n",
    "\n",
    "**Lookahead and Lookbehind**\n",
    "* `(?=foo)`  = Lookahead.\n",
    "    * Asserts that what immediately follows the current position in the string is `foo`.\n",
    "* `(?<=foo)`  = Lookbehind.\n",
    "    * Asserts that what immediately precedes the current position in the string is `foo`.\n",
    "* `(?!foo)`  = Negative Lookahead\n",
    "    * \tAsserts that what immediately follows the current position in the string is not `foo`.\n",
    "* `(?<!foo)`  = Negative Lookbehind. \n",
    "    * Asserts that what immediately precedes the current position in the string is not `foo`."
   ]
  },
  {
   "cell_type": "code",
   "execution_count": 4,
   "metadata": {},
   "outputs": [
    {
     "data": {
      "text/markdown": [
       "### __Code Exercise__\n",
       "___"
      ],
      "text/plain": [
       "<IPython.core.display.Markdown object>"
      ]
     },
     "metadata": {},
     "output_type": "display_data"
    },
    {
     "data": {
      "text/markdown": [
       "[Applying Regexes 10Ks](lesson_notebooks/l5/regex/applying_regexes_10ks.ipynb) : [Solution](lesson_notebooks/l5/regex/applying_regexes_10ks_solution.ipynb)"
      ],
      "text/plain": [
       "<IPython.core.display.Markdown object>"
      ]
     },
     "metadata": {},
     "output_type": "display_data"
    },
    {
     "data": {
      "text/markdown": [
       "[Character Sets](lesson_notebooks/l5/regex/character_sets.ipynb) : [Solution](lesson_notebooks/l5/regex/character_sets_solution.ipynb)"
      ],
      "text/plain": [
       "<IPython.core.display.Markdown object>"
      ]
     },
     "metadata": {},
     "output_type": "display_data"
    },
    {
     "data": {
      "text/markdown": [
       "[Finding Complicated Patterns](lesson_notebooks/l5/regex/finding_complicated_patterns.ipynb) : [Solution](lesson_notebooks/l5/regex/finding_complicated_patterns_solution.ipynb)"
      ],
      "text/plain": [
       "<IPython.core.display.Markdown object>"
      ]
     },
     "metadata": {},
     "output_type": "display_data"
    },
    {
     "data": {
      "text/markdown": [
       "[Finding Metacharacters](lesson_notebooks/l5/regex/finding_metacharacters.ipynb) : [Solution](lesson_notebooks/l5/regex/finding_metacharacters_solution.ipynb)"
      ],
      "text/plain": [
       "<IPython.core.display.Markdown object>"
      ]
     },
     "metadata": {},
     "output_type": "display_data"
    },
    {
     "data": {
      "text/markdown": [
       "[Finding Words](lesson_notebooks/l5/regex/finding_words.ipynb) : [Solution](lesson_notebooks/l5/regex/finding_words_solution.ipynb)"
      ],
      "text/plain": [
       "<IPython.core.display.Markdown object>"
      ]
     },
     "metadata": {},
     "output_type": "display_data"
    },
    {
     "data": {
      "text/markdown": [
       "[Raw Strings](lesson_notebooks/l5/regex/raw_strings.ipynb)"
      ],
      "text/plain": [
       "<IPython.core.display.Markdown object>"
      ]
     },
     "metadata": {},
     "output_type": "display_data"
    },
    {
     "data": {
      "text/markdown": [
       "[Simple Metacharacters](lesson_notebooks/l5/regex/simple_metacharacters.ipynb)"
      ],
      "text/plain": [
       "<IPython.core.display.Markdown object>"
      ]
     },
     "metadata": {},
     "output_type": "display_data"
    },
    {
     "data": {
      "text/markdown": [
       "[Simple Patterns](lesson_notebooks/l5/regex/simple_patterns.ipynb) : [Solution](lesson_notebooks/l5/regex/simple_patterns_solution.ipynb)"
      ],
      "text/plain": [
       "<IPython.core.display.Markdown object>"
      ]
     },
     "metadata": {},
     "output_type": "display_data"
    },
    {
     "data": {
      "text/markdown": [
       "[Substitutions And Flags](lesson_notebooks/l5/regex/substitutions_and_flags.ipynb)"
      ],
      "text/plain": [
       "<IPython.core.display.Markdown object>"
      ]
     },
     "metadata": {},
     "output_type": "display_data"
    },
    {
     "data": {
      "text/markdown": [
       "[Word Boundaries](lesson_notebooks/l5/regex/word_boundaries.ipynb) : [Solution](lesson_notebooks/l5/regex/word_boundaries_solution.ipynb)"
      ],
      "text/plain": [
       "<IPython.core.display.Markdown object>"
      ]
     },
     "metadata": {},
     "output_type": "display_data"
    },
    {
     "data": {
      "text/markdown": [
       "> Note: Mac:```Cmd+Click``` or Windows:```Shift+Click``` link to open in new window."
      ],
      "text/plain": [
       "<IPython.core.display.Markdown object>"
      ]
     },
     "metadata": {},
     "output_type": "display_data"
    }
   ],
   "source": [
    "auto_notebook_links('lesson_notebooks/l5/regex/', \"__Code Exercise__\")"
   ]
  },
  {
   "cell_type": "markdown",
   "metadata": {},
   "source": [
    "## Lesson 6 - Basic NLP Analysis\n",
    "**Learn how to apply to NLP to financial statements**\n",
    "\n",
    "## Project 5: NLP on Financial Statements\n",
    "**NLP Analysis on 10-k financial statements to generate an alpha factor.**\n",
    "\n",
    "## Lesson 8 - Introduction to Neural Networks\n",
    "**In this lesson, Luis will teach you the foundations of deep learning and neural networks. You'll also implement gradient descent and backpropagation in python, right here in the classroom!**\n",
    "\n",
    "## Lesson 9 - Training Neural Networks\n",
    "**Now that you know what neural networks are, in this lesson you will learn several techniques to improve their training.**\n",
    "\n",
    "## Lesson 10 - Deep Learning with PyTorch\n",
    "**Learn how to use PyTorch for building deep learning models**\n",
    "\n",
    "## Lesson 11 - Recurrent Neural Networks\n",
    "**Learn how to use recurrent neural networks to learn from sequential data such as text. Build a network that can generate realistic text one letter at a time.**\n",
    "\n",
    "## Lesson 12 - Embeddings & Word2Vec\n",
    "**In this lesson, you'll learn about embeddings in neural networks by implementing the Word2Vec model.**\n",
    "\n",
    "## Lesson 13 - Sentiment Prediction RNN\n",
    "**Implement a sentiment prediction RNN for predicting whether a movie review is positive or negative!**\n",
    "\n",
    "## Project 6 - Sentiment Analysis with Neural Networks\n",
    "**Build a deep learning model to classify the sentiment of messages.**\n",
    "\n",
    "## Project 7 - Combine Signals for Enhanced Alpha\n",
    "**Coming soon!**\n",
    "\n",
    "## Strengthen Your Online Presence Using LinkedIn\n",
    "**Find your next job or connect with industry peers on LinkedIn. Ensure your profile attracts relevant leads that will grow your professional network.**\n",
    "\n",
    "## Optimize Your GitHub Profile\n",
    "**Other professionals are collaborating on GitHub and growing their network. Submit your profile to ensure your profile is on par with leaders in your field.**\n",
    "\n",
    "## Project 8 - Backtesting"
   ]
  },
  {
   "cell_type": "markdown",
   "metadata": {},
   "source": [
    "# Resources & Links\n",
    "\n",
    "- [MSCI Barra Risk Model](https://www.msci.com/www/research-paper/barra-s-risk-models/014972229)"
   ]
  },
  {
   "cell_type": "code",
   "execution_count": 5,
   "metadata": {},
   "outputs": [
    {
     "name": "stdout",
     "output_type": "stream",
     "text": [
      "I gotta string here with file.hmbrgr and other.ketchup\n"
     ]
    }
   ],
   "source": [
    "i_string = \"I gotta string here with file.txt and other.stuff\"\n",
    "\n",
    "is_it_really_that_simple = i_string.replace('.txt', '.hmbrgr').replace('.stuff', '.ketchup') \n",
    "\n",
    "print(is_it_really_that_simple)"
   ]
  },
  {
   "cell_type": "code",
   "execution_count": null,
   "metadata": {},
   "outputs": [],
   "source": []
  }
 ],
 "metadata": {
  "kernelspec": {
   "display_name": "Python 3",
   "language": "python",
   "name": "python3"
  },
  "language_info": {
   "codemirror_mode": {
    "name": "ipython",
    "version": 3
   },
   "file_extension": ".py",
   "mimetype": "text/x-python",
   "name": "python",
   "nbconvert_exporter": "python",
   "pygments_lexer": "ipython3",
   "version": "3.6.8"
  },
  "toc": {
   "base_numbering": "1",
   "nav_menu": {
    "height": "295px",
    "width": "480px"
   },
   "number_sections": true,
   "sideBar": true,
   "skip_h1_title": false,
   "title_cell": "Table of Contents",
   "title_sidebar": "Contents",
   "toc_cell": true,
   "toc_position": {
    "height": "calc(100% - 180px)",
    "left": "10px",
    "top": "150px",
    "width": "248.338px"
   },
   "toc_section_display": true,
   "toc_window_display": true
  }
 },
 "nbformat": 4,
 "nbformat_minor": 2
}
